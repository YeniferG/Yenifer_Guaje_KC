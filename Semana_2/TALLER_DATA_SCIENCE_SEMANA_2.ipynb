{
  "nbformat": 4,
  "nbformat_minor": 0,
  "metadata": {
    "colab": {
      "name": "TALLER DATA SCIENCE - SEMANA 2.ipynb",
      "provenance": [],
      "collapsed_sections": []
    },
    "kernelspec": {
      "name": "python3",
      "display_name": "Python 3"
    },
    "language_info": {
      "name": "python"
    }
  },
  "cells": [
    {
      "cell_type": "markdown",
      "metadata": {
        "id": "2n_JWubfoAlM"
      },
      "source": [
        "**<h1 align=\"center\">TALLER 2 DATA SCIENCE</h1>**"
      ]
    },
    {
      "cell_type": "markdown",
      "metadata": {
        "id": "wzNMIakIoLox"
      },
      "source": [
        "***1.*** Numeros palíndromos:\n",
        "Escriba una función que reciba un numero entero (positivo) o un String y entregue como respuesta si la entrada es o no un palíndromo."
      ]
    },
    {
      "cell_type": "code",
      "metadata": {
        "id": "UR3Fd4pusa5q"
      },
      "source": [
        "def palindromo(cadena1):\n",
        "  if (cadena1<'0'):\n",
        "    print(\"Ingrese un numero entero positivo\")\n",
        "  else:\n",
        "    cadena_nueva = \"\".join(reversed(cadena1))\n",
        "    if (cadena1.replace(\"\", \"\") == cadena_nueva.replace(\"\", \"\")):\n",
        "      print(\"La palabra es Palindromo\")\n",
        "      return print(\"La palabra leida en reversa es: \", \"\".join(reversed(cadena1)))\n",
        "    else:\n",
        "      print(\"La palabra no es Palindromo\")\n",
        "      return print(\"La palabra leida en reversa es: \", \"\".join(reversed(cadena1)))"
      ],
      "execution_count": 75,
      "outputs": []
    },
    {
      "cell_type": "code",
      "metadata": {
        "colab": {
          "base_uri": "https://localhost:8080/"
        },
        "id": "c83_0dbhLPmP",
        "outputId": "85bdc9d5-5785-4dad-c26d-11189005869f"
      },
      "source": [
        "palindromo(\"ARAÑA\")"
      ],
      "execution_count": 78,
      "outputs": [
        {
          "output_type": "stream",
          "text": [
            "La palabra no es Palindromo\n",
            "La palabra leida en reversa es:  AÑARA\n"
          ],
          "name": "stdout"
        }
      ]
    },
    {
      "cell_type": "markdown",
      "metadata": {
        "id": "eIvgc-64oW36"
      },
      "source": [
        "***2.*** Numeros primos: Escriba una función que reciba como entrada un número y determine si es o no un numero primo."
      ]
    },
    {
      "cell_type": "markdown",
      "metadata": {
        "id": "v0CDSnrzmwFh"
      },
      "source": [
        "***ALTERNATIVA 1***"
      ]
    },
    {
      "cell_type": "code",
      "metadata": {
        "id": "luxuXtlu0lW1"
      },
      "source": [
        "def es_primo(num):\n",
        "    for n in range(2, num):\n",
        "        if num % n == 0:\n",
        "            print(\"No es primo,\", n, \"es divisor\")\n",
        "            return False\n",
        "    print(\"El numero \",num,\" es primo\")\n",
        "    return True"
      ],
      "execution_count": 82,
      "outputs": []
    },
    {
      "cell_type": "code",
      "metadata": {
        "colab": {
          "base_uri": "https://localhost:8080/"
        },
        "id": "thL0tRak0m3Z",
        "outputId": "f988a741-2751-4e43-e9f3-d5c692ff7ff5"
      },
      "source": [
        "es_primo(12)"
      ],
      "execution_count": 83,
      "outputs": [
        {
          "output_type": "stream",
          "text": [
            "No es primo, 2 es divisor\n"
          ],
          "name": "stdout"
        },
        {
          "output_type": "execute_result",
          "data": {
            "text/plain": [
              "False"
            ]
          },
          "metadata": {
            "tags": []
          },
          "execution_count": 83
        }
      ]
    },
    {
      "cell_type": "markdown",
      "metadata": {
        "id": "LSHTxe9Zmy8X"
      },
      "source": [
        "***ALTERNATIVA 2***"
      ]
    },
    {
      "cell_type": "code",
      "metadata": {
        "id": "a7YbRqvmm2JC"
      },
      "source": [
        "def esPrimo(numero):\n",
        "    if numero <= 1:\n",
        "        return False\n",
        "    elif numero == 2:\n",
        "        return True\n",
        "    else:\n",
        "        for i in range(2, numero):\n",
        "            if numero % i == 0:\n",
        "                return False\n",
        "        return True "
      ],
      "execution_count": 135,
      "outputs": []
    },
    {
      "cell_type": "code",
      "metadata": {
        "colab": {
          "base_uri": "https://localhost:8080/"
        },
        "id": "0vpVjdFnm7hK",
        "outputId": "c68fa4d6-526c-40a6-8158-459e3e4add6d"
      },
      "source": [
        "esPrimo(int(input('Ingrese un numero:\\n ')))"
      ],
      "execution_count": 138,
      "outputs": [
        {
          "output_type": "stream",
          "text": [
            "Ingrese un numero:\n",
            " 4\n"
          ],
          "name": "stdout"
        },
        {
          "output_type": "execute_result",
          "data": {
            "text/plain": [
              "False"
            ]
          },
          "metadata": {
            "tags": []
          },
          "execution_count": 138
        }
      ]
    },
    {
      "cell_type": "markdown",
      "metadata": {
        "id": "r3IbdyEZnRus"
      },
      "source": [
        "***Para que los puntos 3 y 4 funcionen correctamente se debe ejecutar la función (esPrimo) planteada en la segunda alternativa del punto 2***"
      ]
    },
    {
      "cell_type": "markdown",
      "metadata": {
        "id": "-SiHIrCZogt5"
      },
      "source": [
        "***3.*** Numeros primos 2: Escriba una función que devuelva una lista de numeros primos con base a la cantidad que el usuario le solicite, Ejemplo si el usuario ingresa 3 debe retornar los 3 primeros numeros primos."
      ]
    },
    {
      "cell_type": "code",
      "metadata": {
        "id": "qiLPrjgxpOsf"
      },
      "source": [
        "def listaPrimos(cantidad):\n",
        "    arr=[]\n",
        "    for i in range(cantidad*3):\n",
        "        if (len(arr)!=cantidad) and (esPrimo(i)==True):\n",
        "            arr.append(i)\n",
        "    return arr"
      ],
      "execution_count": 114,
      "outputs": []
    },
    {
      "cell_type": "code",
      "metadata": {
        "colab": {
          "base_uri": "https://localhost:8080/"
        },
        "id": "ftNSnbj0fWNo",
        "outputId": "afb9adfb-7c48-4490-d988-62f8b87375f0"
      },
      "source": [
        "listaPrimos(int(input('Ingresa la cantidad de numeros primos a solicitar:\\n ')))"
      ],
      "execution_count": 120,
      "outputs": [
        {
          "output_type": "stream",
          "text": [
            "Ingresa la cantidad de numeros primos a solicitar:\n",
            " 4\n"
          ],
          "name": "stdout"
        },
        {
          "output_type": "execute_result",
          "data": {
            "text/plain": [
              "[2, 3, 5, 7]"
            ]
          },
          "metadata": {
            "tags": []
          },
          "execution_count": 120
        }
      ]
    },
    {
      "cell_type": "markdown",
      "metadata": {
        "id": "U7Rup1EgopLW"
      },
      "source": [
        "***4.*** Numeros primos 3: El primo de Mersenne es un numero primo de la forma 2\n",
        "𝑝 − 1, una de las propiedades de los primos de Mersenne es que p debe ser también un número primo, escriba una función que imprima la cantidad de numeros que el usuario solicite, Ejemplo: si el usuario ingreso 3 los\n",
        "primeros primos de Mersenne deberían ser 3, 7 y 31. "
      ]
    },
    {
      "cell_type": "code",
      "metadata": {
        "id": "7MHNtSkFpPtQ"
      },
      "source": [
        "import math\n",
        "def listaMersenne(cantidad):\n",
        "    arr=[]\n",
        "    for i in range(cantidad*50):\n",
        "        if (esPrimo(i)==True):\n",
        "            arr.append(i)\n",
        "    \n",
        "    merse=[]\n",
        "    for i in range(cantidad):\n",
        "        mersenne = math.pow(2,arr[i])-1\n",
        "        if(mersenne in arr):\n",
        "            merse.append(int(mersenne))\n",
        "    return merse"
      ],
      "execution_count": 118,
      "outputs": []
    },
    {
      "cell_type": "code",
      "metadata": {
        "colab": {
          "base_uri": "https://localhost:8080/"
        },
        "id": "Gs2xkySZjBDu",
        "outputId": "ecdbbc2e-5457-4bb6-ebde-37389c587a03"
      },
      "source": [
        "listaMersenne(int(input('Ingrese la cantidad de numeros que desea solicitar:\\n ')))"
      ],
      "execution_count": 122,
      "outputs": [
        {
          "output_type": "stream",
          "text": [
            "Ingrese la cantidad de numeros que desea solicitar:\n",
            " 4\n"
          ],
          "name": "stdout"
        },
        {
          "output_type": "execute_result",
          "data": {
            "text/plain": [
              "[3, 7, 31, 127]"
            ]
          },
          "metadata": {
            "tags": []
          },
          "execution_count": 122
        }
      ]
    },
    {
      "cell_type": "markdown",
      "metadata": {
        "id": "uvLPxEOFo1qB"
      },
      "source": [
        "***5.*** Máximo común divisor: Escriba una función que reciba dos numeros y retorne el cálculo de su máximo común divisor. "
      ]
    },
    {
      "cell_type": "code",
      "metadata": {
        "id": "rDIOhngipQqI"
      },
      "source": [
        "def mcd(x,y):\n",
        "  mcd = 1\n",
        "  if (x % y == 0):\n",
        "    return y\n",
        "  for i in range(int(y/2), 0, -1):\n",
        "    if (x % i == 0) and (y % i == 0):\n",
        "      mcd = i\n",
        "    break\n",
        "  return mcd"
      ],
      "execution_count": 129,
      "outputs": []
    },
    {
      "cell_type": "code",
      "metadata": {
        "colab": {
          "base_uri": "https://localhost:8080/"
        },
        "id": "uO5JU29Eqeri",
        "outputId": "e5161089-fb77-46e2-8d15-29c3c2e62d77"
      },
      "source": [
        "mcd(16,8)"
      ],
      "execution_count": 130,
      "outputs": [
        {
          "output_type": "execute_result",
          "data": {
            "text/plain": [
              "8"
            ]
          },
          "metadata": {
            "tags": []
          },
          "execution_count": 130
        }
      ]
    },
    {
      "cell_type": "markdown",
      "metadata": {
        "id": "I3S7w4mUpD3R"
      },
      "source": [
        "***6.*** Numeros romanos: Escriba una función que reciba un numero y retorne como resultado el numero romano de dicho\n",
        "número. "
      ]
    },
    {
      "cell_type": "markdown",
      "metadata": {
        "id": "M8A4RK-2mg_W"
      },
      "source": [
        "***ALTERNATIVA 1***"
      ]
    },
    {
      "cell_type": "code",
      "metadata": {
        "id": "Ufytf9-s8cXc"
      },
      "source": [
        "def num_romanos():\n",
        "  Unidad=[\"\", \"I\", \"II\", \"III\", \"IV\", \"V\", \"VI\", \"VII\", \"VIII\", \"IX\"]\n",
        "  Decena=[\"\", \"X\", \"XX\", \"XXX\", \"XL\", \"L\", \"LX\", \"LXX\", \"LXXX\", \"XC\"]\n",
        "  Centena=[\"\", \"C\", \"CC\", \"CCC\", \"CD\", \"D\", \"DC\", \"DCC\", \"DCCC\", \"CM\"]\n",
        "  n=int(input(\"Ingrese un numero entero\\n\"))\n",
        "  u = n % 10\n",
        "  d = int(math.floor(n/10))%10\n",
        "  c = int(math.floor(n/100))\n",
        "  if (n>=100):\n",
        "    print(Centena[c]+Decena[d]+Unidad[u])\n",
        "  else:\n",
        "    if (n>=10):\n",
        "      print(Decena[d]+Unidad[u])\n",
        "    else:\n",
        "      print(Unidad[n])"
      ],
      "execution_count": 131,
      "outputs": []
    },
    {
      "cell_type": "code",
      "metadata": {
        "colab": {
          "base_uri": "https://localhost:8080/"
        },
        "id": "ySYBSFI88_d9",
        "outputId": "5dd046a9-5d0e-49ed-c1ec-90ea5f9e92ca"
      },
      "source": [
        "num_romanos()"
      ],
      "execution_count": 132,
      "outputs": [
        {
          "output_type": "stream",
          "text": [
            "Ingrese un numero entero\n",
            "98\n",
            "XCVIII\n"
          ],
          "name": "stdout"
        }
      ]
    },
    {
      "cell_type": "markdown",
      "metadata": {
        "id": "Z6ZTaoC3mlN7"
      },
      "source": [
        "***ALTERNATIVA 2***"
      ]
    },
    {
      "cell_type": "code",
      "metadata": {
        "id": "YERLgTTomX1k"
      },
      "source": [
        "def convertirARomanos(numero):\n",
        "    numeros = [1000, 900, 500, 400, 100, 90, 50, 40, 10, 9, 5, 4, 1]\n",
        "    romanos = ['M', 'CM', 'D', 'CD', 'C', 'XC', 'L', 'XL', 'X', 'IX', 'V', 'IV', 'I']\n",
        "\n",
        "    conversion = ''\n",
        "    i = 0\n",
        "\n",
        "    while numero > 0: \n",
        "        for _ in range(numero // numeros[i]):\n",
        "            conversion += romanos[i]\n",
        "            numero -= numeros[i]\n",
        "        i+=1\n",
        "        \n",
        "    return conversion"
      ],
      "execution_count": 133,
      "outputs": []
    },
    {
      "cell_type": "code",
      "metadata": {
        "colab": {
          "base_uri": "https://localhost:8080/"
        },
        "id": "-Enex576mZec",
        "outputId": "d7ab1d4b-f64d-438d-b217-7f4c76857478"
      },
      "source": [
        "print(convertirARomanos(1672))"
      ],
      "execution_count": 134,
      "outputs": [
        {
          "output_type": "stream",
          "text": [
            "MDCLXXII\n"
          ],
          "name": "stdout"
        }
      ]
    }
  ]
}