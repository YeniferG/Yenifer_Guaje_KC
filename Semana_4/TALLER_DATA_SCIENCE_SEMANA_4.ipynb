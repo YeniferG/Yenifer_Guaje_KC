{
  "nbformat": 4,
  "nbformat_minor": 0,
  "metadata": {
    "celltoolbar": "Raw Cell Format",
    "kernelspec": {
      "display_name": "Python 3",
      "language": "python",
      "name": "python3"
    },
    "language_info": {
      "codemirror_mode": {
        "name": "ipython",
        "version": 3
      },
      "file_extension": ".py",
      "mimetype": "text/x-python",
      "name": "python",
      "nbconvert_exporter": "python",
      "pygments_lexer": "ipython3",
      "version": "3.7.10"
    },
    "colab": {
      "name": "TALLER DATA SCIENCE - SEMANA 4.ipynb",
      "provenance": [],
      "collapsed_sections": [
        "yCqeIHMBENjU",
        "-HdlNxPKENjW"
      ]
    }
  },
  "cells": [
    {
      "cell_type": "markdown",
      "metadata": {
        "id": "L1q6nAxJEd_b"
      },
      "source": [
        "**<h1 align=\"center\">TALLER 4 DATA SCIENCE</h1>**"
      ]
    },
    {
      "cell_type": "markdown",
      "metadata": {
        "id": "S_EAjjnpENiA"
      },
      "source": [
        "# ¿Cómo podemos controlar el creciente número de accidentes en Nueva York?"
      ]
    },
    {
      "cell_type": "code",
      "metadata": {
        "id": "fCyFLxl2ENiN"
      },
      "source": [
        "import json\n",
        "import requests\n",
        "from bs4 import BeautifulSoup\n",
        "import pandas as pd\n",
        "import matplotlib.pyplot as plt\n",
        "import seaborn as sns\n",
        "import numpy"
      ],
      "execution_count": 1,
      "outputs": []
    },
    {
      "cell_type": "markdown",
      "metadata": {
        "id": "m2ST_OIHFSVz"
      },
      "source": [
        "# Lectura de ficheros"
      ]
    },
    {
      "cell_type": "code",
      "metadata": {
        "colab": {
          "base_uri": "https://localhost:8080/"
        },
        "id": "zsJf76YWEiBj",
        "outputId": "dcf4b7a7-97b8-492f-f00d-a61182f5c8a1"
      },
      "source": [
        "from google.colab import drive\n",
        "import os\n",
        "drive.mount('/content/gdrive')"
      ],
      "execution_count": 2,
      "outputs": [
        {
          "output_type": "stream",
          "name": "stdout",
          "text": [
            "Mounted at /content/gdrive\n"
          ]
        }
      ]
    },
    {
      "cell_type": "code",
      "metadata": {
        "colab": {
          "base_uri": "https://localhost:8080/"
        },
        "id": "HeDhpN-wFfud",
        "outputId": "41cddb55-d87d-407a-8269-a5da248b6da4"
      },
      "source": [
        "%cd '/content/gdrive/MyDrive/DATA SCIENCE - BOOTCAMP/TALLER 4 - DATA SCIENCE/Taller4_Caso_real_NYC'"
      ],
      "execution_count": 3,
      "outputs": [
        {
          "output_type": "stream",
          "name": "stdout",
          "text": [
            "/content/gdrive/MyDrive/DATA SCIENCE - BOOTCAMP/TALLER 4 - DATA SCIENCE/Taller4_Caso_real_NYC\n"
          ]
        }
      ]
    },
    {
      "cell_type": "markdown",
      "metadata": {
        "id": "EQWfJelyENiT"
      },
      "source": [
        "## Introduccion"
      ]
    },
    {
      "cell_type": "markdown",
      "metadata": {
        "id": "8Q0Ud3rIENiW"
      },
      "source": [
        "**Contexto empresarial.** La ciudad de Nueva York ha experimentado un aumento en el número de accidentes en las carreteras de la ciudad. Quieren saber si el número de accidentes ha aumentado en las últimas semanas. Para todos los accidentes reportados, han recopilado detalles para cada accidente y han estado manteniendo registros durante el último año y medio (desde enero de 2018 hasta agosto de 2019).\n",
        "\n",
        "La ciudad te ha contratado para que construyas visualizaciones que les ayuden a identificar patrones en accidentes, lo que les ayudaría a tomar acciones preventivas para reducir la cantidad de accidentes en el futuro. Tienen ciertos parámetros como municipio, hora del día, motivo del accidente, etc. De los que se preocupan y de los que les gustaría obtener información específica."
      ]
    },
    {
      "cell_type": "markdown",
      "metadata": {
        "id": "o8OGYgBaENia"
      },
      "source": [
        "**Problema comercial.** Su tarea es formatear los datos proporcionados y proporcionar visualizaciones que respondan las preguntas específicas que tiene el cliente, que se mencionan a continuación."
      ]
    },
    {
      "cell_type": "markdown",
      "metadata": {
        "id": "uxvPXQuNENic"
      },
      "source": [
        "**Contexto analítico.** Se le proporciona un archivo CSV (almacenado en la carpeta ```datos``` ya creada) que contiene detalles sobre cada accidente, como fecha, hora, ubicación del accidente, motivo del accidente, tipos de vehículos involucrados, recuento de lesiones y muertes, etc. El delimitador en el archivo CSV dado es `;` en lugar del predeterminado `,`. Realizará las siguientes tareas con los datos:\n",
        "\n",
        "1. Extraiga datos adicionales del municipio almacenados en un archivo JSON\n",
        "2. Leer, transformar y preparar datos para su visualización\n",
        "3. Realizar análisis y construir visualizaciones de los datos para identificar patrones en el conjunto de datos.\n",
        "        \n",
        "El cliente tiene un conjunto específico de preguntas a las que le gustaría obtener respuestas. Deberá proporcionar visualizaciones para acompañar estos:\n",
        "\n",
        "1. ¿Cómo ha fluctuado el número de accidentes durante el último año y medio? ¿Han aumentado con el tiempo?\n",
        "2. Para un día en particular, ¿durante qué horas es más probable que ocurran accidentes?\n",
        "3. ¿Hay más accidentes entre semana que durante los fines de semana?\n",
        "4. ¿Cuál es la proporción de recuento de accidentes por área por municipio? ¿Qué distritos tienen un número desproporcionadamente grande de accidentes para su tamaño?\n",
        "5. Para cada municipio, ¿durante qué horas es más probable que ocurran accidentes?\n",
        "6. ¿Cuáles son las 5 principales causas de accidentes en la ciudad?\n",
        "7. ¿Qué tipos de vehículos están más involucrados en accidentes por municipio?\n",
        "8. ¿Qué tipos de vehículos están más involucrados en las muertes?"
      ]
    },
    {
      "cell_type": "markdown",
      "metadata": {
        "id": "9gtb7nHXENig"
      },
      "source": [
        "## Obteniendo los datos relevantes"
      ]
    },
    {
      "cell_type": "markdown",
      "metadata": {
        "id": "Y6GXxnFlENij"
      },
      "source": [
        "El cliente ha solicitado un análisis de la relación accidentes-área de los distritos. Los datos del municipio se almacenan en un archivo JSON en la carpeta ```datos```."
      ]
    },
    {
      "cell_type": "markdown",
      "metadata": {
        "id": "sQFsZC85ENin"
      },
      "source": [
        "### Pregunta \n",
        "\n",
        "Utilice la función ```json.load()``` para cargar el archivo ```borough_data.json``` como diccionario."
      ]
    },
    {
      "cell_type": "markdown",
      "metadata": {
        "id": "z-uZ1Z81ENis"
      },
      "source": [
        "**Respuesta.** "
      ]
    },
    {
      "cell_type": "code",
      "metadata": {
        "colab": {
          "base_uri": "https://localhost:8080/"
        },
        "id": "r-AwxVtHENiu",
        "outputId": "c15f262f-7ca8-44ad-82b5-b549d57ce200"
      },
      "source": [
        "with open('Caso NYC/data/borough_data.json') as f:\n",
        "    borough_data=json.load(f)\n",
        "    \n",
        "borough_data"
      ],
      "execution_count": 4,
      "outputs": [
        {
          "output_type": "execute_result",
          "data": {
            "text/plain": [
              "{'brooklyn': {'area': 70.82, 'name': 'brooklyn', 'population': 2648771.0},\n",
              " 'manhattan': {'area': 22.83, 'name': 'manhattan', 'population': 1664727.0},\n",
              " 'queens': {'area': 108.53, 'name': 'queens', 'population': 2358582.0},\n",
              " 'staten island': {'area': 58.37,\n",
              "  'name': 'staten island',\n",
              "  'population': 479458.0},\n",
              " 'the bronx': {'area': 42.1, 'name': 'the bronx', 'population': 1471160.0}}"
            ]
          },
          "metadata": {},
          "execution_count": 4
        }
      ]
    },
    {
      "cell_type": "markdown",
      "metadata": {
        "id": "HHDqzQW6ENix"
      },
      "source": [
        "### Pregunta \n",
        "De manera similar, use la función pandas ```read_csv()``` para cargar el archivo ```accidentes.csv``` como un DataFrame. Nombra este DataFrame ```df```.\n"
      ]
    },
    {
      "cell_type": "markdown",
      "metadata": {
        "id": "_Zaf9z5sENiy"
      },
      "source": [
        "**Respuesta.** "
      ]
    },
    {
      "cell_type": "code",
      "metadata": {
        "colab": {
          "base_uri": "https://localhost:8080/"
        },
        "id": "k7cgRHKfENiz",
        "outputId": "7de22f9a-653f-4216-b2fd-8d885cb4cb30"
      },
      "source": [
        "with open('Caso NYC/data/accidents.csv') as f:\n",
        "    df=pd.read_csv(f, delimiter=';')\n",
        "type(df)"
      ],
      "execution_count": 5,
      "outputs": [
        {
          "output_type": "execute_result",
          "data": {
            "text/plain": [
              "pandas.core.frame.DataFrame"
            ]
          },
          "metadata": {},
          "execution_count": 5
        }
      ]
    },
    {
      "cell_type": "code",
      "metadata": {
        "colab": {
          "base_uri": "https://localhost:8080/",
          "height": 813
        },
        "id": "BIwRmXM0H0rU",
        "outputId": "a0b4a4ef-ea24-473a-c344-6d681bd260cb"
      },
      "source": [
        "df=pd.read_csv('Caso NYC/data/accidents.csv',delimiter=\";\")\n",
        "df"
      ],
      "execution_count": 6,
      "outputs": [
        {
          "output_type": "execute_result",
          "data": {
            "text/html": [
              "<div>\n",
              "<style scoped>\n",
              "    .dataframe tbody tr th:only-of-type {\n",
              "        vertical-align: middle;\n",
              "    }\n",
              "\n",
              "    .dataframe tbody tr th {\n",
              "        vertical-align: top;\n",
              "    }\n",
              "\n",
              "    .dataframe thead th {\n",
              "        text-align: right;\n",
              "    }\n",
              "</style>\n",
              "<table border=\"1\" class=\"dataframe\">\n",
              "  <thead>\n",
              "    <tr style=\"text-align: right;\">\n",
              "      <th></th>\n",
              "      <th>DATE</th>\n",
              "      <th>TIME</th>\n",
              "      <th>BOROUGH</th>\n",
              "      <th>ZIP CODE</th>\n",
              "      <th>LATITUDE</th>\n",
              "      <th>LONGITUDE</th>\n",
              "      <th>ON STREET NAME</th>\n",
              "      <th>NUMBER OF PEDESTRIANS INJURED</th>\n",
              "      <th>NUMBER OF PEDESTRIANS KILLED</th>\n",
              "      <th>NUMBER OF CYCLIST INJURED</th>\n",
              "      <th>NUMBER OF CYCLIST KILLED</th>\n",
              "      <th>NUMBER OF MOTORIST INJURED</th>\n",
              "      <th>NUMBER OF MOTORIST KILLED</th>\n",
              "      <th>CONTRIBUTING FACTOR VEHICLE 1</th>\n",
              "      <th>CONTRIBUTING FACTOR VEHICLE 2</th>\n",
              "      <th>CONTRIBUTING FACTOR VEHICLE 3</th>\n",
              "      <th>CONTRIBUTING FACTOR VEHICLE 4</th>\n",
              "      <th>CONTRIBUTING FACTOR VEHICLE 5</th>\n",
              "      <th>COLLISION_ID</th>\n",
              "      <th>VEHICLE TYPE CODE 1</th>\n",
              "      <th>VEHICLE TYPE CODE 2</th>\n",
              "      <th>VEHICLE TYPE CODE 3</th>\n",
              "      <th>VEHICLE TYPE CODE 4</th>\n",
              "      <th>VEHICLE TYPE CODE 5</th>\n",
              "    </tr>\n",
              "  </thead>\n",
              "  <tbody>\n",
              "    <tr>\n",
              "      <th>0</th>\n",
              "      <td>09/26/2018</td>\n",
              "      <td>12:12</td>\n",
              "      <td>BRONX</td>\n",
              "      <td>10454.0</td>\n",
              "      <td>40.808987</td>\n",
              "      <td>-73.911316</td>\n",
              "      <td>NaN</td>\n",
              "      <td>0</td>\n",
              "      <td>0</td>\n",
              "      <td>0</td>\n",
              "      <td>0</td>\n",
              "      <td>0</td>\n",
              "      <td>0</td>\n",
              "      <td>Unspecified</td>\n",
              "      <td>NaN</td>\n",
              "      <td>NaN</td>\n",
              "      <td>NaN</td>\n",
              "      <td>NaN</td>\n",
              "      <td>3988123</td>\n",
              "      <td>Sedan</td>\n",
              "      <td>NaN</td>\n",
              "      <td>NaN</td>\n",
              "      <td>NaN</td>\n",
              "      <td>NaN</td>\n",
              "    </tr>\n",
              "    <tr>\n",
              "      <th>1</th>\n",
              "      <td>09/25/2018</td>\n",
              "      <td>16:30</td>\n",
              "      <td>BROOKLYN</td>\n",
              "      <td>11236.0</td>\n",
              "      <td>40.636005</td>\n",
              "      <td>-73.912510</td>\n",
              "      <td>FLATLANDS AVENUE</td>\n",
              "      <td>1</td>\n",
              "      <td>0</td>\n",
              "      <td>0</td>\n",
              "      <td>0</td>\n",
              "      <td>0</td>\n",
              "      <td>0</td>\n",
              "      <td>Unspecified</td>\n",
              "      <td>NaN</td>\n",
              "      <td>NaN</td>\n",
              "      <td>NaN</td>\n",
              "      <td>NaN</td>\n",
              "      <td>3987962</td>\n",
              "      <td>Sedan</td>\n",
              "      <td>NaN</td>\n",
              "      <td>NaN</td>\n",
              "      <td>NaN</td>\n",
              "      <td>NaN</td>\n",
              "    </tr>\n",
              "    <tr>\n",
              "      <th>2</th>\n",
              "      <td>08/22/2019</td>\n",
              "      <td>19:30</td>\n",
              "      <td>QUEENS</td>\n",
              "      <td>11101.0</td>\n",
              "      <td>40.755490</td>\n",
              "      <td>-73.939530</td>\n",
              "      <td>NaN</td>\n",
              "      <td>0</td>\n",
              "      <td>0</td>\n",
              "      <td>0</td>\n",
              "      <td>0</td>\n",
              "      <td>0</td>\n",
              "      <td>0</td>\n",
              "      <td>Unspecified</td>\n",
              "      <td>NaN</td>\n",
              "      <td>NaN</td>\n",
              "      <td>NaN</td>\n",
              "      <td>NaN</td>\n",
              "      <td>4193132</td>\n",
              "      <td>Sedan</td>\n",
              "      <td>NaN</td>\n",
              "      <td>NaN</td>\n",
              "      <td>NaN</td>\n",
              "      <td>NaN</td>\n",
              "    </tr>\n",
              "    <tr>\n",
              "      <th>3</th>\n",
              "      <td>09/23/2018</td>\n",
              "      <td>13:10</td>\n",
              "      <td>QUEENS</td>\n",
              "      <td>11367.0</td>\n",
              "      <td>NaN</td>\n",
              "      <td>NaN</td>\n",
              "      <td>MAIN STREET</td>\n",
              "      <td>0</td>\n",
              "      <td>0</td>\n",
              "      <td>1</td>\n",
              "      <td>0</td>\n",
              "      <td>0</td>\n",
              "      <td>0</td>\n",
              "      <td>Driver Inattention/Distraction</td>\n",
              "      <td>Unspecified</td>\n",
              "      <td>NaN</td>\n",
              "      <td>NaN</td>\n",
              "      <td>NaN</td>\n",
              "      <td>3985962</td>\n",
              "      <td>Bike</td>\n",
              "      <td>Station Wagon/Sport Utility Vehicle</td>\n",
              "      <td>NaN</td>\n",
              "      <td>NaN</td>\n",
              "      <td>NaN</td>\n",
              "    </tr>\n",
              "    <tr>\n",
              "      <th>4</th>\n",
              "      <td>08/20/2019</td>\n",
              "      <td>22:40</td>\n",
              "      <td>BRONX</td>\n",
              "      <td>10468.0</td>\n",
              "      <td>40.868336</td>\n",
              "      <td>-73.901270</td>\n",
              "      <td>NaN</td>\n",
              "      <td>0</td>\n",
              "      <td>0</td>\n",
              "      <td>0</td>\n",
              "      <td>0</td>\n",
              "      <td>1</td>\n",
              "      <td>0</td>\n",
              "      <td>View Obstructed/Limited</td>\n",
              "      <td>Unspecified</td>\n",
              "      <td>NaN</td>\n",
              "      <td>NaN</td>\n",
              "      <td>NaN</td>\n",
              "      <td>4192111</td>\n",
              "      <td>Sedan</td>\n",
              "      <td>Sedan</td>\n",
              "      <td>NaN</td>\n",
              "      <td>NaN</td>\n",
              "      <td>NaN</td>\n",
              "    </tr>\n",
              "    <tr>\n",
              "      <th>...</th>\n",
              "      <td>...</td>\n",
              "      <td>...</td>\n",
              "      <td>...</td>\n",
              "      <td>...</td>\n",
              "      <td>...</td>\n",
              "      <td>...</td>\n",
              "      <td>...</td>\n",
              "      <td>...</td>\n",
              "      <td>...</td>\n",
              "      <td>...</td>\n",
              "      <td>...</td>\n",
              "      <td>...</td>\n",
              "      <td>...</td>\n",
              "      <td>...</td>\n",
              "      <td>...</td>\n",
              "      <td>...</td>\n",
              "      <td>...</td>\n",
              "      <td>...</td>\n",
              "      <td>...</td>\n",
              "      <td>...</td>\n",
              "      <td>...</td>\n",
              "      <td>...</td>\n",
              "      <td>...</td>\n",
              "      <td>...</td>\n",
              "    </tr>\n",
              "    <tr>\n",
              "      <th>238517</th>\n",
              "      <td>01/20/2018</td>\n",
              "      <td>15:00</td>\n",
              "      <td>QUEENS</td>\n",
              "      <td>11436.0</td>\n",
              "      <td>40.685356</td>\n",
              "      <td>-73.797230</td>\n",
              "      <td>LINDEN BOULEVARD</td>\n",
              "      <td>0</td>\n",
              "      <td>0</td>\n",
              "      <td>0</td>\n",
              "      <td>0</td>\n",
              "      <td>0</td>\n",
              "      <td>0</td>\n",
              "      <td>Driver Inattention/Distraction</td>\n",
              "      <td>Unspecified</td>\n",
              "      <td>NaN</td>\n",
              "      <td>NaN</td>\n",
              "      <td>NaN</td>\n",
              "      <td>3832275</td>\n",
              "      <td>SPORT UTILITY / STATION WAGON</td>\n",
              "      <td>PASSENGER VEHICLE</td>\n",
              "      <td>NaN</td>\n",
              "      <td>NaN</td>\n",
              "      <td>NaN</td>\n",
              "    </tr>\n",
              "    <tr>\n",
              "      <th>238518</th>\n",
              "      <td>01/04/2018</td>\n",
              "      <td>14:00</td>\n",
              "      <td>BRONX</td>\n",
              "      <td>10452.0</td>\n",
              "      <td>40.845180</td>\n",
              "      <td>-73.914170</td>\n",
              "      <td>JEROME AVENUE</td>\n",
              "      <td>0</td>\n",
              "      <td>0</td>\n",
              "      <td>0</td>\n",
              "      <td>0</td>\n",
              "      <td>0</td>\n",
              "      <td>0</td>\n",
              "      <td>Pavement Slippery</td>\n",
              "      <td>NaN</td>\n",
              "      <td>NaN</td>\n",
              "      <td>NaN</td>\n",
              "      <td>NaN</td>\n",
              "      <td>3822315</td>\n",
              "      <td>SPORT UTILITY / STATION WAGON</td>\n",
              "      <td>NaN</td>\n",
              "      <td>NaN</td>\n",
              "      <td>NaN</td>\n",
              "      <td>NaN</td>\n",
              "    </tr>\n",
              "    <tr>\n",
              "      <th>238519</th>\n",
              "      <td>01/20/2018</td>\n",
              "      <td>13:05</td>\n",
              "      <td>BRONX</td>\n",
              "      <td>10462.0</td>\n",
              "      <td>40.831210</td>\n",
              "      <td>-73.850876</td>\n",
              "      <td>CASTLE HILL AVENUE</td>\n",
              "      <td>0</td>\n",
              "      <td>0</td>\n",
              "      <td>0</td>\n",
              "      <td>0</td>\n",
              "      <td>0</td>\n",
              "      <td>0</td>\n",
              "      <td>Unsafe Lane Changing</td>\n",
              "      <td>Unspecified</td>\n",
              "      <td>NaN</td>\n",
              "      <td>NaN</td>\n",
              "      <td>NaN</td>\n",
              "      <td>3832513</td>\n",
              "      <td>PASSENGER VEHICLE</td>\n",
              "      <td>SPORT UTILITY / STATION WAGON</td>\n",
              "      <td>NaN</td>\n",
              "      <td>NaN</td>\n",
              "      <td>NaN</td>\n",
              "    </tr>\n",
              "    <tr>\n",
              "      <th>238520</th>\n",
              "      <td>01/29/2018</td>\n",
              "      <td>17:45</td>\n",
              "      <td>QUEENS</td>\n",
              "      <td>11377.0</td>\n",
              "      <td>40.757250</td>\n",
              "      <td>-73.904854</td>\n",
              "      <td>31 AVENUE</td>\n",
              "      <td>0</td>\n",
              "      <td>0</td>\n",
              "      <td>0</td>\n",
              "      <td>0</td>\n",
              "      <td>2</td>\n",
              "      <td>0</td>\n",
              "      <td>Failure to Yield Right-of-Way</td>\n",
              "      <td>Unspecified</td>\n",
              "      <td>NaN</td>\n",
              "      <td>NaN</td>\n",
              "      <td>NaN</td>\n",
              "      <td>3837608</td>\n",
              "      <td>SPORT UTILITY / STATION WAGON</td>\n",
              "      <td>PASSENGER VEHICLE</td>\n",
              "      <td>NaN</td>\n",
              "      <td>NaN</td>\n",
              "      <td>NaN</td>\n",
              "    </tr>\n",
              "    <tr>\n",
              "      <th>238521</th>\n",
              "      <td>01/23/2018</td>\n",
              "      <td>16:38</td>\n",
              "      <td>BROOKLYN</td>\n",
              "      <td>11211.0</td>\n",
              "      <td>40.710197</td>\n",
              "      <td>-73.958430</td>\n",
              "      <td>HAVEMEYER STREET</td>\n",
              "      <td>0</td>\n",
              "      <td>0</td>\n",
              "      <td>0</td>\n",
              "      <td>0</td>\n",
              "      <td>0</td>\n",
              "      <td>0</td>\n",
              "      <td>Following Too Closely</td>\n",
              "      <td>Passing or Lane Usage Improper</td>\n",
              "      <td>NaN</td>\n",
              "      <td>NaN</td>\n",
              "      <td>NaN</td>\n",
              "      <td>3833631</td>\n",
              "      <td>SPORT UTILITY / STATION WAGON</td>\n",
              "      <td>SPORT UTILITY / STATION WAGON</td>\n",
              "      <td>NaN</td>\n",
              "      <td>NaN</td>\n",
              "      <td>NaN</td>\n",
              "    </tr>\n",
              "  </tbody>\n",
              "</table>\n",
              "<p>238522 rows × 24 columns</p>\n",
              "</div>"
            ],
            "text/plain": [
              "              DATE   TIME  ... VEHICLE TYPE CODE 4  VEHICLE TYPE CODE 5\n",
              "0       09/26/2018  12:12  ...                 NaN                  NaN\n",
              "1       09/25/2018  16:30  ...                 NaN                  NaN\n",
              "2       08/22/2019  19:30  ...                 NaN                  NaN\n",
              "3       09/23/2018  13:10  ...                 NaN                  NaN\n",
              "4       08/20/2019  22:40  ...                 NaN                  NaN\n",
              "...            ...    ...  ...                 ...                  ...\n",
              "238517  01/20/2018  15:00  ...                 NaN                  NaN\n",
              "238518  01/04/2018  14:00  ...                 NaN                  NaN\n",
              "238519  01/20/2018  13:05  ...                 NaN                  NaN\n",
              "238520  01/29/2018  17:45  ...                 NaN                  NaN\n",
              "238521  01/23/2018  16:38  ...                 NaN                  NaN\n",
              "\n",
              "[238522 rows x 24 columns]"
            ]
          },
          "metadata": {},
          "execution_count": 6
        }
      ]
    },
    {
      "cell_type": "markdown",
      "metadata": {
        "id": "JWXjhyvMENi1"
      },
      "source": [
        "## Overview de la data"
      ]
    },
    {
      "cell_type": "markdown",
      "metadata": {
        "id": "Z1HKPu3YENi2"
      },
      "source": [
        "Analizemos las columnas presentes en el data frame"
      ]
    },
    {
      "cell_type": "code",
      "metadata": {
        "colab": {
          "base_uri": "https://localhost:8080/",
          "height": 343
        },
        "id": "HkBwIAqrIdl5",
        "outputId": "13fa140c-3344-4eac-9019-6a5f0c7c3eef"
      },
      "source": [
        "df.head(5)"
      ],
      "execution_count": 7,
      "outputs": [
        {
          "output_type": "execute_result",
          "data": {
            "text/html": [
              "<div>\n",
              "<style scoped>\n",
              "    .dataframe tbody tr th:only-of-type {\n",
              "        vertical-align: middle;\n",
              "    }\n",
              "\n",
              "    .dataframe tbody tr th {\n",
              "        vertical-align: top;\n",
              "    }\n",
              "\n",
              "    .dataframe thead th {\n",
              "        text-align: right;\n",
              "    }\n",
              "</style>\n",
              "<table border=\"1\" class=\"dataframe\">\n",
              "  <thead>\n",
              "    <tr style=\"text-align: right;\">\n",
              "      <th></th>\n",
              "      <th>DATE</th>\n",
              "      <th>TIME</th>\n",
              "      <th>BOROUGH</th>\n",
              "      <th>ZIP CODE</th>\n",
              "      <th>LATITUDE</th>\n",
              "      <th>LONGITUDE</th>\n",
              "      <th>ON STREET NAME</th>\n",
              "      <th>NUMBER OF PEDESTRIANS INJURED</th>\n",
              "      <th>NUMBER OF PEDESTRIANS KILLED</th>\n",
              "      <th>NUMBER OF CYCLIST INJURED</th>\n",
              "      <th>NUMBER OF CYCLIST KILLED</th>\n",
              "      <th>NUMBER OF MOTORIST INJURED</th>\n",
              "      <th>NUMBER OF MOTORIST KILLED</th>\n",
              "      <th>CONTRIBUTING FACTOR VEHICLE 1</th>\n",
              "      <th>CONTRIBUTING FACTOR VEHICLE 2</th>\n",
              "      <th>CONTRIBUTING FACTOR VEHICLE 3</th>\n",
              "      <th>CONTRIBUTING FACTOR VEHICLE 4</th>\n",
              "      <th>CONTRIBUTING FACTOR VEHICLE 5</th>\n",
              "      <th>COLLISION_ID</th>\n",
              "      <th>VEHICLE TYPE CODE 1</th>\n",
              "      <th>VEHICLE TYPE CODE 2</th>\n",
              "      <th>VEHICLE TYPE CODE 3</th>\n",
              "      <th>VEHICLE TYPE CODE 4</th>\n",
              "      <th>VEHICLE TYPE CODE 5</th>\n",
              "    </tr>\n",
              "  </thead>\n",
              "  <tbody>\n",
              "    <tr>\n",
              "      <th>0</th>\n",
              "      <td>09/26/2018</td>\n",
              "      <td>12:12</td>\n",
              "      <td>BRONX</td>\n",
              "      <td>10454.0</td>\n",
              "      <td>40.808987</td>\n",
              "      <td>-73.911316</td>\n",
              "      <td>NaN</td>\n",
              "      <td>0</td>\n",
              "      <td>0</td>\n",
              "      <td>0</td>\n",
              "      <td>0</td>\n",
              "      <td>0</td>\n",
              "      <td>0</td>\n",
              "      <td>Unspecified</td>\n",
              "      <td>NaN</td>\n",
              "      <td>NaN</td>\n",
              "      <td>NaN</td>\n",
              "      <td>NaN</td>\n",
              "      <td>3988123</td>\n",
              "      <td>Sedan</td>\n",
              "      <td>NaN</td>\n",
              "      <td>NaN</td>\n",
              "      <td>NaN</td>\n",
              "      <td>NaN</td>\n",
              "    </tr>\n",
              "    <tr>\n",
              "      <th>1</th>\n",
              "      <td>09/25/2018</td>\n",
              "      <td>16:30</td>\n",
              "      <td>BROOKLYN</td>\n",
              "      <td>11236.0</td>\n",
              "      <td>40.636005</td>\n",
              "      <td>-73.912510</td>\n",
              "      <td>FLATLANDS AVENUE</td>\n",
              "      <td>1</td>\n",
              "      <td>0</td>\n",
              "      <td>0</td>\n",
              "      <td>0</td>\n",
              "      <td>0</td>\n",
              "      <td>0</td>\n",
              "      <td>Unspecified</td>\n",
              "      <td>NaN</td>\n",
              "      <td>NaN</td>\n",
              "      <td>NaN</td>\n",
              "      <td>NaN</td>\n",
              "      <td>3987962</td>\n",
              "      <td>Sedan</td>\n",
              "      <td>NaN</td>\n",
              "      <td>NaN</td>\n",
              "      <td>NaN</td>\n",
              "      <td>NaN</td>\n",
              "    </tr>\n",
              "    <tr>\n",
              "      <th>2</th>\n",
              "      <td>08/22/2019</td>\n",
              "      <td>19:30</td>\n",
              "      <td>QUEENS</td>\n",
              "      <td>11101.0</td>\n",
              "      <td>40.755490</td>\n",
              "      <td>-73.939530</td>\n",
              "      <td>NaN</td>\n",
              "      <td>0</td>\n",
              "      <td>0</td>\n",
              "      <td>0</td>\n",
              "      <td>0</td>\n",
              "      <td>0</td>\n",
              "      <td>0</td>\n",
              "      <td>Unspecified</td>\n",
              "      <td>NaN</td>\n",
              "      <td>NaN</td>\n",
              "      <td>NaN</td>\n",
              "      <td>NaN</td>\n",
              "      <td>4193132</td>\n",
              "      <td>Sedan</td>\n",
              "      <td>NaN</td>\n",
              "      <td>NaN</td>\n",
              "      <td>NaN</td>\n",
              "      <td>NaN</td>\n",
              "    </tr>\n",
              "    <tr>\n",
              "      <th>3</th>\n",
              "      <td>09/23/2018</td>\n",
              "      <td>13:10</td>\n",
              "      <td>QUEENS</td>\n",
              "      <td>11367.0</td>\n",
              "      <td>NaN</td>\n",
              "      <td>NaN</td>\n",
              "      <td>MAIN STREET</td>\n",
              "      <td>0</td>\n",
              "      <td>0</td>\n",
              "      <td>1</td>\n",
              "      <td>0</td>\n",
              "      <td>0</td>\n",
              "      <td>0</td>\n",
              "      <td>Driver Inattention/Distraction</td>\n",
              "      <td>Unspecified</td>\n",
              "      <td>NaN</td>\n",
              "      <td>NaN</td>\n",
              "      <td>NaN</td>\n",
              "      <td>3985962</td>\n",
              "      <td>Bike</td>\n",
              "      <td>Station Wagon/Sport Utility Vehicle</td>\n",
              "      <td>NaN</td>\n",
              "      <td>NaN</td>\n",
              "      <td>NaN</td>\n",
              "    </tr>\n",
              "    <tr>\n",
              "      <th>4</th>\n",
              "      <td>08/20/2019</td>\n",
              "      <td>22:40</td>\n",
              "      <td>BRONX</td>\n",
              "      <td>10468.0</td>\n",
              "      <td>40.868336</td>\n",
              "      <td>-73.901270</td>\n",
              "      <td>NaN</td>\n",
              "      <td>0</td>\n",
              "      <td>0</td>\n",
              "      <td>0</td>\n",
              "      <td>0</td>\n",
              "      <td>1</td>\n",
              "      <td>0</td>\n",
              "      <td>View Obstructed/Limited</td>\n",
              "      <td>Unspecified</td>\n",
              "      <td>NaN</td>\n",
              "      <td>NaN</td>\n",
              "      <td>NaN</td>\n",
              "      <td>4192111</td>\n",
              "      <td>Sedan</td>\n",
              "      <td>Sedan</td>\n",
              "      <td>NaN</td>\n",
              "      <td>NaN</td>\n",
              "      <td>NaN</td>\n",
              "    </tr>\n",
              "  </tbody>\n",
              "</table>\n",
              "</div>"
            ],
            "text/plain": [
              "         DATE   TIME  ... VEHICLE TYPE CODE 4  VEHICLE TYPE CODE 5\n",
              "0  09/26/2018  12:12  ...                 NaN                  NaN\n",
              "1  09/25/2018  16:30  ...                 NaN                  NaN\n",
              "2  08/22/2019  19:30  ...                 NaN                  NaN\n",
              "3  09/23/2018  13:10  ...                 NaN                  NaN\n",
              "4  08/20/2019  22:40  ...                 NaN                  NaN\n",
              "\n",
              "[5 rows x 24 columns]"
            ]
          },
          "metadata": {},
          "execution_count": 7
        }
      ]
    },
    {
      "cell_type": "code",
      "metadata": {
        "scrolled": true,
        "colab": {
          "base_uri": "https://localhost:8080/"
        },
        "id": "jrWj5PNmENi2",
        "outputId": "4e29ec88-d00d-4d9a-d3f0-b643acd94e42"
      },
      "source": [
        "df.columns"
      ],
      "execution_count": 8,
      "outputs": [
        {
          "output_type": "execute_result",
          "data": {
            "text/plain": [
              "Index(['DATE', 'TIME', 'BOROUGH', 'ZIP CODE', 'LATITUDE', 'LONGITUDE',\n",
              "       'ON STREET NAME', 'NUMBER OF PEDESTRIANS INJURED',\n",
              "       'NUMBER OF PEDESTRIANS KILLED', 'NUMBER OF CYCLIST INJURED',\n",
              "       'NUMBER OF CYCLIST KILLED', 'NUMBER OF MOTORIST INJURED',\n",
              "       'NUMBER OF MOTORIST KILLED', 'CONTRIBUTING FACTOR VEHICLE 1',\n",
              "       'CONTRIBUTING FACTOR VEHICLE 2', 'CONTRIBUTING FACTOR VEHICLE 3',\n",
              "       'CONTRIBUTING FACTOR VEHICLE 4', 'CONTRIBUTING FACTOR VEHICLE 5',\n",
              "       'COLLISION_ID', 'VEHICLE TYPE CODE 1', 'VEHICLE TYPE CODE 2',\n",
              "       'VEHICLE TYPE CODE 3', 'VEHICLE TYPE CODE 4', 'VEHICLE TYPE CODE 5'],\n",
              "      dtype='object')"
            ]
          },
          "metadata": {},
          "execution_count": 8
        }
      ]
    },
    {
      "cell_type": "markdown",
      "metadata": {
        "id": "ZhqOVMVGENi4"
      },
      "source": [
        "Tenemos las siguientes columnas\n",
        "\n",
        "1. **BOROUGH**: el municipio en el que ocurrió el accidente\n",
        "2. **COLLISION_ID**: un identificador único para esta colisión\n",
        "3. **CONTRIBUTING FACTOR VEHICLE (1, 2, 3, 4, 5)**: Motivos del accidente\n",
        "4. **CROSS STREET NAME**: Calle transversal más cercana al lugar del accidente\n",
        "5. **DATE**: Fecha del accidente\n",
        "6. **TIME**: Hora del accidente\n",
        "7. **LATITUDE**: Latitud del accidente\n",
        "8. **LONGITUDE**: Longitud del accidente\n",
        "9. **NUMBER OF (CYCLISTS, MOTORISTS, PEDESTRIANS) INJURED**: Lesión por categoría\n",
        "10. **NUMBER OF (CYCLISTS, MOTORISTS, PEDESTRIANS) DEATHS**: Categoría muerte sabia\n",
        "11. **ON STREET NAME**: Calle donde ocurrió el accidente\n",
        "13. **VEHICLE TYPE CODE(1, 2, 3, 4, 5)**: Tipos de vehículos involucrados en el accidente\n",
        "14. **ZIP CODE**: código postal del lugar del accidente"
      ]
    },
    {
      "cell_type": "markdown",
      "metadata": {
        "id": "ly5MHtrpENi6"
      },
      "source": [
        "### Ejercicio 1\n",
        "\n",
        "Desde 2014, la ciudad de Nueva York ha estado implementando un plan de seguridad vial llamado [Vision Zero](https://www1.nyc.gov/content/visionzero/pages/). Su objetivo es reducir el número de muertes por accidentes de tránsito a *cero* para fines de 2024. El plan está creando nuevas y mejorando las medidas de seguridad actuales, algunas de ellas incluyen:\n",
        "\n",
        "- [ ] Detección de peatones automatizada\n",
        "- [X] Auditorías de seguridad vial en lugares de alto riesgo\n",
        "- [ ] Ampliación de la red de carriles bici\n",
        "- [X] Iniciativas específicas de educación y sensibilización\n",
        "- [ ] Creación de islas de refugio peatonal\n",
        "- [ ] Lanzamiento del programa integrado de reductor de velocidad basado en datos (topes y amortiguadores de velocidad)\n",
        "\n",
        "¿Cuáles de estas iniciativas podrían beneficiarse directamente de un análisis de los datos proporcionados? Marque todo lo que corresponda.\n",
        "\n",
        "**Nota:** Puede crear marcas de verificación haciendo doble clic en esta celda y agregando una ```[x]``` en las líneas correspondientes."
      ]
    },
    {
      "cell_type": "markdown",
      "metadata": {
        "id": "hcGoXv0mJmE2"
      },
      "source": [
        "**Respuesta.**\n",
        "\n",
        "- [ ] Detecciòn de peatones automatizada\n",
        "\n",
        "- [x] Auditorías de seguridad vial en lugares de alto riesgo: Como se ha comentado, los datos pueden ayudar a reconocer los puntos problemáticos. Podemos verificar los números más fuertes donde ha ocurrido un alto número de accidentes en el pasado, luego inspeccionamos el área para ver qué medidas adicionales deben implementarse.\n",
        "\n",
        "- [ ] Ampliación de la red de carriles bici\n",
        "\n",
        "- [x] Iniciativas especificas de educación y sensibilización: Los datos proporcionan el factor contribuyente de los accidentes junto con el tipo de lugares que estuvieron involucrados en ellos. A continuación, podemos estudiar los tipos de lugares que causan el mayor número de accidentes y organizar iniciativas educativas en torno a ellos.\n",
        "\n",
        "- [ ] Creación de islas de refugio peatonal\n",
        "\n",
        "- [ ] Lanzamiento del programa integrado de reductor de velocidad en datos (topes y amortiguadores de velocidad)"
      ]
    },
    {
      "cell_type": "markdown",
      "metadata": {
        "id": "v88DhDEjENi8"
      },
      "source": [
        "Sigamos adelante y respondamos a cada una de las preguntas del cliente."
      ]
    },
    {
      "cell_type": "markdown",
      "metadata": {
        "id": "1-pJGrrSENi9"
      },
      "source": [
        "## Respondiendo las preguntas del cliente "
      ]
    },
    {
      "cell_type": "markdown",
      "metadata": {
        "id": "ri3DnSjhENi-"
      },
      "source": [
        "### Ejercicio 2 \n",
        "\n",
        "Agrupe los datos disponibles mensualmente y genere un line plot de accidentes a lo largo del tiempo. ¿Ha aumentado el número de accidentes durante el último año y medio?\n",
        "\n",
        "**Sugerencia**: Puede encontrar útiles las funciones de pandas ```to_datetime ()``` y ```dt.to_period ()```."
      ]
    },
    {
      "cell_type": "markdown",
      "metadata": {
        "id": "DfaBCtIuENi_"
      },
      "source": [
        "**Respuesta.** "
      ]
    },
    {
      "cell_type": "code",
      "metadata": {
        "colab": {
          "base_uri": "https://localhost:8080/",
          "height": 324
        },
        "id": "kfJgNU_TENjA",
        "outputId": "133fccc3-a3a4-43c1-9d1e-28e255ea8b21"
      },
      "source": [
        "df['DATE']=pd.to_datetime(df['DATE'])\n",
        "monthly_accidents =df.groupby(df['DATE'].dt.to_period('M')).size()\n",
        "monthly_accidents.plot.line()\n",
        "plt.title('Intervalo de Accidentes Mensuales')\n",
        "plt.xlabel('Periodicidad')\n",
        "plt.ylabel('Frecuencia')"
      ],
      "execution_count": 11,
      "outputs": [
        {
          "output_type": "execute_result",
          "data": {
            "text/plain": [
              "Text(0, 0.5, 'Frecuencia')"
            ]
          },
          "metadata": {},
          "execution_count": 11
        },
        {
          "output_type": "display_data",
          "data": {
            "image/png": "[encoded data removed]",
            "text/plain": [
              "<Figure size 432x288 with 1 Axes>"
            ]
          },
          "metadata": {
            "needs_background": "light"
          }
        }
      ]
    },
    {
      "cell_type": "code",
      "metadata": {
        "colab": {
          "base_uri": "https://localhost:8080/",
          "height": 308
        },
        "id": "ArZlTVBOHrWO",
        "outputId": "972dc9dc-9ee3-4c21-d1bb-3157faaa674f"
      },
      "source": [
        "#df['DATE']=pd.to_datetime(df['DATE'])\n",
        "monthly_accidents = df.groupby(df['DATE'].dt.to_period('D')).size()\n",
        "monthly_accidents.plot.line()"
      ],
      "execution_count": 12,
      "outputs": [
        {
          "output_type": "execute_result",
          "data": {
            "text/plain": [
              "<matplotlib.axes._subplots.AxesSubplot at 0x7fe78547ef50>"
            ]
          },
          "metadata": {},
          "execution_count": 12
        },
        {
          "output_type": "display_data",
          "data": {
            "image/png": "[encoded data removed]",
            "text/plain": [
              "<Figure size 432x288 with 1 Axes>"
            ]
          },
          "metadata": {
            "needs_background": "light"
          }
        }
      ]
    },
    {
      "cell_type": "code",
      "metadata": {
        "colab": {
          "base_uri": "https://localhost:8080/"
        },
        "id": "xerMNxcCIt4u",
        "outputId": "b292a44f-f8f1-4fe9-e0ee-e03122297874"
      },
      "source": [
        "max(df['DATE'])"
      ],
      "execution_count": 13,
      "outputs": [
        {
          "output_type": "execute_result",
          "data": {
            "text/plain": [
              "Timestamp('2019-08-24 00:00:00')"
            ]
          },
          "metadata": {},
          "execution_count": 13
        }
      ]
    },
    {
      "cell_type": "markdown",
      "metadata": {
        "id": "LfJQlREiDkaS"
      },
      "source": [
        "En el grafico se puede evidenciar que los accidentes en el año 2018 tenian una frecuencia bastante elevada sobre todo en Junio llevando el pico de la grafica, pero en el año 2019 los accidentes disminuyeron con respecto al año 2018."
      ]
    },
    {
      "cell_type": "markdown",
      "metadata": {
        "id": "yL6rUq8KENjB"
      },
      "source": [
        "### Ejercicio 3\n",
        "\n",
        "De la gráfica anterior, ¿qué meses parecen tener el menor número de accidentes? ¿Cuáles crees que son las razones detrás de esto?"
      ]
    },
    {
      "cell_type": "markdown",
      "metadata": {
        "id": "zhpCEnLfENjC"
      },
      "source": [
        "**Respuesta.** \n"
      ]
    },
    {
      "cell_type": "markdown",
      "metadata": {
        "id": "1yD_KEaVR8r4"
      },
      "source": [
        "Al realizar detenidamente el analisis de la grafica se puede observar que Agosto de 2019 presenta el menor numero de accidentes, pero esto se puede deber a que no se completo el registro de este mes lo que le genera una gran disminución de accidentes dejandolo como el menos afectado de accidentes del año."
      ]
    },
    {
      "cell_type": "code",
      "metadata": {
        "colab": {
          "base_uri": "https://localhost:8080/"
        },
        "id": "WhQ6LT2iTM6Q",
        "outputId": "e9e90e67-84f2-4342-d604-80f24f926542"
      },
      "source": [
        "max(df['DATE'])"
      ],
      "execution_count": 45,
      "outputs": [
        {
          "output_type": "execute_result",
          "data": {
            "text/plain": [
              "Timestamp('2019-08-24 00:00:00')"
            ]
          },
          "metadata": {},
          "execution_count": 45
        }
      ]
    },
    {
      "cell_type": "markdown",
      "metadata": {
        "id": "ENYI1KqhTzrP"
      },
      "source": [
        "Seguido a este mes se puede observar que el mes de Febero tanto en 2018 como en 2019 tiene un numero bajo de accidentes, esto puede deberse a que en NY este mes es el mas frio del año ya que es invierno y las temperaturas son muy bajas por lo que la gente decide no salir con tanta frecuencia a las calles para evitar distintos tipos de accidentes de transito o en su defecto prefieren tomar transporte publico."
      ]
    },
    {
      "cell_type": "markdown",
      "metadata": {
        "id": "mtgH_HgVENjD"
      },
      "source": [
        "### Ejercicio 4 \n",
        "¿Cómo varía el número de accidentes a lo largo de un solo día? Cree una nueva columna `HOUR` basada en los datos de la columna `TIME`, luego trace un gráfico de barras de la distribución por hora a lo largo del día.\n",
        "\n",
        "**Sugerencia:** Puede encontrar útil la función ```dt.hour```."
      ]
    },
    {
      "cell_type": "markdown",
      "metadata": {
        "id": "krTzis38ENjE"
      },
      "source": [
        "**Respuesta.**"
      ]
    },
    {
      "cell_type": "code",
      "metadata": {
        "id": "jPZE-BJEENjF",
        "colab": {
          "base_uri": "https://localhost:8080/",
          "height": 312
        },
        "outputId": "c615ac3e-ddc5-4635-9654-3c975f0fbe15"
      },
      "source": [
        "df['TIME']=pd.to_datetime(df['TIME'])\n",
        "df['HOUR'] = df['TIME'].dt.hour\n",
        "hourly_accidents = df.groupby('HOUR').size()\n",
        "hourly_accidents.index\n",
        "hourly_accidents.values\n",
        "plt.bar(hourly_accidents.index,hourly_accidents.values, color='lime')\n",
        "plt.title('Distribución de accidentes del dia por hora')\n",
        "plt.xlabel('Hora')\n",
        "plt.ylabel('Frecuencia de Accidentes')"
      ],
      "execution_count": 46,
      "outputs": [
        {
          "output_type": "execute_result",
          "data": {
            "text/plain": [
              "Text(0, 0.5, 'Frecuencia de Accidentes')"
            ]
          },
          "metadata": {},
          "execution_count": 46
        },
        {
          "output_type": "display_data",
          "data": {
            "image/png": "[encoded data removed]",
            "text/plain": [
              "<Figure size 432x288 with 1 Axes>"
            ]
          },
          "metadata": {
            "needs_background": "light"
          }
        }
      ]
    },
    {
      "cell_type": "code",
      "metadata": {
        "colab": {
          "base_uri": "https://localhost:8080/"
        },
        "id": "9Ouo5GUOz0dU",
        "outputId": "a77e9f2f-89ed-4ae7-ba7a-c808914f5b65"
      },
      "source": [
        "hourly_accidents"
      ],
      "execution_count": 47,
      "outputs": [
        {
          "output_type": "execute_result",
          "data": {
            "text/plain": [
              "HOUR\n",
              "0      8160\n",
              "1      3460\n",
              "2      2570\n",
              "3      2302\n",
              "4      2562\n",
              "5      2878\n",
              "6      4844\n",
              "7      7399\n",
              "8     13403\n",
              "9     12939\n",
              "10    11981\n",
              "11    12815\n",
              "12    13731\n",
              "13    14224\n",
              "14    16889\n",
              "15    15886\n",
              "16    17536\n",
              "17    17209\n",
              "18    14899\n",
              "19    11885\n",
              "20     9597\n",
              "21     8330\n",
              "22     7216\n",
              "23     5807\n",
              "dtype: int64"
            ]
          },
          "metadata": {},
          "execution_count": 47
        }
      ]
    },
    {
      "cell_type": "code",
      "metadata": {
        "colab": {
          "base_uri": "https://localhost:8080/",
          "height": 915
        },
        "id": "89vgefTqC8Hx",
        "outputId": "b0c4dbbf-d46f-46ce-ab21-271797dac5d9"
      },
      "source": [
        "df"
      ],
      "execution_count": 48,
      "outputs": [
        {
          "output_type": "execute_result",
          "data": {
            "text/html": [
              "<div>\n",
              "<style scoped>\n",
              "    .dataframe tbody tr th:only-of-type {\n",
              "        vertical-align: middle;\n",
              "    }\n",
              "\n",
              "    .dataframe tbody tr th {\n",
              "        vertical-align: top;\n",
              "    }\n",
              "\n",
              "    .dataframe thead th {\n",
              "        text-align: right;\n",
              "    }\n",
              "</style>\n",
              "<table border=\"1\" class=\"dataframe\">\n",
              "  <thead>\n",
              "    <tr style=\"text-align: right;\">\n",
              "      <th></th>\n",
              "      <th>DATE</th>\n",
              "      <th>TIME</th>\n",
              "      <th>BOROUGH</th>\n",
              "      <th>ZIP CODE</th>\n",
              "      <th>LATITUDE</th>\n",
              "      <th>LONGITUDE</th>\n",
              "      <th>ON STREET NAME</th>\n",
              "      <th>NUMBER OF PEDESTRIANS INJURED</th>\n",
              "      <th>NUMBER OF PEDESTRIANS KILLED</th>\n",
              "      <th>NUMBER OF CYCLIST INJURED</th>\n",
              "      <th>NUMBER OF CYCLIST KILLED</th>\n",
              "      <th>NUMBER OF MOTORIST INJURED</th>\n",
              "      <th>NUMBER OF MOTORIST KILLED</th>\n",
              "      <th>CONTRIBUTING FACTOR VEHICLE 1</th>\n",
              "      <th>CONTRIBUTING FACTOR VEHICLE 2</th>\n",
              "      <th>CONTRIBUTING FACTOR VEHICLE 3</th>\n",
              "      <th>CONTRIBUTING FACTOR VEHICLE 4</th>\n",
              "      <th>CONTRIBUTING FACTOR VEHICLE 5</th>\n",
              "      <th>COLLISION_ID</th>\n",
              "      <th>VEHICLE TYPE CODE 1</th>\n",
              "      <th>VEHICLE TYPE CODE 2</th>\n",
              "      <th>VEHICLE TYPE CODE 3</th>\n",
              "      <th>VEHICLE TYPE CODE 4</th>\n",
              "      <th>VEHICLE TYPE CODE 5</th>\n",
              "      <th>HOUR</th>\n",
              "    </tr>\n",
              "  </thead>\n",
              "  <tbody>\n",
              "    <tr>\n",
              "      <th>0</th>\n",
              "      <td>2018-09-26</td>\n",
              "      <td>2021-09-02 12:12:00</td>\n",
              "      <td>BRONX</td>\n",
              "      <td>10454.0</td>\n",
              "      <td>40.808987</td>\n",
              "      <td>-73.911316</td>\n",
              "      <td>NaN</td>\n",
              "      <td>0</td>\n",
              "      <td>0</td>\n",
              "      <td>0</td>\n",
              "      <td>0</td>\n",
              "      <td>0</td>\n",
              "      <td>0</td>\n",
              "      <td>Unspecified</td>\n",
              "      <td>NaN</td>\n",
              "      <td>NaN</td>\n",
              "      <td>NaN</td>\n",
              "      <td>NaN</td>\n",
              "      <td>3988123</td>\n",
              "      <td>Sedan</td>\n",
              "      <td>NaN</td>\n",
              "      <td>NaN</td>\n",
              "      <td>NaN</td>\n",
              "      <td>NaN</td>\n",
              "      <td>12</td>\n",
              "    </tr>\n",
              "    <tr>\n",
              "      <th>1</th>\n",
              "      <td>2018-09-25</td>\n",
              "      <td>2021-09-02 16:30:00</td>\n",
              "      <td>BROOKLYN</td>\n",
              "      <td>11236.0</td>\n",
              "      <td>40.636005</td>\n",
              "      <td>-73.912510</td>\n",
              "      <td>FLATLANDS AVENUE</td>\n",
              "      <td>1</td>\n",
              "      <td>0</td>\n",
              "      <td>0</td>\n",
              "      <td>0</td>\n",
              "      <td>0</td>\n",
              "      <td>0</td>\n",
              "      <td>Unspecified</td>\n",
              "      <td>NaN</td>\n",
              "      <td>NaN</td>\n",
              "      <td>NaN</td>\n",
              "      <td>NaN</td>\n",
              "      <td>3987962</td>\n",
              "      <td>Sedan</td>\n",
              "      <td>NaN</td>\n",
              "      <td>NaN</td>\n",
              "      <td>NaN</td>\n",
              "      <td>NaN</td>\n",
              "      <td>16</td>\n",
              "    </tr>\n",
              "    <tr>\n",
              "      <th>2</th>\n",
              "      <td>2019-08-22</td>\n",
              "      <td>2021-09-02 19:30:00</td>\n",
              "      <td>QUEENS</td>\n",
              "      <td>11101.0</td>\n",
              "      <td>40.755490</td>\n",
              "      <td>-73.939530</td>\n",
              "      <td>NaN</td>\n",
              "      <td>0</td>\n",
              "      <td>0</td>\n",
              "      <td>0</td>\n",
              "      <td>0</td>\n",
              "      <td>0</td>\n",
              "      <td>0</td>\n",
              "      <td>Unspecified</td>\n",
              "      <td>NaN</td>\n",
              "      <td>NaN</td>\n",
              "      <td>NaN</td>\n",
              "      <td>NaN</td>\n",
              "      <td>4193132</td>\n",
              "      <td>Sedan</td>\n",
              "      <td>NaN</td>\n",
              "      <td>NaN</td>\n",
              "      <td>NaN</td>\n",
              "      <td>NaN</td>\n",
              "      <td>19</td>\n",
              "    </tr>\n",
              "    <tr>\n",
              "      <th>3</th>\n",
              "      <td>2018-09-23</td>\n",
              "      <td>2021-09-02 13:10:00</td>\n",
              "      <td>QUEENS</td>\n",
              "      <td>11367.0</td>\n",
              "      <td>NaN</td>\n",
              "      <td>NaN</td>\n",
              "      <td>MAIN STREET</td>\n",
              "      <td>0</td>\n",
              "      <td>0</td>\n",
              "      <td>1</td>\n",
              "      <td>0</td>\n",
              "      <td>0</td>\n",
              "      <td>0</td>\n",
              "      <td>Driver Inattention/Distraction</td>\n",
              "      <td>Unspecified</td>\n",
              "      <td>NaN</td>\n",
              "      <td>NaN</td>\n",
              "      <td>NaN</td>\n",
              "      <td>3985962</td>\n",
              "      <td>Bike</td>\n",
              "      <td>Station Wagon/Sport Utility Vehicle</td>\n",
              "      <td>NaN</td>\n",
              "      <td>NaN</td>\n",
              "      <td>NaN</td>\n",
              "      <td>13</td>\n",
              "    </tr>\n",
              "    <tr>\n",
              "      <th>4</th>\n",
              "      <td>2019-08-20</td>\n",
              "      <td>2021-09-02 22:40:00</td>\n",
              "      <td>BRONX</td>\n",
              "      <td>10468.0</td>\n",
              "      <td>40.868336</td>\n",
              "      <td>-73.901270</td>\n",
              "      <td>NaN</td>\n",
              "      <td>0</td>\n",
              "      <td>0</td>\n",
              "      <td>0</td>\n",
              "      <td>0</td>\n",
              "      <td>1</td>\n",
              "      <td>0</td>\n",
              "      <td>View Obstructed/Limited</td>\n",
              "      <td>Unspecified</td>\n",
              "      <td>NaN</td>\n",
              "      <td>NaN</td>\n",
              "      <td>NaN</td>\n",
              "      <td>4192111</td>\n",
              "      <td>Sedan</td>\n",
              "      <td>Sedan</td>\n",
              "      <td>NaN</td>\n",
              "      <td>NaN</td>\n",
              "      <td>NaN</td>\n",
              "      <td>22</td>\n",
              "    </tr>\n",
              "    <tr>\n",
              "      <th>...</th>\n",
              "      <td>...</td>\n",
              "      <td>...</td>\n",
              "      <td>...</td>\n",
              "      <td>...</td>\n",
              "      <td>...</td>\n",
              "      <td>...</td>\n",
              "      <td>...</td>\n",
              "      <td>...</td>\n",
              "      <td>...</td>\n",
              "      <td>...</td>\n",
              "      <td>...</td>\n",
              "      <td>...</td>\n",
              "      <td>...</td>\n",
              "      <td>...</td>\n",
              "      <td>...</td>\n",
              "      <td>...</td>\n",
              "      <td>...</td>\n",
              "      <td>...</td>\n",
              "      <td>...</td>\n",
              "      <td>...</td>\n",
              "      <td>...</td>\n",
              "      <td>...</td>\n",
              "      <td>...</td>\n",
              "      <td>...</td>\n",
              "      <td>...</td>\n",
              "    </tr>\n",
              "    <tr>\n",
              "      <th>238517</th>\n",
              "      <td>2018-01-20</td>\n",
              "      <td>2021-09-02 15:00:00</td>\n",
              "      <td>QUEENS</td>\n",
              "      <td>11436.0</td>\n",
              "      <td>40.685356</td>\n",
              "      <td>-73.797230</td>\n",
              "      <td>LINDEN BOULEVARD</td>\n",
              "      <td>0</td>\n",
              "      <td>0</td>\n",
              "      <td>0</td>\n",
              "      <td>0</td>\n",
              "      <td>0</td>\n",
              "      <td>0</td>\n",
              "      <td>Driver Inattention/Distraction</td>\n",
              "      <td>Unspecified</td>\n",
              "      <td>NaN</td>\n",
              "      <td>NaN</td>\n",
              "      <td>NaN</td>\n",
              "      <td>3832275</td>\n",
              "      <td>SPORT UTILITY / STATION WAGON</td>\n",
              "      <td>PASSENGER VEHICLE</td>\n",
              "      <td>NaN</td>\n",
              "      <td>NaN</td>\n",
              "      <td>NaN</td>\n",
              "      <td>15</td>\n",
              "    </tr>\n",
              "    <tr>\n",
              "      <th>238518</th>\n",
              "      <td>2018-01-04</td>\n",
              "      <td>2021-09-02 14:00:00</td>\n",
              "      <td>BRONX</td>\n",
              "      <td>10452.0</td>\n",
              "      <td>40.845180</td>\n",
              "      <td>-73.914170</td>\n",
              "      <td>JEROME AVENUE</td>\n",
              "      <td>0</td>\n",
              "      <td>0</td>\n",
              "      <td>0</td>\n",
              "      <td>0</td>\n",
              "      <td>0</td>\n",
              "      <td>0</td>\n",
              "      <td>Pavement Slippery</td>\n",
              "      <td>NaN</td>\n",
              "      <td>NaN</td>\n",
              "      <td>NaN</td>\n",
              "      <td>NaN</td>\n",
              "      <td>3822315</td>\n",
              "      <td>SPORT UTILITY / STATION WAGON</td>\n",
              "      <td>NaN</td>\n",
              "      <td>NaN</td>\n",
              "      <td>NaN</td>\n",
              "      <td>NaN</td>\n",
              "      <td>14</td>\n",
              "    </tr>\n",
              "    <tr>\n",
              "      <th>238519</th>\n",
              "      <td>2018-01-20</td>\n",
              "      <td>2021-09-02 13:05:00</td>\n",
              "      <td>BRONX</td>\n",
              "      <td>10462.0</td>\n",
              "      <td>40.831210</td>\n",
              "      <td>-73.850876</td>\n",
              "      <td>CASTLE HILL AVENUE</td>\n",
              "      <td>0</td>\n",
              "      <td>0</td>\n",
              "      <td>0</td>\n",
              "      <td>0</td>\n",
              "      <td>0</td>\n",
              "      <td>0</td>\n",
              "      <td>Unsafe Lane Changing</td>\n",
              "      <td>Unspecified</td>\n",
              "      <td>NaN</td>\n",
              "      <td>NaN</td>\n",
              "      <td>NaN</td>\n",
              "      <td>3832513</td>\n",
              "      <td>PASSENGER VEHICLE</td>\n",
              "      <td>SPORT UTILITY / STATION WAGON</td>\n",
              "      <td>NaN</td>\n",
              "      <td>NaN</td>\n",
              "      <td>NaN</td>\n",
              "      <td>13</td>\n",
              "    </tr>\n",
              "    <tr>\n",
              "      <th>238520</th>\n",
              "      <td>2018-01-29</td>\n",
              "      <td>2021-09-02 17:45:00</td>\n",
              "      <td>QUEENS</td>\n",
              "      <td>11377.0</td>\n",
              "      <td>40.757250</td>\n",
              "      <td>-73.904854</td>\n",
              "      <td>31 AVENUE</td>\n",
              "      <td>0</td>\n",
              "      <td>0</td>\n",
              "      <td>0</td>\n",
              "      <td>0</td>\n",
              "      <td>2</td>\n",
              "      <td>0</td>\n",
              "      <td>Failure to Yield Right-of-Way</td>\n",
              "      <td>Unspecified</td>\n",
              "      <td>NaN</td>\n",
              "      <td>NaN</td>\n",
              "      <td>NaN</td>\n",
              "      <td>3837608</td>\n",
              "      <td>SPORT UTILITY / STATION WAGON</td>\n",
              "      <td>PASSENGER VEHICLE</td>\n",
              "      <td>NaN</td>\n",
              "      <td>NaN</td>\n",
              "      <td>NaN</td>\n",
              "      <td>17</td>\n",
              "    </tr>\n",
              "    <tr>\n",
              "      <th>238521</th>\n",
              "      <td>2018-01-23</td>\n",
              "      <td>2021-09-02 16:38:00</td>\n",
              "      <td>BROOKLYN</td>\n",
              "      <td>11211.0</td>\n",
              "      <td>40.710197</td>\n",
              "      <td>-73.958430</td>\n",
              "      <td>HAVEMEYER STREET</td>\n",
              "      <td>0</td>\n",
              "      <td>0</td>\n",
              "      <td>0</td>\n",
              "      <td>0</td>\n",
              "      <td>0</td>\n",
              "      <td>0</td>\n",
              "      <td>Following Too Closely</td>\n",
              "      <td>Passing or Lane Usage Improper</td>\n",
              "      <td>NaN</td>\n",
              "      <td>NaN</td>\n",
              "      <td>NaN</td>\n",
              "      <td>3833631</td>\n",
              "      <td>SPORT UTILITY / STATION WAGON</td>\n",
              "      <td>SPORT UTILITY / STATION WAGON</td>\n",
              "      <td>NaN</td>\n",
              "      <td>NaN</td>\n",
              "      <td>NaN</td>\n",
              "      <td>16</td>\n",
              "    </tr>\n",
              "  </tbody>\n",
              "</table>\n",
              "<p>238522 rows × 25 columns</p>\n",
              "</div>"
            ],
            "text/plain": [
              "             DATE                TIME  ... VEHICLE TYPE CODE 5  HOUR\n",
              "0      2018-09-26 2021-09-02 12:12:00  ...                 NaN    12\n",
              "1      2018-09-25 2021-09-02 16:30:00  ...                 NaN    16\n",
              "2      2019-08-22 2021-09-02 19:30:00  ...                 NaN    19\n",
              "3      2018-09-23 2021-09-02 13:10:00  ...                 NaN    13\n",
              "4      2019-08-20 2021-09-02 22:40:00  ...                 NaN    22\n",
              "...           ...                 ...  ...                 ...   ...\n",
              "238517 2018-01-20 2021-09-02 15:00:00  ...                 NaN    15\n",
              "238518 2018-01-04 2021-09-02 14:00:00  ...                 NaN    14\n",
              "238519 2018-01-20 2021-09-02 13:05:00  ...                 NaN    13\n",
              "238520 2018-01-29 2021-09-02 17:45:00  ...                 NaN    17\n",
              "238521 2018-01-23 2021-09-02 16:38:00  ...                 NaN    16\n",
              "\n",
              "[238522 rows x 25 columns]"
            ]
          },
          "metadata": {},
          "execution_count": 48
        }
      ]
    },
    {
      "cell_type": "markdown",
      "metadata": {
        "id": "Cgxpb_HRENjG"
      },
      "source": [
        "En la grafica obtenida se puede evidenciar que en el rango de 1:00pm a 6:00pm la frecuencia de accidentes va aumentando considerablemente hasta las 5:00pm y de ahi va disminuyendo. Con esto se puede concluir que los accidentes diarios se presentan con mayor frecuencia en las horas de la tarde teniendo el pico de la grafica en la hora 17:00(5:00pm), y la hora donde no se presentan con tanta frecuencia es a las 3:00am."
      ]
    },
    {
      "cell_type": "markdown",
      "metadata": {
        "id": "0mnnTh3nENjG"
      },
      "source": [
        "### Ejercicio 5 \n",
        "\n",
        "En la pregunta anterior hemos agregado el número de accidentes por hora sin tener en cuenta la fecha y el lugar en que ocurrieron. ¿Qué crítica le daría a este enfoque?"
      ]
    },
    {
      "cell_type": "markdown",
      "metadata": {
        "id": "WfYJ7bzMENjH"
      },
      "source": [
        "**Respuesta.** \n"
      ]
    },
    {
      "cell_type": "markdown",
      "metadata": {
        "id": "ENqwmpTrMStI"
      },
      "source": [
        "Al realizar este reporte lo que podemos obtener es en que rango de horas del dia los accidentes son mas frecuentes y respecto a esto se puede empezar a analizar por que motivo en ese rango de horas se presentan tantos accidentes y posteriormente se puede empezar a plantear estrategias para disminuir los accidentes diarios y asi mejorar el transito vial."
      ]
    },
    {
      "cell_type": "markdown",
      "metadata": {
        "id": "TD-11II6ENjI"
      },
      "source": [
        "### Ejercicio 6 \n",
        "\n",
        "¿Cómo varía el número de accidentes en una sola semana? Trace un gráfico de barras basado en el recuento de accidentes por día de la semana.\n",
        "\n",
        "**Sugerencia:** Puede encontrar útil la función ```dt.weekday```."
      ]
    },
    {
      "cell_type": "markdown",
      "metadata": {
        "id": "zshh2S0mENjI"
      },
      "source": [
        "**Respuesta.**"
      ]
    },
    {
      "cell_type": "code",
      "metadata": {
        "id": "9qHaH34YENjJ",
        "colab": {
          "base_uri": "https://localhost:8080/",
          "height": 312
        },
        "outputId": "aea0a3ba-b765-4de5-e946-a2da0cdab668"
      },
      "source": [
        "df['DATE']=pd.to_datetime(df['DATE'])\n",
        "df['WEEKDAY'] = df['DATE'].dt.weekday\n",
        "weekly_accidents = df.groupby('WEEKDAY').size()\n",
        "weekly_accidents.index\n",
        "weekly_accidents.values\n",
        "plt.bar(weekly_accidents.index,weekly_accidents.values, color='violet')\n",
        "plt.title('Distribución de accidentes Semanal')\n",
        "plt.xlabel('Semana')\n",
        "plt.ylabel('Frecuencia de Accidentes')"
      ],
      "execution_count": 49,
      "outputs": [
        {
          "output_type": "execute_result",
          "data": {
            "text/plain": [
              "Text(0, 0.5, 'Frecuencia de Accidentes')"
            ]
          },
          "metadata": {},
          "execution_count": 49
        },
        {
          "output_type": "display_data",
          "data": {
            "image/png": "[encoded data removed]",
            "text/plain": [
              "<Figure size 432x288 with 1 Axes>"
            ]
          },
          "metadata": {
            "needs_background": "light"
          }
        }
      ]
    },
    {
      "cell_type": "code",
      "metadata": {
        "colab": {
          "base_uri": "https://localhost:8080/",
          "height": 360
        },
        "id": "_XS0mqVZ1aGX",
        "outputId": "45564aa2-426e-4aa5-b20f-89b137f08bec"
      },
      "source": [
        "df['DATE']=pd.to_datetime(df['DATE'])\n",
        "df['WEEKDAY'] = df['DATE'].dt.day_name()\n",
        "#weekly_accidents = df.groupby('WEEKDAY').size()\n",
        "cats = [ 'Monday', 'Tuesday', 'Wednesday', 'Thursday', 'Friday', 'Saturday', 'Sunday']\n",
        "weekly_accidents = df.groupby(['WEEKDAY']).size().reindex(cats)\n",
        "weekly_accidents.index\n",
        "weekly_accidents.values\n",
        "plt.bar(weekly_accidents.index,weekly_accidents.values)\n",
        "plt.title('Distribución de accidentes Semanal')\n",
        "plt.xlabel('Semana')\n",
        "plt.ylabel('Frecuencia de Accidentes')\n",
        "plt.xticks(rotation=90)"
      ],
      "execution_count": 50,
      "outputs": [
        {
          "output_type": "execute_result",
          "data": {
            "text/plain": [
              "([0, 1, 2, 3, 4, 5, 6], <a list of 7 Text major ticklabel objects>)"
            ]
          },
          "metadata": {},
          "execution_count": 50
        },
        {
          "output_type": "display_data",
          "data": {
            "image/png": "[encoded data removed]",
            "text/plain": [
              "<Figure size 432x288 with 1 Axes>"
            ]
          },
          "metadata": {
            "needs_background": "light"
          }
        }
      ]
    },
    {
      "cell_type": "code",
      "metadata": {
        "colab": {
          "base_uri": "https://localhost:8080/",
          "height": 915
        },
        "id": "uYAM1QDfdTnF",
        "outputId": "71dc5c10-3109-4a20-dea3-73f8b8dec435"
      },
      "source": [
        "df"
      ],
      "execution_count": 51,
      "outputs": [
        {
          "output_type": "execute_result",
          "data": {
            "text/html": [
              "<div>\n",
              "<style scoped>\n",
              "    .dataframe tbody tr th:only-of-type {\n",
              "        vertical-align: middle;\n",
              "    }\n",
              "\n",
              "    .dataframe tbody tr th {\n",
              "        vertical-align: top;\n",
              "    }\n",
              "\n",
              "    .dataframe thead th {\n",
              "        text-align: right;\n",
              "    }\n",
              "</style>\n",
              "<table border=\"1\" class=\"dataframe\">\n",
              "  <thead>\n",
              "    <tr style=\"text-align: right;\">\n",
              "      <th></th>\n",
              "      <th>DATE</th>\n",
              "      <th>TIME</th>\n",
              "      <th>BOROUGH</th>\n",
              "      <th>ZIP CODE</th>\n",
              "      <th>LATITUDE</th>\n",
              "      <th>LONGITUDE</th>\n",
              "      <th>ON STREET NAME</th>\n",
              "      <th>NUMBER OF PEDESTRIANS INJURED</th>\n",
              "      <th>NUMBER OF PEDESTRIANS KILLED</th>\n",
              "      <th>NUMBER OF CYCLIST INJURED</th>\n",
              "      <th>NUMBER OF CYCLIST KILLED</th>\n",
              "      <th>NUMBER OF MOTORIST INJURED</th>\n",
              "      <th>NUMBER OF MOTORIST KILLED</th>\n",
              "      <th>CONTRIBUTING FACTOR VEHICLE 1</th>\n",
              "      <th>CONTRIBUTING FACTOR VEHICLE 2</th>\n",
              "      <th>CONTRIBUTING FACTOR VEHICLE 3</th>\n",
              "      <th>CONTRIBUTING FACTOR VEHICLE 4</th>\n",
              "      <th>CONTRIBUTING FACTOR VEHICLE 5</th>\n",
              "      <th>COLLISION_ID</th>\n",
              "      <th>VEHICLE TYPE CODE 1</th>\n",
              "      <th>VEHICLE TYPE CODE 2</th>\n",
              "      <th>VEHICLE TYPE CODE 3</th>\n",
              "      <th>VEHICLE TYPE CODE 4</th>\n",
              "      <th>VEHICLE TYPE CODE 5</th>\n",
              "      <th>HOUR</th>\n",
              "      <th>WEEKDAY</th>\n",
              "    </tr>\n",
              "  </thead>\n",
              "  <tbody>\n",
              "    <tr>\n",
              "      <th>0</th>\n",
              "      <td>2018-09-26</td>\n",
              "      <td>2021-09-02 12:12:00</td>\n",
              "      <td>BRONX</td>\n",
              "      <td>10454.0</td>\n",
              "      <td>40.808987</td>\n",
              "      <td>-73.911316</td>\n",
              "      <td>NaN</td>\n",
              "      <td>0</td>\n",
              "      <td>0</td>\n",
              "      <td>0</td>\n",
              "      <td>0</td>\n",
              "      <td>0</td>\n",
              "      <td>0</td>\n",
              "      <td>Unspecified</td>\n",
              "      <td>NaN</td>\n",
              "      <td>NaN</td>\n",
              "      <td>NaN</td>\n",
              "      <td>NaN</td>\n",
              "      <td>3988123</td>\n",
              "      <td>Sedan</td>\n",
              "      <td>NaN</td>\n",
              "      <td>NaN</td>\n",
              "      <td>NaN</td>\n",
              "      <td>NaN</td>\n",
              "      <td>12</td>\n",
              "      <td>Wednesday</td>\n",
              "    </tr>\n",
              "    <tr>\n",
              "      <th>1</th>\n",
              "      <td>2018-09-25</td>\n",
              "      <td>2021-09-02 16:30:00</td>\n",
              "      <td>BROOKLYN</td>\n",
              "      <td>11236.0</td>\n",
              "      <td>40.636005</td>\n",
              "      <td>-73.912510</td>\n",
              "      <td>FLATLANDS AVENUE</td>\n",
              "      <td>1</td>\n",
              "      <td>0</td>\n",
              "      <td>0</td>\n",
              "      <td>0</td>\n",
              "      <td>0</td>\n",
              "      <td>0</td>\n",
              "      <td>Unspecified</td>\n",
              "      <td>NaN</td>\n",
              "      <td>NaN</td>\n",
              "      <td>NaN</td>\n",
              "      <td>NaN</td>\n",
              "      <td>3987962</td>\n",
              "      <td>Sedan</td>\n",
              "      <td>NaN</td>\n",
              "      <td>NaN</td>\n",
              "      <td>NaN</td>\n",
              "      <td>NaN</td>\n",
              "      <td>16</td>\n",
              "      <td>Tuesday</td>\n",
              "    </tr>\n",
              "    <tr>\n",
              "      <th>2</th>\n",
              "      <td>2019-08-22</td>\n",
              "      <td>2021-09-02 19:30:00</td>\n",
              "      <td>QUEENS</td>\n",
              "      <td>11101.0</td>\n",
              "      <td>40.755490</td>\n",
              "      <td>-73.939530</td>\n",
              "      <td>NaN</td>\n",
              "      <td>0</td>\n",
              "      <td>0</td>\n",
              "      <td>0</td>\n",
              "      <td>0</td>\n",
              "      <td>0</td>\n",
              "      <td>0</td>\n",
              "      <td>Unspecified</td>\n",
              "      <td>NaN</td>\n",
              "      <td>NaN</td>\n",
              "      <td>NaN</td>\n",
              "      <td>NaN</td>\n",
              "      <td>4193132</td>\n",
              "      <td>Sedan</td>\n",
              "      <td>NaN</td>\n",
              "      <td>NaN</td>\n",
              "      <td>NaN</td>\n",
              "      <td>NaN</td>\n",
              "      <td>19</td>\n",
              "      <td>Thursday</td>\n",
              "    </tr>\n",
              "    <tr>\n",
              "      <th>3</th>\n",
              "      <td>2018-09-23</td>\n",
              "      <td>2021-09-02 13:10:00</td>\n",
              "      <td>QUEENS</td>\n",
              "      <td>11367.0</td>\n",
              "      <td>NaN</td>\n",
              "      <td>NaN</td>\n",
              "      <td>MAIN STREET</td>\n",
              "      <td>0</td>\n",
              "      <td>0</td>\n",
              "      <td>1</td>\n",
              "      <td>0</td>\n",
              "      <td>0</td>\n",
              "      <td>0</td>\n",
              "      <td>Driver Inattention/Distraction</td>\n",
              "      <td>Unspecified</td>\n",
              "      <td>NaN</td>\n",
              "      <td>NaN</td>\n",
              "      <td>NaN</td>\n",
              "      <td>3985962</td>\n",
              "      <td>Bike</td>\n",
              "      <td>Station Wagon/Sport Utility Vehicle</td>\n",
              "      <td>NaN</td>\n",
              "      <td>NaN</td>\n",
              "      <td>NaN</td>\n",
              "      <td>13</td>\n",
              "      <td>Sunday</td>\n",
              "    </tr>\n",
              "    <tr>\n",
              "      <th>4</th>\n",
              "      <td>2019-08-20</td>\n",
              "      <td>2021-09-02 22:40:00</td>\n",
              "      <td>BRONX</td>\n",
              "      <td>10468.0</td>\n",
              "      <td>40.868336</td>\n",
              "      <td>-73.901270</td>\n",
              "      <td>NaN</td>\n",
              "      <td>0</td>\n",
              "      <td>0</td>\n",
              "      <td>0</td>\n",
              "      <td>0</td>\n",
              "      <td>1</td>\n",
              "      <td>0</td>\n",
              "      <td>View Obstructed/Limited</td>\n",
              "      <td>Unspecified</td>\n",
              "      <td>NaN</td>\n",
              "      <td>NaN</td>\n",
              "      <td>NaN</td>\n",
              "      <td>4192111</td>\n",
              "      <td>Sedan</td>\n",
              "      <td>Sedan</td>\n",
              "      <td>NaN</td>\n",
              "      <td>NaN</td>\n",
              "      <td>NaN</td>\n",
              "      <td>22</td>\n",
              "      <td>Tuesday</td>\n",
              "    </tr>\n",
              "    <tr>\n",
              "      <th>...</th>\n",
              "      <td>...</td>\n",
              "      <td>...</td>\n",
              "      <td>...</td>\n",
              "      <td>...</td>\n",
              "      <td>...</td>\n",
              "      <td>...</td>\n",
              "      <td>...</td>\n",
              "      <td>...</td>\n",
              "      <td>...</td>\n",
              "      <td>...</td>\n",
              "      <td>...</td>\n",
              "      <td>...</td>\n",
              "      <td>...</td>\n",
              "      <td>...</td>\n",
              "      <td>...</td>\n",
              "      <td>...</td>\n",
              "      <td>...</td>\n",
              "      <td>...</td>\n",
              "      <td>...</td>\n",
              "      <td>...</td>\n",
              "      <td>...</td>\n",
              "      <td>...</td>\n",
              "      <td>...</td>\n",
              "      <td>...</td>\n",
              "      <td>...</td>\n",
              "      <td>...</td>\n",
              "    </tr>\n",
              "    <tr>\n",
              "      <th>238517</th>\n",
              "      <td>2018-01-20</td>\n",
              "      <td>2021-09-02 15:00:00</td>\n",
              "      <td>QUEENS</td>\n",
              "      <td>11436.0</td>\n",
              "      <td>40.685356</td>\n",
              "      <td>-73.797230</td>\n",
              "      <td>LINDEN BOULEVARD</td>\n",
              "      <td>0</td>\n",
              "      <td>0</td>\n",
              "      <td>0</td>\n",
              "      <td>0</td>\n",
              "      <td>0</td>\n",
              "      <td>0</td>\n",
              "      <td>Driver Inattention/Distraction</td>\n",
              "      <td>Unspecified</td>\n",
              "      <td>NaN</td>\n",
              "      <td>NaN</td>\n",
              "      <td>NaN</td>\n",
              "      <td>3832275</td>\n",
              "      <td>SPORT UTILITY / STATION WAGON</td>\n",
              "      <td>PASSENGER VEHICLE</td>\n",
              "      <td>NaN</td>\n",
              "      <td>NaN</td>\n",
              "      <td>NaN</td>\n",
              "      <td>15</td>\n",
              "      <td>Saturday</td>\n",
              "    </tr>\n",
              "    <tr>\n",
              "      <th>238518</th>\n",
              "      <td>2018-01-04</td>\n",
              "      <td>2021-09-02 14:00:00</td>\n",
              "      <td>BRONX</td>\n",
              "      <td>10452.0</td>\n",
              "      <td>40.845180</td>\n",
              "      <td>-73.914170</td>\n",
              "      <td>JEROME AVENUE</td>\n",
              "      <td>0</td>\n",
              "      <td>0</td>\n",
              "      <td>0</td>\n",
              "      <td>0</td>\n",
              "      <td>0</td>\n",
              "      <td>0</td>\n",
              "      <td>Pavement Slippery</td>\n",
              "      <td>NaN</td>\n",
              "      <td>NaN</td>\n",
              "      <td>NaN</td>\n",
              "      <td>NaN</td>\n",
              "      <td>3822315</td>\n",
              "      <td>SPORT UTILITY / STATION WAGON</td>\n",
              "      <td>NaN</td>\n",
              "      <td>NaN</td>\n",
              "      <td>NaN</td>\n",
              "      <td>NaN</td>\n",
              "      <td>14</td>\n",
              "      <td>Thursday</td>\n",
              "    </tr>\n",
              "    <tr>\n",
              "      <th>238519</th>\n",
              "      <td>2018-01-20</td>\n",
              "      <td>2021-09-02 13:05:00</td>\n",
              "      <td>BRONX</td>\n",
              "      <td>10462.0</td>\n",
              "      <td>40.831210</td>\n",
              "      <td>-73.850876</td>\n",
              "      <td>CASTLE HILL AVENUE</td>\n",
              "      <td>0</td>\n",
              "      <td>0</td>\n",
              "      <td>0</td>\n",
              "      <td>0</td>\n",
              "      <td>0</td>\n",
              "      <td>0</td>\n",
              "      <td>Unsafe Lane Changing</td>\n",
              "      <td>Unspecified</td>\n",
              "      <td>NaN</td>\n",
              "      <td>NaN</td>\n",
              "      <td>NaN</td>\n",
              "      <td>3832513</td>\n",
              "      <td>PASSENGER VEHICLE</td>\n",
              "      <td>SPORT UTILITY / STATION WAGON</td>\n",
              "      <td>NaN</td>\n",
              "      <td>NaN</td>\n",
              "      <td>NaN</td>\n",
              "      <td>13</td>\n",
              "      <td>Saturday</td>\n",
              "    </tr>\n",
              "    <tr>\n",
              "      <th>238520</th>\n",
              "      <td>2018-01-29</td>\n",
              "      <td>2021-09-02 17:45:00</td>\n",
              "      <td>QUEENS</td>\n",
              "      <td>11377.0</td>\n",
              "      <td>40.757250</td>\n",
              "      <td>-73.904854</td>\n",
              "      <td>31 AVENUE</td>\n",
              "      <td>0</td>\n",
              "      <td>0</td>\n",
              "      <td>0</td>\n",
              "      <td>0</td>\n",
              "      <td>2</td>\n",
              "      <td>0</td>\n",
              "      <td>Failure to Yield Right-of-Way</td>\n",
              "      <td>Unspecified</td>\n",
              "      <td>NaN</td>\n",
              "      <td>NaN</td>\n",
              "      <td>NaN</td>\n",
              "      <td>3837608</td>\n",
              "      <td>SPORT UTILITY / STATION WAGON</td>\n",
              "      <td>PASSENGER VEHICLE</td>\n",
              "      <td>NaN</td>\n",
              "      <td>NaN</td>\n",
              "      <td>NaN</td>\n",
              "      <td>17</td>\n",
              "      <td>Monday</td>\n",
              "    </tr>\n",
              "    <tr>\n",
              "      <th>238521</th>\n",
              "      <td>2018-01-23</td>\n",
              "      <td>2021-09-02 16:38:00</td>\n",
              "      <td>BROOKLYN</td>\n",
              "      <td>11211.0</td>\n",
              "      <td>40.710197</td>\n",
              "      <td>-73.958430</td>\n",
              "      <td>HAVEMEYER STREET</td>\n",
              "      <td>0</td>\n",
              "      <td>0</td>\n",
              "      <td>0</td>\n",
              "      <td>0</td>\n",
              "      <td>0</td>\n",
              "      <td>0</td>\n",
              "      <td>Following Too Closely</td>\n",
              "      <td>Passing or Lane Usage Improper</td>\n",
              "      <td>NaN</td>\n",
              "      <td>NaN</td>\n",
              "      <td>NaN</td>\n",
              "      <td>3833631</td>\n",
              "      <td>SPORT UTILITY / STATION WAGON</td>\n",
              "      <td>SPORT UTILITY / STATION WAGON</td>\n",
              "      <td>NaN</td>\n",
              "      <td>NaN</td>\n",
              "      <td>NaN</td>\n",
              "      <td>16</td>\n",
              "      <td>Tuesday</td>\n",
              "    </tr>\n",
              "  </tbody>\n",
              "</table>\n",
              "<p>238522 rows × 26 columns</p>\n",
              "</div>"
            ],
            "text/plain": [
              "             DATE                TIME  ... HOUR    WEEKDAY\n",
              "0      2018-09-26 2021-09-02 12:12:00  ...   12  Wednesday\n",
              "1      2018-09-25 2021-09-02 16:30:00  ...   16    Tuesday\n",
              "2      2019-08-22 2021-09-02 19:30:00  ...   19   Thursday\n",
              "3      2018-09-23 2021-09-02 13:10:00  ...   13     Sunday\n",
              "4      2019-08-20 2021-09-02 22:40:00  ...   22    Tuesday\n",
              "...           ...                 ...  ...  ...        ...\n",
              "238517 2018-01-20 2021-09-02 15:00:00  ...   15   Saturday\n",
              "238518 2018-01-04 2021-09-02 14:00:00  ...   14   Thursday\n",
              "238519 2018-01-20 2021-09-02 13:05:00  ...   13   Saturday\n",
              "238520 2018-01-29 2021-09-02 17:45:00  ...   17     Monday\n",
              "238521 2018-01-23 2021-09-02 16:38:00  ...   16    Tuesday\n",
              "\n",
              "[238522 rows x 26 columns]"
            ]
          },
          "metadata": {},
          "execution_count": 51
        }
      ]
    },
    {
      "cell_type": "markdown",
      "metadata": {
        "id": "N3CXda40ENjK"
      },
      "source": [
        "Segun la grafica se puede concluir que la mayor frecuencia de accidentes se presenta en la semana de LUNES a VIERNES lo cual puede deberse a que mucha gente tiene que salir cada uno de estos dias a trabajar y prefieren salir en sus propios vehiculos que utilizar el TP, y de estos dias el viernes es el que presenta la mayor frecuencia de accidentes y esto se puede deber a que es el ultimo dia de entre semana y la gente quiere salir a divertirse un rato para desestresarse de toda la carga laboral o personal que tuvo durante la semana y aprovechan este dia ya que posiblemente no tienen que madrugar un sabado. Y se puede determinar que los fines de semana son los dias que no tienen tanta frecuencia de accidentes en especial el dia domingo y esto se puede deber a que la gente utiliza estos dos dias de la semana para descansar y disfrutar con la familia."
      ]
    },
    {
      "cell_type": "markdown",
      "metadata": {
        "id": "zK9jZ02HENjK"
      },
      "source": [
        "### Ejercicio 7\n",
        "\n",
        "Trace una gráfica de barras del número total de accidentes en cada municipio, así como uno de los accidentes por milla cuadrada por municipio. ¿Qué puedes concluir?\n",
        "\n",
        "**Sugerencia:** Es posible que desee actualizar algunas de las claves en el diccionario del municipio para que coincidan con los nombres en el marco de datos."
      ]
    },
    {
      "cell_type": "markdown",
      "metadata": {
        "id": "SC88zyEtENjL"
      },
      "source": [
        "**Respuesta.**"
      ]
    },
    {
      "cell_type": "code",
      "metadata": {
        "id": "CQLxAnIqENjM",
        "colab": {
          "base_uri": "https://localhost:8080/",
          "height": 380
        },
        "outputId": "a504712a-6cce-4ea3-d254-b3c029ad9f4e"
      },
      "source": [
        "borough_accidents = df.groupby('BOROUGH').size()\n",
        "borough_accidents.index\n",
        "borough_accidents.values\n",
        "plt.bar(borough_accidents.index,borough_accidents.values, color='pink')\n",
        "plt.title('Distribución de accidentes en los Municipios')\n",
        "plt.xlabel('Municipio')\n",
        "plt.ylabel('Frecuencia de Accidentes')\n",
        "plt.xticks(rotation=90)"
      ],
      "execution_count": 35,
      "outputs": [
        {
          "output_type": "execute_result",
          "data": {
            "text/plain": [
              "([0, 1, 2, 3, 4], <a list of 5 Text major ticklabel objects>)"
            ]
          },
          "metadata": {},
          "execution_count": 35
        },
        {
          "output_type": "display_data",
          "data": {
            "image/png": "[encoded data removed]",
            "text/plain": [
              "<Figure size 432x288 with 1 Axes>"
            ]
          },
          "metadata": {
            "needs_background": "light"
          }
        }
      ]
    },
    {
      "cell_type": "markdown",
      "metadata": {
        "id": "B-j7bAtcENjN"
      },
      "source": [
        "Segun la grafica se puede evidenciar que en NY el municipio con mayor frecuencia de accidentes es BROOKLYN y el que presenta menor frecuencia de accidentes es STATEN ISLAND."
      ]
    },
    {
      "cell_type": "code",
      "metadata": {
        "id": "W9PfCmyNENjN",
        "colab": {
          "base_uri": "https://localhost:8080/"
        },
        "outputId": "3438bbdf-a188-452c-93cc-f52a11f64c03"
      },
      "source": [
        "valores = borough_data.values()\n",
        "areas_borough = {}\n",
        "for ab in valores:\n",
        "  areas = ab['area'] \n",
        "  names = ab['name']\n",
        "  areas_borough[names]=areas\n",
        "print(areas_borough) "
      ],
      "execution_count": 29,
      "outputs": [
        {
          "output_type": "stream",
          "name": "stdout",
          "text": [
            "{'the bronx': 42.1, 'brooklyn': 70.82, 'manhattan': 22.83, 'queens': 108.53, 'staten island': 58.37}\n"
          ]
        }
      ]
    },
    {
      "cell_type": "markdown",
      "metadata": {
        "id": "wsW9JTZqENjO"
      },
      "source": [
        "Segun la información arrojada por la variable areas_borough el municipio que presenta mayor area es QUEENS con 108.53 y el que presenta menor area es MANHATTAN con 22.83."
      ]
    },
    {
      "cell_type": "code",
      "metadata": {
        "scrolled": true,
        "id": "UARLvUejENjO",
        "colab": {
          "base_uri": "https://localhost:8080/",
          "height": 367
        },
        "outputId": "12b431ee-a135-404a-eab3-fb87fbc2ad6a"
      },
      "source": [
        "plt.bar(range(len(areas_borough)), areas_borough.values(), align= 'center', color= 'gray')\n",
        "plt.xticks(range(len(areas_borough)), list(areas_borough.keys()), rotation=90)\n",
        "plt.title('Area por Municipio')\n",
        "plt.xlabel('Municipio')\n",
        "plt.ylabel('Area')"
      ],
      "execution_count": 31,
      "outputs": [
        {
          "output_type": "execute_result",
          "data": {
            "text/plain": [
              "Text(0, 0.5, 'Area')"
            ]
          },
          "metadata": {},
          "execution_count": 31
        },
        {
          "output_type": "display_data",
          "data": {
            "image/png": "[encoded data removed]",
            "text/plain": [
              "<Figure size 432x288 with 1 Axes>"
            ]
          },
          "metadata": {
            "needs_background": "light"
          }
        }
      ]
    },
    {
      "cell_type": "code",
      "metadata": {
        "colab": {
          "base_uri": "https://localhost:8080/"
        },
        "id": "6Qsn67-qVl9s",
        "outputId": "2372d527-7c58-41a6-89f6-354e70591f11"
      },
      "source": [
        "#Cambio de Claves de Diccionario para no tener inconvenientes con los nombres\n",
        "cambio_borough_data = {'brooklyn': 'BROOKLYN', 'manhattan': 'MANHATTAN', 'queens': 'QUEENS', 'staten island': 'STATEN ISLAND', 'the bronx': 'BRONX'}\n",
        "nuevo_borough_data =  dict((cambio_borough_data[key], value) for (key, value) in borough_data.items())\n",
        "nuevo_borough_data"
      ],
      "execution_count": 22,
      "outputs": [
        {
          "output_type": "execute_result",
          "data": {
            "text/plain": [
              "{'BRONX': {'area': 42.1, 'name': 'the bronx', 'population': 1471160.0},\n",
              " 'BROOKLYN': {'area': 70.82, 'name': 'brooklyn', 'population': 2648771.0},\n",
              " 'MANHATTAN': {'area': 22.83, 'name': 'manhattan', 'population': 1664727.0},\n",
              " 'QUEENS': {'area': 108.53, 'name': 'queens', 'population': 2358582.0},\n",
              " 'STATEN ISLAND': {'area': 58.37,\n",
              "  'name': 'staten island',\n",
              "  'population': 479458.0}}"
            ]
          },
          "metadata": {},
          "execution_count": 22
        }
      ]
    },
    {
      "cell_type": "code",
      "metadata": {
        "colab": {
          "base_uri": "https://localhost:8080/",
          "height": 380
        },
        "id": "iBTd9Y6fTpMu",
        "outputId": "e1f5dbcc-07ec-43d3-ad54-b925bf242c0c"
      },
      "source": [
        "import math\n",
        "dfConcentrationAccidents = (df.groupby(df['BOROUGH']).size())\n",
        "for i in list(dfConcentrationAccidents.index): \n",
        "  area = nuevo_borough_data[i]['area']\n",
        "  dfConcentrationAccidents[i] = math.ceil(dfConcentrationAccidents[i]/area)\n",
        "dfConcentrationAccidents.plot.bar(color= 'turquoise')\n",
        "plt.xlabel('Municipio')\n",
        "plt.ylabel('Accidentes')\n",
        "plt.title(\"ACCIDENTES POR MILLA CUADRADA POR MUNICIPIO\")"
      ],
      "execution_count": 34,
      "outputs": [
        {
          "output_type": "execute_result",
          "data": {
            "text/plain": [
              "Text(0.5, 1.0, 'ACCIDENTES POR MILLA CUADRADA POR MUNICIPIO')"
            ]
          },
          "metadata": {},
          "execution_count": 34
        },
        {
          "output_type": "display_data",
          "data": {
            "image/png": "[encoded data removed]",
            "text/plain": [
              "<Figure size 432x288 with 1 Axes>"
            ]
          },
          "metadata": {
            "needs_background": "light"
          }
        }
      ]
    },
    {
      "cell_type": "markdown",
      "metadata": {
        "id": "ZLrx-LhWENjO"
      },
      "source": [
        "Con ayuda de la grafica se evidencia facilmente que Manhattan es el municipio que tiene mayor frecuencia de accidentes por millas cuadradas y que Staten Island es el municipio que tiene la menor frecuencia de accidentes por millas cuadradas."
      ]
    },
    {
      "cell_type": "code",
      "metadata": {
        "colab": {
          "base_uri": "https://localhost:8080/",
          "height": 380
        },
        "id": "R59qeBiJOLV5",
        "outputId": "b2b71905-00cf-4296-d419-39bb7e42889d"
      },
      "source": [
        "plt.subplot(121)\n",
        "borough_accidents.plot.bar(color='pink')\n",
        "plt.title('Accidentes por Municipio')\n",
        "plt.subplot(122)\n",
        "dfConcentrationAccidents.plot.bar(color='turquoise')\n",
        "plt.title('Accidentes por millas cuadradas')"
      ],
      "execution_count": 42,
      "outputs": [
        {
          "output_type": "execute_result",
          "data": {
            "text/plain": [
              "Text(0.5, 1.0, 'Accidentes por millas cuadradas')"
            ]
          },
          "metadata": {},
          "execution_count": 42
        },
        {
          "output_type": "display_data",
          "data": {
            "image/png": "[encoded data removed]",
            "text/plain": [
              "<Figure size 432x288 with 2 Axes>"
            ]
          },
          "metadata": {
            "needs_background": "light"
          }
        }
      ]
    },
    {
      "cell_type": "code",
      "metadata": {
        "colab": {
          "base_uri": "https://localhost:8080/"
        },
        "id": "kZVSj_OASX9U",
        "outputId": "33fd0241-7f74-4aa6-d8a7-381ce255897d"
      },
      "source": [
        "valores"
      ],
      "execution_count": 43,
      "outputs": [
        {
          "output_type": "execute_result",
          "data": {
            "text/plain": [
              "dict_values([{'name': 'the bronx', 'population': 1471160.0, 'area': 42.1}, {'name': 'brooklyn', 'population': 2648771.0, 'area': 70.82}, {'name': 'manhattan', 'population': 1664727.0, 'area': 22.83}, {'name': 'queens', 'population': 2358582.0, 'area': 108.53}, {'name': 'staten island', 'population': 479458.0, 'area': 58.37}])"
            ]
          },
          "metadata": {},
          "execution_count": 43
        }
      ]
    },
    {
      "cell_type": "markdown",
      "metadata": {
        "id": "HBf-apSmQitq"
      },
      "source": [
        "***Conclusión:*** Al realizar detenidamente el analisis de las 2 graficas obtenidas anteriormente se puede evidenciar que BROOKLYN tiene mayor frecuencia de accidentes segun la grafica 1, pero en la grafica 2 se evidencia que MANHATTAN tiene la mayor frecuencia de accidentes por millas cuadradas. En lo que concuerdan las dos graficas es en que STATENISLAND tiene la menor frecuencia de accidentes."
      ]
    },
    {
      "cell_type": "markdown",
      "metadata": {
        "id": "U6gIJhhnENjP"
      },
      "source": [
        "### Ejercicio 8 \n",
        "\n",
        "¿Qué horas tienen más accidentes en cada municipio? Trace un gráfico de barras para cada municipio que muestre el número de accidentes por cada hora del día.\n",
        "\n",
        "**Sugerencia:** Puede usar ```sns.FacetGrid``` para crear una cuadrícula de parcelas con los datos por hora de cada municipio."
      ]
    },
    {
      "cell_type": "markdown",
      "metadata": {
        "id": "4J2TwbiFENjP"
      },
      "source": [
        "**Respuesta.**"
      ]
    },
    {
      "cell_type": "code",
      "metadata": {
        "id": "unWHwTjOENjQ",
        "colab": {
          "base_uri": "https://localhost:8080/",
          "height": 333
        },
        "outputId": "62264b80-a5b7-4dea-fee7-518a63867d42"
      },
      "source": [
        "df1 = pd.DataFrame({'count': df.groupby(['BOROUGH', 'HOUR']).size()})\n",
        "df1 = df1.reset_index()\n",
        "chart = sns.FacetGrid(df1, col='BOROUGH', height=6)\n",
        "chart.map(sns.barplot, 'HOUR', 'count', color='plum')"
      ],
      "execution_count": 56,
      "outputs": [
        {
          "output_type": "stream",
          "name": "stderr",
          "text": [
            "/usr/local/lib/python3.7/dist-packages/seaborn/axisgrid.py:643: UserWarning: Using the barplot function without specifying `order` is likely to produce an incorrect plot.\n",
            "  warnings.warn(warning)\n"
          ]
        },
        {
          "output_type": "execute_result",
          "data": {
            "text/plain": [
              "<seaborn.axisgrid.FacetGrid at 0x7fe774f91690>"
            ]
          },
          "metadata": {},
          "execution_count": 56
        },
        {
          "output_type": "display_data",
          "data": {
            "image/png": "[encoded data removed]",
            "text/plain": [
              "<Figure size 2160x432 with 5 Axes>"
            ]
          },
          "metadata": {
            "needs_background": "light"
          }
        }
      ]
    },
    {
      "cell_type": "markdown",
      "metadata": {
        "id": "PnagNTgpENjQ"
      },
      "source": [
        "**¿Es mayor el número de accidentes en diferentes momentos en diferentes distritos? ¿Deberíamos concentrarnos en diferentes momentos para cada municipio?**"
      ]
    },
    {
      "cell_type": "markdown",
      "metadata": {
        "id": "1CFIYuvYENjR"
      },
      "source": [
        "***Al realizar el analisis de las graficas se puede concluir que:***\n",
        "\n",
        "a. Mayor frecuencia horaria de Accidentes en los diferentes municipios:\n",
        "  - Bronx: 16 horas\n",
        "  - Brooklyn: 16 horas\n",
        "  - Manhattan: 14 horas\n",
        "  - Queens: 17 horas\n",
        "  - Staten Island: 16 horas\n",
        "\n",
        "b. Menor frecuencia horaria de Accidentes en los diferentes municipios:\n",
        "  - Bronx: 3:00am\n",
        "  - Brooklyn: 3:00am\n",
        "  - Manhattan: 3:00am y 4:00am\n",
        "  - Queens: 3:00am\n",
        "  - Staten Island: 3:00am\n",
        "\n",
        "c. En general, segun la grafica la mayor frecuencia de accidentes se presenta en el rango horario de [14:00 - 18:00] en todos los municipios y la menor frecuencia se presenta en el rango de [0:00 - 7:00]."
      ]
    },
    {
      "cell_type": "markdown",
      "metadata": {
        "id": "GnnFX4rzENjR"
      },
      "source": [
        "### Ejercicio 9 \n",
        "\n",
        "¿Qué factores provocan la mayoría de los accidentes? Evite contar dos veces los factores que contribuyen a un solo accidente.\n",
        "\n",
        "**Sugerencia:** Una forma de lidiar con las repeticiones es concatenar las columnas correspondientes conservando sus índices, puede hacerlo con las funciones ```pd.concat()``` y ```reset_index()```. Luego, use un ```group_by``` apropiado para contar el número de repeticiones de factores contribuidos por accidente."
      ]
    },
    {
      "cell_type": "markdown",
      "metadata": {
        "id": "kaHaCVuFENjS"
      },
      "source": [
        "**Respuesta**.\n"
      ]
    },
    {
      "cell_type": "code",
      "metadata": {
        "id": "7EMIxD9_ENjS",
        "colab": {
          "base_uri": "https://localhost:8080/",
          "height": 786
        },
        "outputId": "563381e6-6913-4e8f-ad24-e520bec94e42"
      },
      "source": [
        "Factores_accidents = pd.DataFrame({'factores': pd.concat([df['CONTRIBUTING FACTOR VEHICLE 1'],df['CONTRIBUTING FACTOR VEHICLE 2'],df['CONTRIBUTING FACTOR VEHICLE 3'],df['CONTRIBUTING FACTOR VEHICLE 4'],df['CONTRIBUTING FACTOR VEHICLE 5']], sort = False)}).reset_index()\n",
        "Factores_accidents = Factores_accidents.groupby(['factores']).size()\n",
        "Factores_accidents.plot.bar(figsize=(18,8), color='red')\n",
        "plt.title('FACTORES DE ACCIDENTES')\n",
        "plt.xlabel('Factores')\n",
        "plt.ylabel('Frecuencia de Accidentes')"
      ],
      "execution_count": null,
      "outputs": [
        {
          "output_type": "execute_result",
          "data": {
            "text/plain": [
              "Text(0, 0.5, 'Frecuencia de Accidentes')"
            ]
          },
          "metadata": {},
          "execution_count": 108
        },
        {
          "output_type": "display_data",
          "data": {
            "image/png": "[encoded data removed]",
            "text/plain": [
              "<Figure size 1296x576 with 1 Axes>"
            ]
          },
          "metadata": {
            "needs_background": "light"
          }
        }
      ]
    },
    {
      "cell_type": "code",
      "metadata": {
        "colab": {
          "base_uri": "https://localhost:8080/"
        },
        "id": "ExvuL6GsfgTs",
        "outputId": "3dfe8544-2364-4fcb-b78b-f72669ac0160"
      },
      "source": [
        "columnas = [df['CONTRIBUTING FACTOR VEHICLE 1'], df['CONTRIBUTING FACTOR VEHICLE 2'], df['CONTRIBUTING FACTOR VEHICLE 3'], df['CONTRIBUTING FACTOR VEHICLE 4'], df['CONTRIBUTING FACTOR VEHICLE 5']]\n",
        "dfFactores = pd.concat(columnas, join='inner').reset_index()\n",
        "dfFactores.columns = ['INDEX', 'FACTOR']\n",
        "dfFactores_accidents = dfFactores.groupby('FACTOR')['INDEX'].nunique()\n",
        "print('Los factores de accidentes en NY son:')\n",
        "dfFactores_accidents.sort_values(ascending=False)"
      ],
      "execution_count": 57,
      "outputs": [
        {
          "output_type": "stream",
          "name": "stdout",
          "text": [
            "Los factores de accidentes en NY son:\n"
          ]
        },
        {
          "output_type": "execute_result",
          "data": {
            "text/plain": [
              "FACTOR\n",
              "Unspecified                                              190096\n",
              "Driver Inattention/Distraction                            61752\n",
              "Failure to Yield Right-of-Way                             19641\n",
              "Following Too Closely                                     17293\n",
              "Backing Unsafely                                          14835\n",
              "Passing Too Closely                                       12631\n",
              "Passing or Lane Usage Improper                            11808\n",
              "Other Vehicular                                            8860\n",
              "Unsafe Lane Changing                                       6643\n",
              "Turning Improperly                                         6626\n",
              "Traffic Control Disregarded                                4687\n",
              "Driver Inexperience                                        4152\n",
              "Unsafe Speed                                               3469\n",
              "Reaction to Uninvolved Vehicle                             3034\n",
              "Alcohol Involvement                                        2491\n",
              "View Obstructed/Limited                                    2345\n",
              "Oversized Vehicle                                          1977\n",
              "Pavement Slippery                                          1935\n",
              "Pedestrian/Bicyclist/Other Pedestrian Error/Confusion      1788\n",
              "Aggressive Driving/Road Rage                               1095\n",
              "Passenger Distraction                                      1040\n",
              "Brakes Defective                                            840\n",
              "Fell Asleep                                                 598\n",
              "Outside Car Distraction                                     549\n",
              "Glare                                                       435\n",
              "Obstruction/Debris                                          431\n",
              "Failure to Keep Right                                       357\n",
              "Steering Failure                                            320\n",
              "Pavement Defective                                          301\n",
              "Illnes                                                      255\n",
              "Driverless/Runaway Vehicle                                  241\n",
              "Tire Failure/Inadequate                                     220\n",
              "Fatigued/Drowsy                                             218\n",
              "Lost Consciousness                                          206\n",
              "Animals Action                                              183\n",
              "Lane Marking Improper/Inadequate                            144\n",
              "Accelerator Defective                                       143\n",
              "Drugs (illegal)                                             118\n",
              "Traffic Control Device Improper/Non-Working                  99\n",
              "Cell Phone (hand-Held)                                       94\n",
              "Physical Disability                                          61\n",
              "Other Lighting Defects                                       39\n",
              "Other Electronic Device                                      31\n",
              "Tinted Windows                                               27\n",
              "Tow Hitch Defective                                          26\n",
              "Vehicle Vandalism                                            23\n",
              "Prescription Medication                                      20\n",
              "Using On Board Navigation Device                             19\n",
              "Headlights Defective                                         17\n",
              "Eating or Drinking                                           16\n",
              "Texting                                                      13\n",
              "Cell Phone (hands-free)                                      12\n",
              "Shoulders Defective/Improper                                  9\n",
              "Windshield Inadequate                                         8\n",
              "Listening/Using Headphones                                    7\n",
              "Name: INDEX, dtype: int64"
            ]
          },
          "metadata": {},
          "execution_count": 57
        }
      ]
    },
    {
      "cell_type": "markdown",
      "metadata": {
        "id": "8nm366oKgbiL"
      },
      "source": [
        "***CONCLUSIÓN***\n",
        "- Se puede concluir que el mayor factor de accidentes en NY es Unspecified llevando el pico maximo de la grafica ya que en la gran mayoria de los casos no se conocen a ciencia cierta los motivos de los diferentes accidentes.\n",
        "- Los factores de accidentes con mayor frecuencia de accientes son:\n",
        "  - Distracción del conductor\n",
        "  - No ceder el derecho de paso\n",
        "  - Seguir demasiado cerca\n",
        "  - Retroceder inseguramente\n",
        "  - Pasar demasiado cerca\n",
        "  - Adelantar o usar el carril incorrectamente."
      ]
    },
    {
      "cell_type": "markdown",
      "metadata": {
        "id": "VyvNkQXQENjT"
      },
      "source": [
        "### Ejercicio 10 \n",
        "\n",
        "¿Qué tipos de vehículos están más involucrados en accidentes por municipio? Evite contar dos veces el tipo de vehículos presentes en un solo accidente.\n",
        "\n",
        "**Sugerencia:** Puede aplicar un enfoque similar al utilizado en la pregunta anterior."
      ]
    },
    {
      "cell_type": "markdown",
      "metadata": {
        "id": "IFl4p8SgENjT"
      },
      "source": [
        "**Respuesta.** "
      ]
    },
    {
      "cell_type": "code",
      "metadata": {
        "id": "gYvbanUiENjT",
        "colab": {
          "base_uri": "https://localhost:8080/",
          "height": 530
        },
        "outputId": "0c99762f-99e2-4518-dc58-bc45828fea51"
      },
      "source": [
        "Vehiculos_accidents = pd.DataFrame({'Vehiculos' : pd.concat([df['VEHICLE TYPE CODE 1'],df['VEHICLE TYPE CODE 2'],df['VEHICLE TYPE CODE 3'],df['VEHICLE TYPE CODE 4'],df['VEHICLE TYPE CODE 5']],sort= False)}).reset_index()\n",
        "Vehiculos_accidents = Vehiculos_accidents.groupby(['Vehiculos']).size()\n",
        "Vehiculos_accidents.plot(figsize=(18,8), color='yellow')\n",
        "plt.title('VEHICULOS INVOLUCRADIOS EN ACCIDENTES')\n",
        "plt.xlabel('Vehiculos')\n",
        "plt.ylabel('Frecuencia')"
      ],
      "execution_count": 71,
      "outputs": [
        {
          "output_type": "execute_result",
          "data": {
            "text/plain": [
              "Text(0, 0.5, 'Frecuencia')"
            ]
          },
          "metadata": {},
          "execution_count": 71
        },
        {
          "output_type": "display_data",
          "data": {
            "image/png": "[encoded data removed]",
            "text/plain": [
              "<Figure size 1296x576 with 1 Axes>"
            ]
          },
          "metadata": {
            "needs_background": "light"
          }
        }
      ]
    },
    {
      "cell_type": "code",
      "metadata": {
        "colab": {
          "base_uri": "https://localhost:8080/"
        },
        "id": "mm6J8u3Vm-F_",
        "outputId": "4d3d1e61-9d11-45b6-c33c-fd793f166baa"
      },
      "source": [
        "Vehiculos = [df['VEHICLE TYPE CODE 1'], df['VEHICLE TYPE CODE 2'], df['VEHICLE TYPE CODE 3'], df['VEHICLE TYPE CODE 4'], df['VEHICLE TYPE CODE 5']]\n",
        "Vehiculos_General = pd.concat(Vehiculos).reset_index()\n",
        "Vehiculos_General.columns = ['INDEX', 'VEHICLE']\n",
        "Vehiculos_Involucrados_Accidents = Vehiculos_General.groupby('VEHICLE')['INDEX'].nunique()\n",
        "print('***LISTADO GENERAL DE TODOS LOS VEHICULOS INVOLUCRADOS EN ACCIDENTES***\\n')\n",
        "Vehiculos_Involucrados_Accidents.sort_values(ascending=False)[:30]"
      ],
      "execution_count": 74,
      "outputs": [
        {
          "output_type": "stream",
          "name": "stdout",
          "text": [
            "***LISTADO GENERAL DE TODOS LOS VEHICULOS INVOLUCRADOS EN ACCIDENTES***\n",
            "\n"
          ]
        },
        {
          "output_type": "execute_result",
          "data": {
            "text/plain": [
              "VEHICLE\n",
              "Sedan                                  119714\n",
              "Station Wagon/Sport Utility Vehicle     99146\n",
              "PASSENGER VEHICLE                       31228\n",
              "SPORT UTILITY / STATION WAGON           25059\n",
              "Taxi                                    14584\n",
              "Pick-up Truck                           10864\n",
              "Box Truck                                8509\n",
              "Bike                                     6264\n",
              "Bus                                      5848\n",
              "TAXI                                     4497\n",
              "PICK-UP TRUCK                            2774\n",
              "Van                                      2515\n",
              "Tractor Truck Diesel                     2317\n",
              "TK                                       2048\n",
              "Motorcycle                               1888\n",
              "BU                                       1720\n",
              "Dump                                     1105\n",
              "BICYCLE                                  1006\n",
              "Convertible                               987\n",
              "Ambulance                                 792\n",
              "PK                                        712\n",
              "Garbage or Refuse                         693\n",
              "Flat Bed                                  684\n",
              "VN                                        594\n",
              "DS                                        554\n",
              "Carry All                                 502\n",
              "Tractor Truck Gasoline                    388\n",
              "Tow Truck / Wrecker                       352\n",
              "DP                                        266\n",
              "MOTORCYCLE                                236\n",
              "Name: INDEX, dtype: int64"
            ]
          },
          "metadata": {},
          "execution_count": 74
        }
      ]
    },
    {
      "cell_type": "code",
      "metadata": {
        "colab": {
          "base_uri": "https://localhost:8080/"
        },
        "id": "TJCvs6UdiXOw",
        "outputId": "a527dfd1-336d-416a-d37d-4793e0446a10"
      },
      "source": [
        "Veh_Tipo1 = df[['BOROUGH', 'VEHICLE TYPE CODE 1']] \n",
        "Veh_Tipo2 = df[['BOROUGH', 'VEHICLE TYPE CODE 2']]\n",
        "Veh_Tipo3 = df[['BOROUGH', 'VEHICLE TYPE CODE 3']]\n",
        "Veh_Tipo4 = df[['BOROUGH', 'VEHICLE TYPE CODE 4']]\n",
        "Veh_Tipo5 = df[['BOROUGH', 'VEHICLE TYPE CODE 5']]\n",
        "Veh_Tipo1.columns = ['BOROUGH', 'VEHICLE']\n",
        "Veh_Tipo2.columns = ['BOROUGH', 'VEHICLE']\n",
        "Veh_Tipo3.columns = ['BOROUGH', 'VEHICLE']\n",
        "Veh_Tipo4.columns = ['BOROUGH', 'VEHICLE']\n",
        "Veh_Tipo5.columns = ['BOROUGH', 'VEHICLE']\n",
        "Vehiculos_Municipios = pd.concat([Veh_Tipo1, Veh_Tipo2, Veh_Tipo3, Veh_Tipo4, Veh_Tipo5]).reset_index()\n",
        "Vehiculos_Municipios.columns = ['INDEX', 'BOROUGH', 'VEHICLE']\n",
        "Municipio_Vehiculos = Vehiculos_Municipios.groupby(by= ['BOROUGH', 'VEHICLE'])['INDEX'].nunique()\n",
        "boroughlist = list(nuevo_borough_data.keys())\n",
        "print('***LISTADO DE VEHICULOS IMPLICADOS EN ACCIDENTES POR MUNICIPIOS***\\n')\n",
        "for i in boroughlist:\n",
        "  print(i, Municipio_Vehiculos[i].sort_values(ascending=False)[:6])\n",
        "  print('\\n')"
      ],
      "execution_count": 76,
      "outputs": [
        {
          "output_type": "stream",
          "name": "stdout",
          "text": [
            "***LISTADO DE VEHICULOS IMPLICADOS EN ACCIDENTES POR MUNICIPIOS***\n",
            "\n",
            "BRONX VEHICLE\n",
            "Sedan                                  19652\n",
            "Station Wagon/Sport Utility Vehicle    15434\n",
            "PASSENGER VEHICLE                       4941\n",
            "SPORT UTILITY / STATION WAGON           3751\n",
            "Pick-up Truck                           1670\n",
            "Taxi                                    1623\n",
            "Name: INDEX, dtype: int64\n",
            "\n",
            "\n",
            "BROOKLYN VEHICLE\n",
            "Sedan                                  39459\n",
            "Station Wagon/Sport Utility Vehicle    32262\n",
            "PASSENGER VEHICLE                      10177\n",
            "SPORT UTILITY / STATION WAGON           8099\n",
            "Pick-up Truck                           3195\n",
            "Box Truck                               2367\n",
            "Name: INDEX, dtype: int64\n",
            "\n",
            "\n",
            "MANHATTAN VEHICLE\n",
            "Sedan                                  20727\n",
            "Station Wagon/Sport Utility Vehicle    16432\n",
            "Taxi                                    8989\n",
            "PASSENGER VEHICLE                       5627\n",
            "SPORT UTILITY / STATION WAGON           4415\n",
            "Box Truck                               3545\n",
            "Name: INDEX, dtype: int64\n",
            "\n",
            "\n",
            "QUEENS VEHICLE\n",
            "Sedan                                  35103\n",
            "Station Wagon/Sport Utility Vehicle    31647\n",
            "PASSENGER VEHICLE                       8952\n",
            "SPORT UTILITY / STATION WAGON           7890\n",
            "Pick-up Truck                           3119\n",
            "Taxi                                    1766\n",
            "Name: INDEX, dtype: int64\n",
            "\n",
            "\n",
            "STATEN ISLAND VEHICLE\n",
            "Sedan                                  4773\n",
            "Station Wagon/Sport Utility Vehicle    3371\n",
            "PASSENGER VEHICLE                      1531\n",
            "SPORT UTILITY / STATION WAGON           904\n",
            "Pick-up Truck                           537\n",
            "PICK-UP TRUCK                           157\n",
            "Name: INDEX, dtype: int64\n",
            "\n",
            "\n"
          ]
        }
      ]
    },
    {
      "cell_type": "markdown",
      "metadata": {
        "id": "d7d8RvOcENjU"
      },
      "source": [
        "Segun el reporte anterior se puede concluir que los vehiculos mas involucrados en los accidentes presentados en NY son:\n",
        "- Sedan\n",
        "- Station Wagon/Sport Utility Vehicle\n",
        "- PASSENGER VEHICLE\n",
        "- SPORT UTILITY / STATION WAGON"
      ]
    },
    {
      "cell_type": "markdown",
      "metadata": {
        "id": "yCqeIHMBENjU"
      },
      "source": [
        "### Ejercicio 11 \n",
        "\n",
        "En 2018 para una [entrevista](https://www.nytimes.com/2019/01/01/nyregion/traffic-deaths-decrease-nyc.html) con The New York Times, el alcalde de Blasio de Nueva York declaró que *'Vision Zero está funcionando claramente'*. Ese año, el número de muertes en accidentes de tráfico en Nueva York se redujo a un histórico 202. Sin embargo, según lo informado por [am New York Metro](https://www.amny.com/news/vision-zero-de-blasio- 1-30707464 /), el número de víctimas mortales ha aumentado un 30% en el primer trimestre de 2019 en comparación con el año anterior y el número de peatones y ciclistas heridos no ha experimentado ninguna mejora.\n",
        "\n",
        "¿Cómo utilizaría los datos proporcionados para comprender qué salió mal en el primer trimestre de 2019?\n",
        "\n",
        "\n",
        "> - [ ] Considere los accidentes del primer trimestre de 2019. Luego, busque las causas más comunes de accidentes en los que estuvieron involucrados peatones y ciclistas. Dé una recomendación basada únicamente en esta información.\n",
        "\n",
        "> - [ ] Cree un par de mapas de calor de los accidentes que involucraron a peatones y ciclistas lesionados / muertos en el primer trimestre de 2018 y 2019. Compare estos dos para ver si hay algún cambio en la concentración de accidentes. En áreas críticas, estudie el tipo de factores involucrados en los accidentes. Dé una recomendación para visitar estas áreas para estudiar más el problema.   \n",
        "\n",
        "> - [ ] Los datos proporcionados son insuficientes para mejorar nuestra comprensión de la situación.\n",
        "\n",
        "> - [ ] Ninguna de las anteriores. Haría lo siguiente: *aquí tu respuesta recomendada*."
      ]
    },
    {
      "cell_type": "markdown",
      "metadata": {
        "id": "NO6zD9fBENjV"
      },
      "source": [
        "**Respuesta.**\n"
      ]
    },
    {
      "cell_type": "code",
      "metadata": {
        "id": "QCiaAJmLENjV"
      },
      "source": [
        ""
      ],
      "execution_count": null,
      "outputs": []
    },
    {
      "cell_type": "markdown",
      "metadata": {
        "id": "-HdlNxPKENjW"
      },
      "source": [
        "### Ejercicio 12 \n",
        "\n",
        "Calcula el número de muertes provocadas por cada tipo de vehículo. Trace un gráfico de barras para los 5 vehículos principales. ¿Qué vehículos están involucrados con mayor frecuencia en las muertes y cuánto más que los demás?\n",
        "\n",
        "**Por ejemplo,** si dos personas murieron en un accidente en el que estuvieron involucrados 5 vehículos: 4 son VEHÍCULOS DE PASAJEROS y 1 es un VAGÓN DEPORTIVO / ESTACIÓN. Luego, agregaríamos dos muertes a cada tipo de VEHÍCULO DE PASAJEROS y VAGÓN DE ESTACIÓN / SERVICIO DEPORTIVO.\n",
        "\n",
        "**Sugerencia:** Es posible que desee crear una nueva columna con el número total de muertes en el accidente. Para eso, puede encontrar útil la función ```.to_numpy()```. Luego, proceda como los ejercicios anteriores para evitar contabilizar dos veces el tipo de vehículos."
      ]
    },
    {
      "cell_type": "markdown",
      "metadata": {
        "id": "mWGdr_laENjX"
      },
      "source": [
        "**Repsuesta.**"
      ]
    },
    {
      "cell_type": "code",
      "metadata": {
        "id": "NsK1rJ65ENjX"
      },
      "source": [
        ""
      ],
      "execution_count": null,
      "outputs": []
    },
    {
      "cell_type": "markdown",
      "metadata": {
        "id": "Ct5e73C1ENjY"
      },
      "source": [
        ""
      ]
    },
    {
      "cell_type": "code",
      "metadata": {
        "id": "PufqcJYDENjY"
      },
      "source": [
        ""
      ],
      "execution_count": null,
      "outputs": []
    },
    {
      "cell_type": "markdown",
      "metadata": {
        "id": "v720VLVPENjY"
      },
      "source": [
        ""
      ]
    }
  ]
}