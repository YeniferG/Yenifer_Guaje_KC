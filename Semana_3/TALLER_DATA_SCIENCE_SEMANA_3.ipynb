{
  "nbformat": 4,
  "nbformat_minor": 0,
  "metadata": {
    "colab": {
      "name": "TALLER DATA SCIENCE - SEMANA 3.ipynb",
      "provenance": [],
      "collapsed_sections": []
    },
    "kernelspec": {
      "display_name": "Python 3",
      "language": "python",
      "name": "python3"
    },
    "language_info": {
      "codemirror_mode": {
        "name": "ipython",
        "version": 3
      },
      "file_extension": ".py",
      "mimetype": "text/x-python",
      "name": "python",
      "nbconvert_exporter": "python",
      "pygments_lexer": "ipython3",
      "version": "3.7.10"
    }
  },
  "cells": [
    {
      "cell_type": "markdown",
      "metadata": {
        "id": "Ozz-2Cgrf00-"
      },
      "source": [
        "**<h1 align=\"center\">TALLER 2 DATA SCIENCE</h1>**"
      ]
    },
    {
      "cell_type": "markdown",
      "metadata": {
        "id": "n47cxa3bFMxl"
      },
      "source": [
        "# Python en un contexto de Negocio de aerolineas (Caso practico)"
      ]
    },
    {
      "cell_type": "markdown",
      "metadata": {
        "id": "x4F5W2Xc6UOp"
      },
      "source": [
        "**Contexto empresarial.** Es un empleado de GrowthAir, una compañía aérea comercial en crecimiento. En los últimos años, GrowthAir ha expandido los servicios de vuelos de lujo a ubicaciones en todo el mundo. Tras el excelente desempeño de su equipo en la identificación de nuevas oportunidades comerciales el año pasado, se le ha encomendado la tarea de identificar los principales países para expandir aún más el servicio de vuelos de lujo de GrowthAir.\n",
        "\n",
        "**Problema empresarial.** Su gerente le ha pedido que responda a la siguiente pregunta: \"¿En qué países debería GrowthAir expandir su servicio de vuelos de lujo?\"\n",
        "\n",
        "**Contexto analítico.** Los datos relevantes son una serie de estimaciones de éxito (es decir, probabilidades de éxito) que han elaborado sus equipos internos de investigación de mercados. Usando su capacidad para realizar análisis de datos en Python, se embarcará en resumir las estimaciones de éxito disponibles para producir una recomendación concisa para su jefe."
      ]
    },
    {
      "cell_type": "code",
      "metadata": {
        "id": "QxYIji7W6k4V"
      },
      "source": [
        "#Datos sobre la probabilidad de éxito de la expansión por estimaciones de países\n",
        "success_estimates = {'Australia': [0.6, 0.33, 0.11, 0.14],\n",
        "                     'France': [0.66, 0.78, 0.98, 0.2],\n",
        "                     'Italy': [0.6],\n",
        "                     'Brazil': [0.22, 0.22, 0.43],\n",
        "                     'USA': [0.2, 0.5, 0.3],\n",
        "                     'England': [0.45],\n",
        "                     'Canada': [0.25, 0.3],\n",
        "                     'Argentina': [0.22],\n",
        "                     'Greece': [0.45, 0.66, 0.75, 0.99, 0.15, 0.66],\n",
        "                     'Morocco': [0.29],\n",
        "                     'Tunisia': [0.68, 0.56],\n",
        "                     'Egypt': [0.99],\n",
        "                     'Jamaica': [0.61, 0.65, 0.71],\n",
        "                     'Switzerland': [0.73, 0.86, 0.84, 0.51, 0.99],\n",
        "                     'Germany': [0.45, 0.49, 0.36]}"
      ],
      "execution_count": 2,
      "outputs": []
    },
    {
      "cell_type": "code",
      "metadata": {
        "colab": {
          "base_uri": "https://localhost:8080/"
        },
        "id": "u3tZUQyL6pBs",
        "outputId": "31a6ddef-b609-4317-bffa-f1d59f376f6a"
      },
      "source": [
        "print(success_estimates)"
      ],
      "execution_count": null,
      "outputs": [
        {
          "output_type": "stream",
          "text": [
            "{'Australia': [0.6, 0.33, 0.11, 0.14], 'France': [0.66, 0.78, 0.98, 0.2], 'Italy': [0.6], 'Brazil': [0.22, 0.22, 0.43], 'USA': [0.2, 0.5, 0.3], 'England': [0.45], 'Canada': [0.25, 0.3], 'Argentina': [0.22], 'Greece': [0.45, 0.66, 0.75, 0.99, 0.15, 0.66], 'Morocco': [0.29], 'Tunisia': [0.68, 0.56], 'Egypt': [0.99], 'Jamaica': [0.61, 0.65, 0.71], 'Switzerland': [0.73, 0.86, 0.84, 0.51, 0.99], 'Germany': [0.45, 0.49, 0.36]}\n"
          ],
          "name": "stdout"
        }
      ]
    },
    {
      "cell_type": "markdown",
      "metadata": {
        "id": "_vmWKSES6usL"
      },
      "source": [
        "Observe el reordenamiento de los elementos del diccionario cuando imprimimos en comparación con el orden en el que originalmente definimos el diccionario. Este es un aspecto clave de los tipos de datos de diccionario: ¡están desordenados! (Esto es muy diferente en comparación con los tipos de datos de lista, que están ordenados.).\n",
        "\n",
        "Ahora intuitivamente, nos gustaría recomendar que la empresa se esfuerce en el país con la estimación de éxito más alta. Pero, ¿qué significa esto cuando hay múltiples estimaciones de éxito para algunos países y solo una para otros? Exploraremos esto a continuación.\n",
        "\n",
        "\n",
        "# Interactuemos con los diccionarios y listas\n",
        "\n",
        "Si observa detenidamente el diccionario ```success_estimates```, verá que algunos países solo tienen una estimación de éxito, mientras que otros tienen muchas. Por ejemplo, Inglaterra solo tiene una estimación en su lista [0,45], mientras que Jamaica tiene tres estimaciones en su lista [0,61, 0,65, 0,71]. Acerquémonos a Jamaica y echemos un vistazo a algunas estadísticas resumidas de las estimaciones.\n",
        "\n",
        "En Python, el tipo de diccionario tiene métodos incorporados (funciones, que discutiremos más adelante) para acceder a las claves y valores del diccionario. Estos métodos se llaman escribiendo  ```.keys()``` o ```.values ()``` después del objeto dictonary. Cambiaremos el tipo de retorno de las llamadas ```.keys()``` y ```.values()``` a una lista utilizando el método ```list()```."
      ]
    },
    {
      "cell_type": "code",
      "metadata": {
        "colab": {
          "base_uri": "https://localhost:8080/"
        },
        "id": "ApZ3bU-l6uIj",
        "outputId": "83a0c2c3-48ee-4608-8c03-decc88c06c50"
      },
      "source": [
        "list(success_estimates.keys())"
      ],
      "execution_count": null,
      "outputs": [
        {
          "output_type": "execute_result",
          "data": {
            "text/plain": [
              "['Australia',\n",
              " 'France',\n",
              " 'Italy',\n",
              " 'Brazil',\n",
              " 'USA',\n",
              " 'England',\n",
              " 'Canada',\n",
              " 'Argentina',\n",
              " 'Greece',\n",
              " 'Morocco',\n",
              " 'Tunisia',\n",
              " 'Egypt',\n",
              " 'Jamaica',\n",
              " 'Switzerland',\n",
              " 'Germany']"
            ]
          },
          "metadata": {},
          "execution_count": 4
        }
      ]
    },
    {
      "cell_type": "code",
      "metadata": {
        "colab": {
          "base_uri": "https://localhost:8080/"
        },
        "id": "QG0UF31N7blB",
        "outputId": "512b1bfe-18ab-4763-87d1-94eee7df9ed9"
      },
      "source": [
        "list(success_estimates.values())"
      ],
      "execution_count": null,
      "outputs": [
        {
          "output_type": "execute_result",
          "data": {
            "text/plain": [
              "[[0.6, 0.33, 0.11, 0.14],\n",
              " [0.66, 0.78, 0.98, 0.2],\n",
              " [0.6],\n",
              " [0.22, 0.22, 0.43],\n",
              " [0.2, 0.5, 0.3],\n",
              " [0.45],\n",
              " [0.25, 0.3],\n",
              " [0.22],\n",
              " [0.45, 0.66, 0.75, 0.99, 0.15, 0.66],\n",
              " [0.29],\n",
              " [0.68, 0.56],\n",
              " [0.99],\n",
              " [0.61, 0.65, 0.71],\n",
              " [0.73, 0.86, 0.84, 0.51, 0.99],\n",
              " [0.45, 0.49, 0.36]]"
            ]
          },
          "metadata": {},
          "execution_count": 5
        }
      ]
    },
    {
      "cell_type": "markdown",
      "metadata": {
        "id": "nlH6GNGb7fgf"
      },
      "source": [
        "Haremos uso del acceso a las llaves primarias y valores de un diccionario más adelante en el caso al comparar las estimaciones de numerosos países. Por ahora, recuerde que puede acceder a la lista completa de llaves primarias o valores de un diccionario simplemente llamando a los métodos integrados.\n",
        "\n",
        "# Ejercicio 1\n",
        "También nos gustaría comprobar si el nombre de un país es una de las claves del diccionario. Verificar si Morocco y Japan se encuentran en ``success_estimates``\n",
        "\n",
        "De ser asi obtener la lista de valores para Morocco y Japan\n"
      ]
    },
    {
      "cell_type": "code",
      "metadata": {
        "colab": {
          "base_uri": "https://localhost:8080/"
        },
        "id": "bvQb-Sc7gE9e",
        "outputId": "feb946a6-3f60-4e0d-df4b-7343e923c265"
      },
      "source": [
        "count = 0\n",
        "agg_pais=[]\n",
        "for pais, esti in success_estimates.items():\n",
        "  if (pais == 'Morocco'):\n",
        "    agg_pais.append([pais,esti])\n",
        "    count +=1\n",
        "  if (pais == 'Japan'):\n",
        "    agg_pais.append([pais,esti]) \n",
        "    count +=1\n",
        "if count == 1:\n",
        "  print('El listado de valores para {0} '.format(agg_pais))\n",
        "else:\n",
        "  print('El listado de valores para {0}'.format(agg_pais))"
      ],
      "execution_count": null,
      "outputs": [
        {
          "output_type": "stream",
          "text": [
            "El listado de valores para [['Morocco', [0.29]]] \n"
          ],
          "name": "stdout"
        }
      ]
    },
    {
      "cell_type": "markdown",
      "metadata": {
        "id": "mI3Dq3aC8qNp"
      },
      "source": [
        "# Ejercicio 2\n",
        "Imprimir la longitud de las listas de estimaciones de éxito para Francia, Grecia y Marruecos.\n"
      ]
    },
    {
      "cell_type": "code",
      "metadata": {
        "colab": {
          "base_uri": "https://localhost:8080/"
        },
        "id": "5AF0-lm28sGf",
        "outputId": "bf805506-4f22-4f37-b35c-4cc5c1fe1557"
      },
      "source": [
        " france = len(success_estimates['France'])\n",
        " greece = len(success_estimates['Greece'])\n",
        " morocco = len(success_estimates['Morocco'])\n",
        " print('La longitud de la lista de estimaciones de exito para Francia es: {0}, para Greacia es: {1} y para Marruecos es: {2}'.format(france, greece, morocco))"
      ],
      "execution_count": null,
      "outputs": [
        {
          "output_type": "stream",
          "text": [
            "La longitud de la lista de estimaciones de exito para Francia es: 4, para Greacia es: 6 y para Marruecos es: 1\n"
          ],
          "name": "stdout"
        }
      ]
    },
    {
      "cell_type": "markdown",
      "metadata": {
        "id": "h8IXfjrP9Ld4"
      },
      "source": [
        "# Ejercicio 3\n",
        "\n",
        "¿Cuál de las siguientes opciones sería útil para almacenar estimaciones de éxito del proyecto si estuvieran disponibles a nivel regional en lugar de a nivel nacional?\n",
        "\n",
        "a) Lista\n",
        "\n",
        "(b) Diccionario\n",
        "\n",
        "(c) Flotantes\n",
        "\n",
        "(d) Cadena"
      ]
    },
    {
      "cell_type": "markdown",
      "metadata": {
        "id": "cOXHRJ3GhMzg"
      },
      "source": [
        "Respuesta: (b) Se hace necesario usar el diccionario ya que esto nos permite almacenar la llave primaria (key) que viene siendo el pais y el valor, los cuales son las estimaciones. Por medio de los diccionarios se permite guardar un conjunto no ordenado de pares clave-valor, siendo las claves únicas dentro de un mismo diccionario (es decir que no pueden existir dos elementos con una misma clave)."
      ]
    },
    {
      "cell_type": "markdown",
      "metadata": {
        "id": "uOXzDyFq9iqu"
      },
      "source": [
        "## Calcular una estimación de éxito promedio específica de un país\n",
        "\n",
        "Continuando con nuestro análisis sobre Jamaica, la lista contiene tres números, [0,61, 0,65, 0,71]. Recuerde que estos números son del tipo ```float``` en Python, que almacena valores decimales numéricos. Una forma lógica de resumir estas estimaciones para poder compararlas entre países es utilizar el promedio aritmético. Usemos operadores artiméticos básicos para calcular la estimación de éxito promedio para Jamaica, almacenando el resultado en una nueva variable ```avg_jamaica```:"
      ]
    },
    {
      "cell_type": "code",
      "metadata": {
        "colab": {
          "base_uri": "https://localhost:8080/"
        },
        "id": "lvtC901V9r4j",
        "outputId": "45620fa8-6c99-464d-91e4-e9df7ddab673"
      },
      "source": [
        "avg_jamaica = (0.61 + 0.65 + 0.71) / 3\n",
        "print(avg_jamaica)"
      ],
      "execution_count": null,
      "outputs": [
        {
          "output_type": "stream",
          "text": [
            "0.6566666666666666\n"
          ],
          "name": "stdout"
        }
      ]
    },
    {
      "cell_type": "markdown",
      "metadata": {
        "id": "vbEso-Zg9yEl"
      },
      "source": [
        "Vemos que la probabilidad promedio de éxito estimada para Jamaica es de aproximadamente 0.657. Sin embargo, producimos esta estimación codificando manualmente los valores. Si hiciéramos esto para todos los países, llevaría bastante tiempo. Por eso, nos gustaría utilizar una forma más automatizada de producir el promedio.\n",
        "\n",
        "Para producir un promedio, podemos utilizar una <b>función</b>. Las funciones operan sobre datos y variables en Python para realizar una acción deseada. Las funciones pueden tener tanto <b> entradas </b> como <b> salidas </b>, al igual que los operadores matemáticos familiares como suma, resta, multiplicación y división (que tienen dos entradas y una salida). Si bien las funciones en Python aún pueden tener un propósito matemático, como elevar al cuadrado un número entero, Python permite un comportamiento de función más abstracto, como imprimir en la pantalla. En este caso, la función ```print()``` imprimirá su entrada en la pantalla."
      ]
    },
    {
      "cell_type": "code",
      "metadata": {
        "colab": {
          "base_uri": "https://localhost:8080/"
        },
        "id": "NKADD__Q-CBw",
        "outputId": "ec7ee536-062b-4c45-d12f-f597651698b3"
      },
      "source": [
        "country_name = 'Jamaica'\n",
        "jamaica_list = success_estimates[country_name] # lista de estimacione spara jamaica\n",
        "print(jamaica_list)"
      ],
      "execution_count": null,
      "outputs": [
        {
          "output_type": "stream",
          "text": [
            "[0.61, 0.65, 0.71]\n"
          ],
          "name": "stdout"
        }
      ]
    },
    {
      "cell_type": "code",
      "metadata": {
        "colab": {
          "base_uri": "https://localhost:8080/"
        },
        "id": "NEnDr1a_-HrH",
        "outputId": "9f19fbd0-5f7e-42f3-963a-a066afc4125e"
      },
      "source": [
        "avg_jamaica = sum(jamaica_list) / len(jamaica_list)\n",
        "min_jamaica = min(jamaica_list)\n",
        "max_jamaica = max(jamaica_list)\n",
        "print(\"Pais:\",country_name,\", Average:\",avg_jamaica)\n",
        "print(\"Pais:\",country_name,\", Min:\",min_jamaica)\n",
        "print(\"Pais:\",country_name,\", Max:\",max_jamaica)"
      ],
      "execution_count": null,
      "outputs": [
        {
          "output_type": "stream",
          "text": [
            "Pais: Jamaica , Average: 0.6566666666666666\n",
            "Pais: Jamaica , Min: 0.61\n",
            "Pais: Jamaica , Max: 0.71\n"
          ],
          "name": "stdout"
        }
      ]
    },
    {
      "cell_type": "code",
      "metadata": {
        "colab": {
          "base_uri": "https://localhost:8080/"
        },
        "id": "Y0FSNwxC-L_W",
        "outputId": "009810b8-fb60-4a12-bc0c-b1e82a391052"
      },
      "source": [
        "# Ahora redondeando\n",
        "avg_jamaica = round(sum(jamaica_list) / len(jamaica_list),2)\n",
        "min_jamaica = round(min(jamaica_list),2)\n",
        "max_jamaica = round(max(jamaica_list),2)\n",
        "print(\"Pais:\",country_name,\", Average:\",avg_jamaica)\n",
        "print(\"Pais:\",country_name,\", Min:\",min_jamaica)\n",
        "print(\"Pais:\",country_name,\", Max:\",max_jamaica)"
      ],
      "execution_count": null,
      "outputs": [
        {
          "output_type": "stream",
          "text": [
            "Pais: Jamaica , Average: 0.66\n",
            "Pais: Jamaica , Min: 0.61\n",
            "Pais: Jamaica , Max: 0.71\n"
          ],
          "name": "stdout"
        }
      ]
    },
    {
      "cell_type": "markdown",
      "metadata": {
        "id": "OtV5GvUE_GpL"
      },
      "source": [
        "Escribamos un código para calcular el éxito promedio de cada país. Muestra (usando print ()) la estimación de éxito promedio de cada país en la pantalla. Las declaraciones impresas deben mostrar cada país en una nueva línea, por ejemplo:"
      ]
    },
    {
      "cell_type": "code",
      "metadata": {
        "colab": {
          "base_uri": "https://localhost:8080/"
        },
        "id": "7jDs7ZZP_JSC",
        "outputId": "974712ac-bcc7-4fbc-aab7-653a035fe36f"
      },
      "source": [
        "print(\"Pais:\",'France',\", Average:\",sum(success_estimates['France']) / len(success_estimates['France']))\n",
        "print(\"Pais:\",'Brazil',\", Average:\",sum(success_estimates['Brazil']) / len(success_estimates['Brazil']))\n",
        "print(\"Pais:\",'Argentina',\", Average:\",sum(success_estimates['Argentina']) / len(success_estimates['Argentina']))\n",
        "print(\"Pais:\",'Germany',\", Average:\",sum(success_estimates['Germany']) / len(success_estimates['Germany']))\n",
        "print(\"Pais:\",'Australia',\", Average:\",sum(success_estimates['Australia']) / len(success_estimates['Australia']))\n",
        "print(\"Pais:\",'Canada',\", Average:\",sum(success_estimates['Canada']) / len(success_estimates['Canada']))\n",
        "print(\"Pais:\",'Greece',\", Average:\",sum(success_estimates['Greece']) / len(success_estimates['Greece']))\n",
        "print(\"Pais:\",'USA',\", Average:\",sum(success_estimates['USA']) / len(success_estimates['USA']))\n",
        "print(\"Pais:\",'Switzerland',\", Average:\",sum(success_estimates['Switzerland']) / len(success_estimates['Switzerland']))\n",
        "print(\"Pais:\",'Tunisia',\", Average:\",sum(success_estimates['Tunisia']) /len(success_estimates['Tunisia']))\n",
        "print(\"Pais:\",'Italy',\", Average:\",sum(success_estimates['Italy']) / len(success_estimates['Italy']))\n",
        "print(\"Pais:\",'Egypt',\", Average:\",sum(success_estimates['Egypt']) / len(success_estimates['Egypt']))\n",
        "print(\"Pais:\",'Jamaica',\", Average:\",sum(success_estimates['Jamaica']) / len(success_estimates['Jamaica']))\n",
        "print(\"Pais:\",'Morocco',\", Average:\",sum(success_estimates['Morocco']) / len(success_estimates['Morocco']))\n",
        "print(\"Pais:\",'England',\", Average:\",sum(success_estimates['England']) / len(success_estimates['England']))"
      ],
      "execution_count": null,
      "outputs": [
        {
          "output_type": "stream",
          "text": [
            "Pais: France , Average: 0.655\n",
            "Pais: Brazil , Average: 0.29\n",
            "Pais: Argentina , Average: 0.22\n",
            "Pais: Germany , Average: 0.4333333333333333\n",
            "Pais: Australia , Average: 0.29500000000000004\n",
            "Pais: Canada , Average: 0.275\n",
            "Pais: Greece , Average: 0.61\n",
            "Pais: USA , Average: 0.3333333333333333\n",
            "Pais: Switzerland , Average: 0.7859999999999999\n",
            "Pais: Tunisia , Average: 0.6200000000000001\n",
            "Pais: Italy , Average: 0.6\n",
            "Pais: Egypt , Average: 0.99\n",
            "Pais: Jamaica , Average: 0.6566666666666666\n",
            "Pais: Morocco , Average: 0.29\n",
            "Pais: England , Average: 0.45\n"
          ],
          "name": "stdout"
        }
      ]
    },
    {
      "cell_type": "markdown",
      "metadata": {
        "id": "DAbF8enH_Sc_"
      },
      "source": [
        "## Determinar sistemáticamente la estimación de éxito promedio para todos los países\n",
        "\n",
        "El objetivo final de este análisis es una recomendación sobre dónde se deben considerar las oportunidades de expansión global. Para llegar a una conclusión, sería ideal tener la probabilidad de éxito promedio para cada país.\n",
        "\n",
        "Para lograr esto, usaremos un elemento de flujo de control en Python: el <b> bucle for </b>. El bucle ```for``` permite ejecutar las mismas declaraciones una y otra vez (es decir, en bucle). Esto ahorra una cantidad significativa de tiempo codificando tareas repetitivas y ayuda en la legibilidad del código. La estructura general de un bucle for es:\n",
        "\n",
        "```python\n",
        "for iterator_variable in some_sequence:\n",
        "    statements(s)\n",
        "```\n",
        "\n",
        "The for loop iterates over ```some_sequence``` and performs ```statements(s)``` at each iteration. That is, at each iteration the ```iterator_variable```  is updated to the next value in ```some_sequence```. As a concrete example, consider the loop:\n",
        "\n",
        "```python\n",
        "for i in [1,2,3,4]:\n",
        "    print(i*i)\n",
        "```\n",
        "\n",
        "Aquí, el bucle for se imprimirá en la pantalla cuatro veces; es decir, imprimirá ```1``` en la primera iteración del ciclo,```4``` en la segunda iteración,```9``` en la tercera y ```16``` en el cuarto. Por lo tanto, la instrucción de bucle for iterará sobre todos los elementos de la lista ```[1,2,3,4]```, y en cada iteración actualiza la variable iteradora ```i``` a la siguiente valor en la lista ```[1,2,3,4]```.\n",
        "\n",
        "Usemos un ciclo for en los datos de nuestro país obteniendo una lista de todas las claves en ```success_estimates```:\n"
      ]
    },
    {
      "cell_type": "code",
      "metadata": {
        "colab": {
          "base_uri": "https://localhost:8080/"
        },
        "id": "eb41lA4Q_tHQ",
        "outputId": "73cc0d8e-9715-4322-f017-46a78a22b2a4"
      },
      "source": [
        "country_name_list = list(success_estimates.keys())\n",
        "print(country_name_list)"
      ],
      "execution_count": null,
      "outputs": [
        {
          "name": "stdout",
          "output_type": "stream",
          "text": [
            "['Australia', 'France', 'Italy', 'Brazil', 'USA', 'England', 'Canada', 'Argentina', 'Greece', 'Morocco', 'Tunisia', 'Egypt', 'Jamaica', 'Switzerland', 'Germany']\n"
          ]
        }
      ]
    },
    {
      "cell_type": "markdown",
      "metadata": {
        "id": "dxedpUgy_wf2"
      },
      "source": [
        "Aquí podemos recorrer todos los elementos en ```country_name_list```, extraemos el valor correspondiente de ```success_estimates``` (que será del tipo list), y posteriormente tomamos la media de la lista. La impresión detallada lo guiará a través de la ejecución del bucle for."
      ]
    },
    {
      "cell_type": "markdown",
      "metadata": {
        "id": "6tduuEXdfdw6"
      },
      "source": [
        "# Ejericicio 4\n",
        "\n",
        "Crear un loop que obtenga e imprima el promedio de la tasa de exito de cada pais"
      ]
    },
    {
      "cell_type": "code",
      "metadata": {
        "colab": {
          "base_uri": "https://localhost:8080/"
        },
        "id": "FM4hM6wA_z7m",
        "outputId": "22f46e6b-a1b0-4e14-dc19-d7e5ca66b4e7"
      },
      "source": [
        "for pais, esti in success_estimates.items():\n",
        "  avg_pais = round(sum(success_estimates[pais]) / len(success_estimates[pais]),2)\n",
        "  print(\"Pais: {0}, Average:\".format(pais), avg_pais)\n",
        "  print('------------------------------------------------------------------------')"
      ],
      "execution_count": null,
      "outputs": [
        {
          "output_type": "stream",
          "text": [
            "Pais: Australia, Average: 0.3\n",
            "------------------------------------------------------------------------\n",
            "Pais: France, Average: 0.66\n",
            "------------------------------------------------------------------------\n",
            "Pais: Italy, Average: 0.6\n",
            "------------------------------------------------------------------------\n",
            "Pais: Brazil, Average: 0.29\n",
            "------------------------------------------------------------------------\n",
            "Pais: USA, Average: 0.33\n",
            "------------------------------------------------------------------------\n",
            "Pais: England, Average: 0.45\n",
            "------------------------------------------------------------------------\n",
            "Pais: Canada, Average: 0.28\n",
            "------------------------------------------------------------------------\n",
            "Pais: Argentina, Average: 0.22\n",
            "------------------------------------------------------------------------\n",
            "Pais: Greece, Average: 0.61\n",
            "------------------------------------------------------------------------\n",
            "Pais: Morocco, Average: 0.29\n",
            "------------------------------------------------------------------------\n",
            "Pais: Tunisia, Average: 0.62\n",
            "------------------------------------------------------------------------\n",
            "Pais: Egypt, Average: 0.99\n",
            "------------------------------------------------------------------------\n",
            "Pais: Jamaica, Average: 0.66\n",
            "------------------------------------------------------------------------\n",
            "Pais: Switzerland, Average: 0.79\n",
            "------------------------------------------------------------------------\n",
            "Pais: Germany, Average: 0.43\n",
            "------------------------------------------------------------------------\n"
          ],
          "name": "stdout"
        }
      ]
    },
    {
      "cell_type": "markdown",
      "metadata": {
        "id": "rB01Uuq0AiJi"
      },
      "source": [
        "# Ejercicio 5\n",
        "Escribir un bucle for para calcular el mínimo y el máximo de la lista de estimaciones de éxito de cada país, imprimiendo cada uno de forma consecutiva como en el ejemplo de bucle for anterior."
      ]
    },
    {
      "cell_type": "code",
      "metadata": {
        "id": "4xXepow6AhmD",
        "colab": {
          "base_uri": "https://localhost:8080/"
        },
        "outputId": "351608be-9be1-439a-a51d-09481ae4ea8a"
      },
      "source": [
        "for pais, esti in success_estimates.items():\n",
        "  nombre_pais = pais\n",
        "  pais_list = success_estimates[nombre_pais] # lista de estimacione por pais \n",
        "  max_pais = round(max(pais_list),2)\n",
        "  min_pais = round(min(pais_list),2)\n",
        "  print('-------------------------------------------------------------------------------------------------')\n",
        "  print('El máximo de la lista de estimaciones de éxito de {0} es de: {1} y su mínimo es de: {2}'.format(nombre_pais, max_pais, min_pais))"
      ],
      "execution_count": null,
      "outputs": [
        {
          "output_type": "stream",
          "text": [
            "-------------------------------------------------------------------------------------------------\n",
            "El máximo de la lista de estimaciones de éxito de Australia es de: 0.6 y su mínimo es de: 0.11\n",
            "-------------------------------------------------------------------------------------------------\n",
            "El máximo de la lista de estimaciones de éxito de France es de: 0.98 y su mínimo es de: 0.2\n",
            "-------------------------------------------------------------------------------------------------\n",
            "El máximo de la lista de estimaciones de éxito de Italy es de: 0.6 y su mínimo es de: 0.6\n",
            "-------------------------------------------------------------------------------------------------\n",
            "El máximo de la lista de estimaciones de éxito de Brazil es de: 0.43 y su mínimo es de: 0.22\n",
            "-------------------------------------------------------------------------------------------------\n",
            "El máximo de la lista de estimaciones de éxito de USA es de: 0.5 y su mínimo es de: 0.2\n",
            "-------------------------------------------------------------------------------------------------\n",
            "El máximo de la lista de estimaciones de éxito de England es de: 0.45 y su mínimo es de: 0.45\n",
            "-------------------------------------------------------------------------------------------------\n",
            "El máximo de la lista de estimaciones de éxito de Canada es de: 0.3 y su mínimo es de: 0.25\n",
            "-------------------------------------------------------------------------------------------------\n",
            "El máximo de la lista de estimaciones de éxito de Argentina es de: 0.22 y su mínimo es de: 0.22\n",
            "-------------------------------------------------------------------------------------------------\n",
            "El máximo de la lista de estimaciones de éxito de Greece es de: 0.99 y su mínimo es de: 0.15\n",
            "-------------------------------------------------------------------------------------------------\n",
            "El máximo de la lista de estimaciones de éxito de Morocco es de: 0.29 y su mínimo es de: 0.29\n",
            "-------------------------------------------------------------------------------------------------\n",
            "El máximo de la lista de estimaciones de éxito de Tunisia es de: 0.68 y su mínimo es de: 0.56\n",
            "-------------------------------------------------------------------------------------------------\n",
            "El máximo de la lista de estimaciones de éxito de Egypt es de: 0.99 y su mínimo es de: 0.99\n",
            "-------------------------------------------------------------------------------------------------\n",
            "El máximo de la lista de estimaciones de éxito de Jamaica es de: 0.71 y su mínimo es de: 0.61\n",
            "-------------------------------------------------------------------------------------------------\n",
            "El máximo de la lista de estimaciones de éxito de Switzerland es de: 0.99 y su mínimo es de: 0.51\n",
            "-------------------------------------------------------------------------------------------------\n",
            "El máximo de la lista de estimaciones de éxito de Germany es de: 0.49 y su mínimo es de: 0.36\n"
          ],
          "name": "stdout"
        }
      ]
    },
    {
      "cell_type": "markdown",
      "metadata": {
        "id": "aIV5RdQrAr1M"
      },
      "source": [
        "# Ejercicio 6\n",
        "Escriba el código para determinar el país con el mayor rango de estimaciones de éxito (es decir, la mayor diferencia entre la estimación más pequeña y la más grande para un país)."
      ]
    },
    {
      "cell_type": "code",
      "metadata": {
        "colab": {
          "base_uri": "https://localhost:8080/"
        },
        "id": "1se-mViJAuPG",
        "outputId": "f96eeeba-c746-48bb-8f33-b06d109709c3"
      },
      "source": [
        "diferencia = {}\n",
        "\n",
        "for pais, esti in success_estimates.items():\n",
        "  nombre_pais = pais\n",
        "  pais_list = success_estimates[nombre_pais] # lista de estimacione por pais \n",
        "  max_pais = max(pais_list)\n",
        "  min_pais = min(pais_list)\n",
        "  diferencia[nombre_pais] = [max_pais-min_pais]\n",
        "  maxi_pais = max(diferencia.values())\n",
        "for k, v in diferencia.items():\n",
        "  if (v == maxi_pais):\n",
        "    print('El pais con el mayor rango de estimacion de exito es : {0} con {1}'.format(k,v))"
      ],
      "execution_count": null,
      "outputs": [
        {
          "output_type": "stream",
          "text": [
            "El pais con el mayor rango de estimacion de exito es : Greece con [0.84]\n"
          ],
          "name": "stdout"
        }
      ]
    },
    {
      "cell_type": "code",
      "metadata": {
        "colab": {
          "base_uri": "https://localhost:8080/"
        },
        "id": "V7WNawlvRuat",
        "outputId": "5d297579-0c69-43c1-b9bc-ccee824676c8"
      },
      "source": [
        "country_name_list = list(success_estimates.keys())\n",
        "mayor_rango = 0\n",
        "for pais in country_name_list: \n",
        "  minimo = min(success_estimates[pais])\n",
        "  maximo = max(success_estimates[pais])\n",
        "  rango = maximo - minimo\n",
        "  if rango > mayor_rango:\n",
        "    pais = pais \n",
        "    mayor_rango = rango\n",
        "print('{0} es el pais con mayor rango: {1}'.format(pais, mayor_rango))"
      ],
      "execution_count": 3,
      "outputs": [
        {
          "output_type": "stream",
          "text": [
            "Germany es el pais con mayor rango: 0.84\n"
          ],
          "name": "stdout"
        }
      ]
    },
    {
      "cell_type": "markdown",
      "metadata": {
        "id": "9S5rDBSEAz4-"
      },
      "source": [
        "## Uso de listas por comprensión para determinar la cantidad de estimaciones para cada país\n",
        "\n",
        "En el futuro, estamos interesados en conocer la cantidad de estimaciones de éxito disponibles para cada país. Python ofrece una forma concisa de lograr este objetivo mediante el uso de <b> listas por comprensión </b>.\n",
        "\n",
        "Las listas por comprensión le permiten a uno construir una lista de manera concisa. Echemos un vistazo a cómo funciona esto."
      ]
    },
    {
      "cell_type": "code",
      "metadata": {
        "colab": {
          "base_uri": "https://localhost:8080/"
        },
        "id": "P0r1U_MKA5d3",
        "outputId": "86d5fd65-9b8b-4a81-d73d-e4e8976e6ec7"
      },
      "source": [
        "key_name_list = [i for i in success_estimates] # loop sobre cada item  i en success_estimates y ponerlo en una lista\n",
        "key_name_list"
      ],
      "execution_count": null,
      "outputs": [
        {
          "output_type": "execute_result",
          "data": {
            "text/plain": [
              "['Australia',\n",
              " 'France',\n",
              " 'Italy',\n",
              " 'Brazil',\n",
              " 'USA',\n",
              " 'England',\n",
              " 'Canada',\n",
              " 'Argentina',\n",
              " 'Greece',\n",
              " 'Morocco',\n",
              " 'Tunisia',\n",
              " 'Egypt',\n",
              " 'Jamaica',\n",
              " 'Switzerland',\n",
              " 'Germany']"
            ]
          },
          "metadata": {},
          "execution_count": 17
        }
      ]
    },
    {
      "cell_type": "markdown",
      "metadata": {
        "id": "-loNMJI8BBK1"
      },
      "source": [
        "Aquí vemos que hemos hecho un bucle sobre cada clave del diccionario success_estimates (por lo tanto, cada país) y extraído el nombre del país, todo en una línea de código. También podemos acceder a los valores de cada clave en success_estimates."
      ]
    },
    {
      "cell_type": "code",
      "metadata": {
        "colab": {
          "base_uri": "https://localhost:8080/"
        },
        "id": "Hd9aHxC3BDKc",
        "outputId": "1d5af61e-2342-4e30-bf4b-b609117e325f"
      },
      "source": [
        "value_name_list = [success_estimates[i] for i in success_estimates] # loop sobre cada item i ensuccess_estimates y poner success_estimates[i] en la lista\n",
        "value_name_list"
      ],
      "execution_count": null,
      "outputs": [
        {
          "output_type": "execute_result",
          "data": {
            "text/plain": [
              "[[0.6, 0.33, 0.11, 0.14],\n",
              " [0.66, 0.78, 0.98, 0.2],\n",
              " [0.6],\n",
              " [0.22, 0.22, 0.43],\n",
              " [0.2, 0.5, 0.3],\n",
              " [0.45],\n",
              " [0.25, 0.3],\n",
              " [0.22],\n",
              " [0.45, 0.66, 0.75, 0.99, 0.15, 0.66],\n",
              " [0.29],\n",
              " [0.68, 0.56],\n",
              " [0.99],\n",
              " [0.61, 0.65, 0.71],\n",
              " [0.73, 0.86, 0.84, 0.51, 0.99],\n",
              " [0.45, 0.49, 0.36]]"
            ]
          },
          "metadata": {},
          "execution_count": 18
        }
      ]
    },
    {
      "cell_type": "markdown",
      "metadata": {
        "id": "4dpc0wd7BNIh"
      },
      "source": [
        "En la lista por comprensión anterior, cada valor de ```i``` es un nombre de país y el valor se devuelve cuando se llama a ```success_estimates [i]```. Vemos que esto es una forma efectiva y concisa de escribir un bucle for que crea una lista.\n",
        "\n",
        "Podemos usar esto para determinar rápidamente cuántas estimaciones de éxito están disponibles para cada país."
      ]
    },
    {
      "cell_type": "code",
      "metadata": {
        "colab": {
          "base_uri": "https://localhost:8080/"
        },
        "id": "PHJPFWi-BVXH",
        "outputId": "de2e5d62-961b-4098-a34d-c64f243527f5"
      },
      "source": [
        "[[i,len(success_estimates[i])] for i in success_estimates]"
      ],
      "execution_count": null,
      "outputs": [
        {
          "output_type": "execute_result",
          "data": {
            "text/plain": [
              "[['Australia', 4],\n",
              " ['France', 4],\n",
              " ['Italy', 1],\n",
              " ['Brazil', 3],\n",
              " ['USA', 3],\n",
              " ['England', 1],\n",
              " ['Canada', 2],\n",
              " ['Argentina', 1],\n",
              " ['Greece', 6],\n",
              " ['Morocco', 1],\n",
              " ['Tunisia', 2],\n",
              " ['Egypt', 1],\n",
              " ['Jamaica', 3],\n",
              " ['Switzerland', 5],\n",
              " ['Germany', 3]]"
            ]
          },
          "metadata": {},
          "execution_count": 19
        }
      ]
    },
    {
      "cell_type": "markdown",
      "metadata": {
        "id": "oaM-qYFjBbl2"
      },
      "source": [
        "# Ejercicio 7\n",
        "Utilizando listas por comprensión, escriba un script para crear una <b> lista de listas </b> llamada ```sum_squares_list```, donde cada elemento de la lista es una lista de dos elementos [nombre del país, valor]. El elemento de valor en la lista debe ser la suma de cuadrados de las estimaciones de éxito de ese país. Por ejemplo, un elemento de ```sum_squares_list``` debe ser para Jamaica, donde la lista de dos elementos es [Jamaica, 1.2987] (desde 1.2987 = 0.61^ 2 + 0.65^ 2 + 0.71^ 2)."
      ]
    },
    {
      "cell_type": "code",
      "metadata": {
        "colab": {
          "base_uri": "https://localhost:8080/"
        },
        "id": "Kk3uYU19BinH",
        "outputId": "86c690d5-37e2-4bad-8b70-2ff7f2945490"
      },
      "source": [
        "sum_squere_list = [[x[0],(lambda x:sum([i*i for i in x[1]]))(x)] for x in success_estimates.items()]\n",
        "sum_squere_list"
      ],
      "execution_count": null,
      "outputs": [
        {
          "output_type": "execute_result",
          "data": {
            "text/plain": [
              "[['Australia', 0.5005999999999999],\n",
              " ['France', 2.0444],\n",
              " ['Italy', 0.36],\n",
              " ['Brazil', 0.28169999999999995],\n",
              " ['USA', 0.38],\n",
              " ['England', 0.2025],\n",
              " ['Canada', 0.1525],\n",
              " ['Argentina', 0.0484],\n",
              " ['Greece', 2.6388],\n",
              " ['Morocco', 0.0841],\n",
              " ['Tunisia', 0.7760000000000001],\n",
              " ['Egypt', 0.9801],\n",
              " ['Jamaica', 1.2987],\n",
              " ['Switzerland', 3.2183],\n",
              " ['Germany', 0.5722]]"
            ]
          },
          "metadata": {},
          "execution_count": 20
        }
      ]
    },
    {
      "cell_type": "markdown",
      "metadata": {
        "id": "ZCVB0UiJBom6"
      },
      "source": [
        "# Ejercicio 8\n",
        "Nos gustaría determinar la distribución alrededor de la estimación de éxito promedio para cada país. Utilizando listas por comprensión, escriba un codigo que reste la estimación de éxito promedio para un país determinado de cada estimación de éxito para ese país. Almacene los resultados en una lista llamada ```remove_mean_list```. Redondea los valores a dos decimales. Su salida debe producir la siguiente lista de listas:\n",
        "\n",
        "\n",
        "```\n",
        "[['Australia', [0.3, 0.03, -0.19, -0.16]],\n",
        " ['France', [0.01, 0.12, 0.32, -0.46]],\n",
        " ['Italy', [0.0]],\n",
        " ['Brazil', [-0.07, -0.07, 0.14]],\n",
        " ['USA', [-0.13, 0.17, -0.03]],\n",
        " ['England', [0.0]],\n",
        " ['Canada', [-0.03, 0.02]],\n",
        " ['Argentina', [0.0]],\n",
        " ['Greece', [-0.16, 0.05, 0.14, 0.38, -0.46, 0.05]],\n",
        " ['Morocco', [0.0]],\n",
        " ['Tunisia', [0.06, -0.06]],\n",
        " ['Egypt', [0.0]],\n",
        " ['Jamaica', [-0.05, -0.01, 0.05]],\n",
        " ['Switzerland', [-0.06, 0.07, 0.05, -0.28, 0.2]],\n",
        " ['Germany', [0.02, 0.06, -0.07]]]\n",
        "```"
      ]
    },
    {
      "cell_type": "code",
      "metadata": {
        "colab": {
          "base_uri": "https://localhost:8080/"
        },
        "id": "zmL9I-N1Bn8J",
        "outputId": "683df9d3-a50c-4d4d-8636-a9992b7b5775"
      },
      "source": [
        "remove_mean_list = [[x[0],(lambda x:[round(i-sum(x[1])/len(x[1]),2) for i in x[1]])(x)] for x in success_estimates.items()]\n",
        "remove_mean_list"
      ],
      "execution_count": null,
      "outputs": [
        {
          "output_type": "execute_result",
          "data": {
            "text/plain": [
              "[['Australia', [0.3, 0.03, -0.19, -0.16]],\n",
              " ['France', [0.01, 0.12, 0.32, -0.46]],\n",
              " ['Italy', [0.0]],\n",
              " ['Brazil', [-0.07, -0.07, 0.14]],\n",
              " ['USA', [-0.13, 0.17, -0.03]],\n",
              " ['England', [0.0]],\n",
              " ['Canada', [-0.03, 0.02]],\n",
              " ['Argentina', [0.0]],\n",
              " ['Greece', [-0.16, 0.05, 0.14, 0.38, -0.46, 0.05]],\n",
              " ['Morocco', [0.0]],\n",
              " ['Tunisia', [0.06, -0.06]],\n",
              " ['Egypt', [0.0]],\n",
              " ['Jamaica', [-0.05, -0.01, 0.05]],\n",
              " ['Switzerland', [-0.06, 0.07, 0.05, -0.28, 0.2]],\n",
              " ['Germany', [0.02, 0.06, -0.07]]]"
            ]
          },
          "metadata": {},
          "execution_count": 21
        }
      ]
    },
    {
      "cell_type": "markdown",
      "metadata": {
        "id": "9j2l45uCCEvE"
      },
      "source": [
        "Según el análisis anterior, vemos que las estimaciones de éxito medio de los países varían ampliamente, desde el más bajo, Canadá = 0,275, hasta el más alto, Egipto = 0,99. Sin embargo, observe que la media de Egipto se calcula a partir de 1 estimación de éxito. ¿Confiamos en confiar en una única estimación como proxy de la estimación de éxito promedio?\n",
        "\n",
        "Dado que el proyecto de expansión global utilizará valiosos recursos de la empresa, decidimos que es mejor restringir nuestro análisis a países que tienen dos o más estimaciones de éxito. Para realizar esta tarea, usaremos una estructura de control en Python conocida como la <b> instrucción if ... elif ... else </b>. Sigue la estructura general.\n",
        "\n",
        "\n",
        "```python\n",
        "if test_expression_1:\n",
        "    block1_statement(s)\n",
        "elif test_expression_2:\n",
        "    block2_statement2(s)\n",
        "else:\n",
        "    block3_statement(s)\n",
        "```\n",
        "\n",
        "Aquí, ```test_expression_1``` y ```test_expression_2``` deben evaluarse como ```True``` o ```False```, un tipo <b>booleano</b> de Python. El tipo booleano está asociado con variables que son ```Verdadero``` o ```Falso```.\n",
        "\n",
        "Si ```test_expression_1``` es True, ```block1_statement(s)``` se ejecutará y las otras sentencias de bloque no. Si ```test_expression_1``` es False pero ```test_expression_2``` es True, entonces ```block2_statement2 (s)``` se ejecutará y los demás no. Finalmente, si ```test_expression_1``` y ``` test_expression_2``` son ambos falsos, entonces se ejecutará el ```block3_statement (s)``` de la sección else. Esta estructura condicional de una declaración if permite controlar el flujo del código Python.\n",
        "\n",
        "Usemos esto para filtrar los países que solo tienen una estimación de éxito.\n",
        "\n",
        "# Ejercicio 9\n",
        "Usaremos la declaración if anterior para eliminar los países con menos de una estimación de éxito. Para facilitar la visualización del resultado, almacenaremos las estimaciones medias de cada país en un nuevo diccionario ```country_means```."
      ]
    },
    {
      "cell_type": "code",
      "metadata": {
        "id": "v2xiYtRjCiiL",
        "colab": {
          "base_uri": "https://localhost:8080/"
        },
        "outputId": "801c01f5-81ee-44b6-835f-5b06f95aa930"
      },
      "source": [
        "country_means = dict([[x[0],[round(sum(x[1])/len(x[1]),2)]]for x in success_estimates.items() if len(x[1])>1])\n",
        "country_means"
      ],
      "execution_count": null,
      "outputs": [
        {
          "output_type": "execute_result",
          "data": {
            "text/plain": [
              "{'Australia': [0.3],\n",
              " 'Brazil': [0.29],\n",
              " 'Canada': [0.28],\n",
              " 'France': [0.66],\n",
              " 'Germany': [0.43],\n",
              " 'Greece': [0.61],\n",
              " 'Jamaica': [0.66],\n",
              " 'Switzerland': [0.79],\n",
              " 'Tunisia': [0.62],\n",
              " 'USA': [0.33]}"
            ]
          },
          "metadata": {},
          "execution_count": 22
        }
      ]
    },
    {
      "cell_type": "code",
      "metadata": {
        "colab": {
          "base_uri": "https://localhost:8080/"
        },
        "id": "yWdA2w9KTlpd",
        "outputId": "a701c5f5-459d-47fd-dcac-13c5ea0a640b"
      },
      "source": [
        "import numpy as np\n",
        "country_means = {}\n",
        "for i in list(success_estimates.keys()):\n",
        "  if len(success_estimates[i]) <= 1:\n",
        "    print(i, ': tiene solo una estimacion de exito')\n",
        "  elif len(success_estimates[i]) > 1:\n",
        "    country_means[i] = round(np.mean(success_estimates[i]),2)\n",
        "  else: \n",
        "    print('Sucedió un error')\n",
        "print('-'*50)\n",
        "country_means"
      ],
      "execution_count": 4,
      "outputs": [
        {
          "output_type": "stream",
          "text": [
            "Italy : tiene solo una estimacion de exito\n",
            "England : tiene solo una estimacion de exito\n",
            "Argentina : tiene solo una estimacion de exito\n",
            "Morocco : tiene solo una estimacion de exito\n",
            "Egypt : tiene solo una estimacion de exito\n",
            "--------------------------------------------------\n"
          ],
          "name": "stdout"
        },
        {
          "output_type": "execute_result",
          "data": {
            "text/plain": [
              "{'Australia': 0.3,\n",
              " 'Brazil': 0.29,\n",
              " 'Canada': 0.28,\n",
              " 'France': 0.66,\n",
              " 'Germany': 0.43,\n",
              " 'Greece': 0.61,\n",
              " 'Jamaica': 0.66,\n",
              " 'Switzerland': 0.79,\n",
              " 'Tunisia': 0.62,\n",
              " 'USA': 0.33}"
            ]
          },
          "metadata": {},
          "execution_count": 4
        }
      ]
    },
    {
      "cell_type": "markdown",
      "metadata": {
        "id": "46RK-_awD2l2"
      },
      "source": [
        "Al observar las medias de países resultantes, notamos que el país con la mayor estimación de éxito medio es Suiza con 0,79, mientras que la estimación de éxito medio más baja es Canadá con 0,28."
      ]
    },
    {
      "cell_type": "markdown",
      "metadata": {
        "id": "12lXfLpvD6gR"
      },
      "source": [
        "# Ejercicio 10\n",
        "Después de revisar la política de la empresa sobre procedimientos estadísticos, observa que la empresa recomienda que todas las estimaciones (promedios, mínimos, máximos) deben tener al menos tres valores que contribuyan a la estadística de resumen. Escriba un ciclo for y use la estructura de la declaración if para seleccionar e imprimir las estimaciones de éxito promedio para los países que cumplen con esta política. Si el país no cumple con la política, escriba el nombre del país y \"*No cumple con la política de la empresa*\". Cada país debería aparecer en una nueva línea."
      ]
    },
    {
      "cell_type": "code",
      "metadata": {
        "colab": {
          "base_uri": "https://localhost:8080/"
        },
        "id": "tCEHQ1vSD6G1",
        "outputId": "4830111a-df7c-4478-bc40-94ca2b5ec883"
      },
      "source": [
        "comply_politics = [[x[0],\"min: \" + str(min(x[1])),\"Avg: \" + str(round(sum(x[1])/len(x[1]),2)),\"max: \" + str(max(x[1]))] if len(x[1])>2 else [x[0],\"No cumple con la política de la empresa\"] for x in success_estimates.items()]\n",
        "comply_politics"
      ],
      "execution_count": null,
      "outputs": [
        {
          "output_type": "execute_result",
          "data": {
            "text/plain": [
              "[['Australia', 'min: 0.11', 'Avg: 0.3', 'max: 0.6'],\n",
              " ['France', 'min: 0.2', 'Avg: 0.66', 'max: 0.98'],\n",
              " ['Italy', 'No cumple con la política de la empresa'],\n",
              " ['Brazil', 'min: 0.22', 'Avg: 0.29', 'max: 0.43'],\n",
              " ['USA', 'min: 0.2', 'Avg: 0.33', 'max: 0.5'],\n",
              " ['England', 'No cumple con la política de la empresa'],\n",
              " ['Canada', 'No cumple con la política de la empresa'],\n",
              " ['Argentina', 'No cumple con la política de la empresa'],\n",
              " ['Greece', 'min: 0.15', 'Avg: 0.61', 'max: 0.99'],\n",
              " ['Morocco', 'No cumple con la política de la empresa'],\n",
              " ['Tunisia', 'No cumple con la política de la empresa'],\n",
              " ['Egypt', 'No cumple con la política de la empresa'],\n",
              " ['Jamaica', 'min: 0.61', 'Avg: 0.66', 'max: 0.71'],\n",
              " ['Switzerland', 'min: 0.51', 'Avg: 0.79', 'max: 0.99'],\n",
              " ['Germany', 'min: 0.36', 'Avg: 0.43', 'max: 0.49']]"
            ]
          },
          "metadata": {},
          "execution_count": 23
        }
      ]
    },
    {
      "cell_type": "code",
      "metadata": {
        "colab": {
          "base_uri": "https://localhost:8080/"
        },
        "id": "dw8k5A81imfO",
        "outputId": "d65f5213-3ef1-4b1a-893f-c48d7a97a064"
      },
      "source": [
        "for x in success_estimates.items():\n",
        "  if len(x[1])>=3:\n",
        "    minimo = min(x[1])\n",
        "    maximo = max (x[1])\n",
        "    promedio = round(sum(x[1])/len(x[1]),2)\n",
        "    NumEst = len(x[1])\n",
        "    print(\"Pais: {0} min: {1}, max: {2}, avg: {3}, NumEst: {4}\".format(x[0], minimo, maximo,  promedio, NumEst))\n",
        "  else:\n",
        "    print(\"Pais: {} No cumple con la política de la empresa\".format(x[0]))"
      ],
      "execution_count": null,
      "outputs": [
        {
          "output_type": "stream",
          "text": [
            "Pais: Australia min: 0.11, max: 0.6, avg: 0.3, NumEst: 4\n",
            "Pais: France min: 0.2, max: 0.98, avg: 0.66, NumEst: 4\n",
            "Pais: Italy No cumple con la política de la empresa\n",
            "Pais: Brazil min: 0.22, max: 0.43, avg: 0.29, NumEst: 3\n",
            "Pais: USA min: 0.2, max: 0.5, avg: 0.33, NumEst: 3\n",
            "Pais: England No cumple con la política de la empresa\n",
            "Pais: Canada No cumple con la política de la empresa\n",
            "Pais: Argentina No cumple con la política de la empresa\n",
            "Pais: Greece min: 0.15, max: 0.99, avg: 0.61, NumEst: 6\n",
            "Pais: Morocco No cumple con la política de la empresa\n",
            "Pais: Tunisia No cumple con la política de la empresa\n",
            "Pais: Egypt No cumple con la política de la empresa\n",
            "Pais: Jamaica min: 0.61, max: 0.71, avg: 0.66, NumEst: 3\n",
            "Pais: Switzerland min: 0.51, max: 0.99, avg: 0.79, NumEst: 5\n",
            "Pais: Germany min: 0.36, max: 0.49, avg: 0.43, NumEst: 3\n"
          ],
          "name": "stdout"
        }
      ]
    },
    {
      "cell_type": "code",
      "metadata": {
        "id": "vDUawwQCiv_S"
      },
      "source": [
        "#Datos sobre la probabilidad de éxito de la expansión por estimaciones de países\n",
        "success_estimates = {'Australia': [0.6, 0.33, 0.11, 0.14],\n",
        "                     'France': [0.66, 0.78, 0.98, 0.2],\n",
        "                     'Italy': [0.6],\n",
        "                     'Brazil': [0.22, 0.22, 0.43],\n",
        "                     'USA': [0.2, 0.5, 0.3],\n",
        "                     'England': [0.45],\n",
        "                     'Canada': [0.25, 0.3],\n",
        "                     'Argentina': [0.22],\n",
        "                     'Greece': [0.45, 0.66, 0.75, 0.99, 0.15, 0.66],\n",
        "                     'Morocco': [0.29],\n",
        "                     'Tunisia': [0.68, 0.56],\n",
        "                     'Egypt': [0.99],\n",
        "                     'Jamaica': [0.61, 0.65, 0.71],\n",
        "                     'Switzerland': [0.73, 0.86, 0.84, 0.51, 0.99],\n",
        "                     'Germany': [0.45, 0.49, 0.36]}"
      ],
      "execution_count": null,
      "outputs": []
    },
    {
      "cell_type": "markdown",
      "metadata": {
        "id": "j1Yj6ajOEc27"
      },
      "source": [
        "# Ejercicio 11\n",
        "¿Cuál es otro enfoque para mejorar el problema de una muestra en algunos países? Piense en términos de los factores que impulsan la confianza en las decisiones comerciales basadas en datos.\n",
        "\n",
        "(a) Agrupe los países en regiones más grandes para asegurarse de que cada región tenga al menos una estimación\n",
        "\n",
        "(b) Solo elimine un país si sus estimaciones son muy grandes o muy pequeñas en comparación con otras estimaciones.\n",
        "\n",
        "(c) Utilice una estadística de resumen diferente para el análisis que no sea el valor promedio.\n",
        "\n",
        "(d) Revise por qué algunos países solo tienen una estimación y vea si se pueden obtener más datos para estos países.\n",
        "\n"
      ]
    },
    {
      "cell_type": "markdown",
      "metadata": {
        "id": "eE1Ko4T2i-el"
      },
      "source": [
        "Respuesta: (d)  Despues de haber analizado el taller se puede ver que hay paises que cuentan con una sola estimacion y esto se pudo originar por un error o problema como tal, por lo que se deberia revisar el porque y revisar con mas detalles si es posible o no, obtener mas datos y si es así, los resultados y probabilidades cambiarían en un porcentaje considerable ya que como podemos ver hay paises como por ejemplo: Italia y egipto que tienen una estimacion de 0,6 y 0,99 respectivamente, y si se empieza a trabajar en estos paises pueden llegar a tener una buena estimación y ayudaria a la empresa."
      ]
    },
    {
      "cell_type": "markdown",
      "metadata": {
        "id": "uvPF5lnWEuAy"
      },
      "source": [
        "Hemos utilizado bucles y estructuras de control para calcular estadísticas resumidas parciales para cada uno de los países. Pongamos todo junto para obtener una recomendación sobre qué país deberíamos elegir para ampliar los servicios de vuelos de lujo.\n",
        "\n",
        "# Ejercicio 12\n",
        "Escriba el código para imprimir el nombre de cada país y las estadísticas resumidas. Cada línea debe mostrar un país y las estadísticas resumidas correspondientes: Estimación mínima (flotante), Estimación promedio (flotante), Estimación máxima (flotante), Número de estimaciones (int), Cumple con la política de la empresa de al menos 3 estimaciones (bool). Por ejemplo, la línea para Francia aparecería como:\n",
        "\n",
        "```\n",
        "Country: France , Min: 0.2 , Average: 0.655 , Max: 0.98 , NumEst: 4 , MeetsPolicy: True\n",
        "```"
      ]
    },
    {
      "cell_type": "code",
      "metadata": {
        "colab": {
          "base_uri": "https://localhost:8080/"
        },
        "id": "Fr-gF7MNE1gW",
        "outputId": "a3f09255-7e21-40cd-cc3d-f093501efb0a"
      },
      "source": [
        "for x in success_estimates.items():\n",
        "    minimo = min(x[1])\n",
        "    maximo = max(x[1])\n",
        "    promedio = round(sum(x[1])/len(x[1]),2)\n",
        "    numEst = len(x[1])\n",
        "    meetsPolicy = numEst >= 3\n",
        "    print(\"Country: {0} min: {1}, max: {2}, Average: {3}, NumEst: {4}, MeetsPolicy: {5}\".format(x[0], minimo, maximo,  promedio, numEst, meetsPolicy))\n",
        "    print('-----------------------------------------------------------------------------------')"
      ],
      "execution_count": null,
      "outputs": [
        {
          "output_type": "stream",
          "text": [
            "Country: Australia min: 0.11, max: 0.6, Average: 0.3, NumEst: 4, MeetsPolicy: True\n",
            "-----------------------------------------------------------------------------------\n",
            "Country: France min: 0.2, max: 0.98, Average: 0.66, NumEst: 4, MeetsPolicy: True\n",
            "-----------------------------------------------------------------------------------\n",
            "Country: Italy min: 0.6, max: 0.6, Average: 0.6, NumEst: 1, MeetsPolicy: False\n",
            "-----------------------------------------------------------------------------------\n",
            "Country: Brazil min: 0.22, max: 0.43, Average: 0.29, NumEst: 3, MeetsPolicy: True\n",
            "-----------------------------------------------------------------------------------\n",
            "Country: USA min: 0.2, max: 0.5, Average: 0.33, NumEst: 3, MeetsPolicy: True\n",
            "-----------------------------------------------------------------------------------\n",
            "Country: England min: 0.45, max: 0.45, Average: 0.45, NumEst: 1, MeetsPolicy: False\n",
            "-----------------------------------------------------------------------------------\n",
            "Country: Canada min: 0.25, max: 0.3, Average: 0.28, NumEst: 2, MeetsPolicy: False\n",
            "-----------------------------------------------------------------------------------\n",
            "Country: Argentina min: 0.22, max: 0.22, Average: 0.22, NumEst: 1, MeetsPolicy: False\n",
            "-----------------------------------------------------------------------------------\n",
            "Country: Greece min: 0.15, max: 0.99, Average: 0.61, NumEst: 6, MeetsPolicy: True\n",
            "-----------------------------------------------------------------------------------\n",
            "Country: Morocco min: 0.29, max: 0.29, Average: 0.29, NumEst: 1, MeetsPolicy: False\n",
            "-----------------------------------------------------------------------------------\n",
            "Country: Tunisia min: 0.56, max: 0.68, Average: 0.62, NumEst: 2, MeetsPolicy: False\n",
            "-----------------------------------------------------------------------------------\n",
            "Country: Egypt min: 0.99, max: 0.99, Average: 0.99, NumEst: 1, MeetsPolicy: False\n",
            "-----------------------------------------------------------------------------------\n",
            "Country: Jamaica min: 0.61, max: 0.71, Average: 0.66, NumEst: 3, MeetsPolicy: True\n",
            "-----------------------------------------------------------------------------------\n",
            "Country: Switzerland min: 0.51, max: 0.99, Average: 0.79, NumEst: 5, MeetsPolicy: True\n",
            "-----------------------------------------------------------------------------------\n",
            "Country: Germany min: 0.36, max: 0.49, Average: 0.43, NumEst: 3, MeetsPolicy: True\n",
            "-----------------------------------------------------------------------------------\n"
          ],
          "name": "stdout"
        }
      ]
    },
    {
      "cell_type": "markdown",
      "metadata": {
        "id": "tAiPYFomFDJL"
      },
      "source": [
        "# Conclusiones\n",
        "\n",
        "``` \n",
        "'France': [0.66],\n",
        "'Greece': [0.61],\n",
        "'Jamaica': [0.66],\n",
        "'Switzerland': [0.79],\n",
        "'Tunisia': [0.62],\n",
        "```\n",
        "\n",
        "*Luego de haber hecho los calculos y el analisis respectivo se puede afirmar que los paises donde debería GrowthAir expandir su servicio de vuelos de lujo son: Francia, Grecia, Jamaica, Switzerland y Tunisia; ya que son los paises que cuentan con mas de una estimacion, ademas de que su promedio es mayor 0,50 lo que permite entender que la extimacion de exito para estos paises cubren mas de la mitad.*\n",
        "\n",
        "*La empresa de GrowthAir tiene una gran probabilidad de expandir su servicio con el pais de **SwitzerLand** *ya que es el que tiene un promedio elevado.*"
      ]
    }
  ]
}