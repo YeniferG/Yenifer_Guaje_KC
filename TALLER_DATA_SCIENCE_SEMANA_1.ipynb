{
  "nbformat": 4,
  "nbformat_minor": 0,
  "metadata": {
    "colab": {
      "name": "TALLER DATA SCIENCE - SEMANA 1",
      "provenance": [],
      "collapsed_sections": [],
      "authorship_tag": "ABX9TyO3l308qywJjhPgmVZjufLs",
      "include_colab_link": true
    },
    "kernelspec": {
      "name": "python3",
      "display_name": "Python 3"
    },
    "language_info": {
      "name": "python"
    }
  },
  "cells": [
    {
      "cell_type": "markdown",
      "metadata": {
        "id": "view-in-github",
        "colab_type": "text"
      },
      "source": [
        "<a href=\"https://colab.research.google.com/github/YeniferG/Yenifer_Guaje_KC/blob/master/TALLER_DATA_SCIENCE_SEMANA_1.ipynb\" target=\"_parent\"><img src=\"https://colab.research.google.com/assets/colab-badge.svg\" alt=\"Open In Colab\"/></a>"
      ]
    },
    {
      "cell_type": "code",
      "metadata": {
        "id": "TJ_CdbAz-os4"
      },
      "source": [
        "import numpy as np \n",
        "import time"
      ],
      "execution_count": 2,
      "outputs": []
    },
    {
      "cell_type": "markdown",
      "metadata": {
        "id": "8zQonaQo9b1b"
      },
      "source": [
        "**<h1 align=\"center\">TALLER 1 DATA SCIENCE</h1>**\n"
      ]
    },
    {
      "cell_type": "markdown",
      "metadata": {
        "id": "44zAkFRx-Ym6"
      },
      "source": [
        "**1.**\tTienen el siguiente arreglo : \n",
        "\n",
        "arr = np.array([0, 1, 2, 3, 4, 5, 6, 7, 8, 9])\n",
        "\n",
        "Como es posible obtener el siguiente resultado:\n",
        "\n",
        "array([ 0, -1,  2, -1,  4, -1,  6, -1,  8, -1])\n"
      ]
    },
    {
      "cell_type": "markdown",
      "metadata": {
        "id": "ptpIgExHg5Rt"
      },
      "source": [
        "***ALTERNATIVA 1***"
      ]
    },
    {
      "cell_type": "code",
      "metadata": {
        "colab": {
          "base_uri": "https://localhost:8080/"
        },
        "id": "3reRhI8m-lnc",
        "outputId": "7967f9bb-cd59-4fb5-a4b6-d73de696bb23"
      },
      "source": [
        "arr=np.array([0,1,2,3,4,5,6,7,8,9])\n",
        "print(arr)\n",
        "print(\"----------------------------------\")\n",
        "a = np.delete(arr,(1,3,5,7,9))\n",
        "ind=[1,2,3,4,5]\n",
        "print(np.insert(a,(ind),-1))"
      ],
      "execution_count": null,
      "outputs": [
        {
          "output_type": "stream",
          "text": [
            "[0 1 2 3 4 5 6 7 8 9]\n",
            "----------------------------------\n",
            "[ 0 -1  2 -1  4 -1  6 -1  8 -1]\n"
          ],
          "name": "stdout"
        }
      ]
    },
    {
      "cell_type": "markdown",
      "metadata": {
        "id": "FkxU3AFxg9Z5"
      },
      "source": [
        "***ALTERNATIVA 2***"
      ]
    },
    {
      "cell_type": "code",
      "metadata": {
        "colab": {
          "base_uri": "https://localhost:8080/"
        },
        "id": "27Lhi5__fTOX",
        "outputId": "2602654e-694e-4f3d-c4ad-afb46b9c712f"
      },
      "source": [
        "arr=np.array([0,1,2,3,4,5,6,7,8,9])\n",
        "print(arr)\n",
        "print(\"-------------------------------\")\n",
        "indices = [1,3,5,7,9]\n",
        "arr.put(indices,-1)\n",
        "print(arr)"
      ],
      "execution_count": null,
      "outputs": [
        {
          "output_type": "stream",
          "text": [
            "[0 1 2 3 4 5 6 7 8 9]\n",
            "-------------------------------\n",
            "[ 0 -1  2 -1  4 -1  6 -1  8 -1]\n"
          ],
          "name": "stdout"
        }
      ]
    },
    {
      "cell_type": "markdown",
      "metadata": {
        "id": "nMygoWW9hBGF"
      },
      "source": [
        "***ALTERNATIVA 3***"
      ]
    },
    {
      "cell_type": "code",
      "metadata": {
        "colab": {
          "base_uri": "https://localhost:8080/"
        },
        "id": "L1i4yg5WhLND",
        "outputId": "fd02cb0f-855c-400d-8223-6ac84ddb7e42"
      },
      "source": [
        "arr=np.array([0,1,2,3,4,5,6,7,8,9])\n",
        "print(arr)\n",
        "print(\"----------------------------------\")\n",
        "ind=[1,3,5,7,9]\n",
        "arr[ind]=-1\n",
        "print(arr)"
      ],
      "execution_count": null,
      "outputs": [
        {
          "output_type": "stream",
          "text": [
            "[0 1 2 3 4 5 6 7 8 9]\n",
            "----------------------------------\n",
            "[ 0 -1  2 -1  4 -1  6 -1  8 -1]\n"
          ],
          "name": "stdout"
        }
      ]
    },
    {
      "cell_type": "markdown",
      "metadata": {
        "id": "qCLKJqwZCll8"
      },
      "source": [
        "**2.**\tTienen el siguiente input:\n",
        "\n",
        "np.arange(10)\n",
        "\n",
        "Como se puede hacer para obtener el siguiente resultado:\n",
        "\n",
        "###> array([[0, 1, 2, 3, 4],\n",
        "###>        [5, 6, 7, 8, 9]])\n"
      ]
    },
    {
      "cell_type": "code",
      "metadata": {
        "colab": {
          "base_uri": "https://localhost:8080/"
        },
        "id": "DsDxFYvXCxiR",
        "outputId": "d9982913-c57c-4c81-fbe1-2b66c3604078"
      },
      "source": [
        "a=np.arange(10)\n",
        "print(a)\n",
        "print(a.shape)\n",
        "print(\"-------------\")\n",
        "a=a.reshape((2,5))\n",
        "print(a)\n",
        "print(a.shape)"
      ],
      "execution_count": null,
      "outputs": [
        {
          "output_type": "stream",
          "text": [
            "[0 1 2 3 4 5 6 7 8 9]\n",
            "(10,)\n",
            "-------------\n",
            "[[0 1 2 3 4]\n",
            " [5 6 7 8 9]]\n",
            "(2, 5)\n"
          ],
          "name": "stdout"
        }
      ]
    },
    {
      "cell_type": "markdown",
      "metadata": {
        "id": "iyTOmKQnF9cR"
      },
      "source": [
        "**3.**\tCon base en el siguiente input:\n",
        "\n",
        "a = np.arange(10).reshape(2,-1)\n",
        "\n",
        "b = np.repeat(1, 10).reshape(2,-1)\n",
        "\n",
        "Obtener el siguiente resultado\n",
        "###> array([[0, 1, 2, 3, 4],\n",
        "###>        [5, 6, 7, 8, 9],\n",
        "###>        [1, 1, 1, 1, 1],\n",
        "###>        [1, 1, 1, 1, 1]])\n"
      ]
    },
    {
      "cell_type": "code",
      "metadata": {
        "colab": {
          "base_uri": "https://localhost:8080/"
        },
        "id": "fDRLxZ7tGH8J",
        "outputId": "c233c114-936d-4de7-b9c9-b021f352051d"
      },
      "source": [
        "a = np.arange(10).reshape(2,-1)\n",
        "print(a)\n",
        "print(\"--------------------\")\n",
        "b = np.repeat(1,10).reshape(2,-1)\n",
        "print(b)\n",
        "print(\"--------------------\")\n",
        "print(np.concatenate((a,b),axis=0))"
      ],
      "execution_count": null,
      "outputs": [
        {
          "output_type": "stream",
          "text": [
            "[[0 1 2 3 4]\n",
            " [5 6 7 8 9]]\n",
            "--------------------\n",
            "[[1 1 1 1 1]\n",
            " [1 1 1 1 1]]\n",
            "--------------------\n",
            "[[0 1 2 3 4]\n",
            " [5 6 7 8 9]\n",
            " [1 1 1 1 1]\n",
            " [1 1 1 1 1]]\n"
          ],
          "name": "stdout"
        }
      ]
    },
    {
      "cell_type": "markdown",
      "metadata": {
        "id": "F9Ct96x1JcO1"
      },
      "source": [
        "**4.**\tCon base en el siguiente input:\n",
        "\n",
        "a = np.array([1,2,3,2,3,4,3,4,5,6])\n",
        "\n",
        "b = np.array([7,2,10,2,7,4,9,4,9,8])\n",
        "\n",
        "Obtener el siguiente output\n",
        "\n",
        "array([2, 4])\n"
      ]
    },
    {
      "cell_type": "markdown",
      "metadata": {
        "id": "ayrP7JHaupsZ"
      },
      "source": [
        "***ALTERNATIVA 1***"
      ]
    },
    {
      "cell_type": "code",
      "metadata": {
        "colab": {
          "base_uri": "https://localhost:8080/"
        },
        "id": "oFq56KKOiFtI",
        "outputId": "e10cacfc-dbaf-4668-f32c-9073d653c5b6"
      },
      "source": [
        "a = np.array([1,2,3,2,3,4,3,4,5,6])\n",
        "print(a)\n",
        "b = np.array([7,2,10,2,7,4,9,4,9,8])\n",
        "print(b)\n",
        "print(\"---------------\")\n",
        "array=([a[1],b[5]])\n",
        "print(array)"
      ],
      "execution_count": null,
      "outputs": [
        {
          "output_type": "stream",
          "text": [
            "[1 2 3 2 3 4 3 4 5 6]\n",
            "[ 7  2 10  2  7  4  9  4  9  8]\n",
            "---------------\n",
            "[2, 4]\n"
          ],
          "name": "stdout"
        }
      ]
    },
    {
      "cell_type": "markdown",
      "metadata": {
        "id": "bp_Iozzpusk3"
      },
      "source": [
        "***ALTERNATIVA 2***"
      ]
    },
    {
      "cell_type": "code",
      "metadata": {
        "colab": {
          "base_uri": "https://localhost:8080/"
        },
        "id": "gd9xXuj5ufle",
        "outputId": "9b824e45-e4a7-4ab7-c5a2-d302186171bc"
      },
      "source": [
        "a = np.array([1,2,3,2,3,4,3,4,5,6])\n",
        "print(a)\n",
        "b = np.array([7,2,10,2,7,4,9,4,9,8])\n",
        "print(b)\n",
        "print(\"---------------\")\n",
        "print(np.intersect1d(a,b))"
      ],
      "execution_count": null,
      "outputs": [
        {
          "output_type": "stream",
          "text": [
            "[1 2 3 2 3 4 3 4 5 6]\n",
            "[ 7  2 10  2  7  4  9  4  9  8]\n",
            "---------------\n",
            "[2 4]\n"
          ],
          "name": "stdout"
        }
      ]
    },
    {
      "cell_type": "markdown",
      "metadata": {
        "id": "Xtbq-6IlQvCl"
      },
      "source": [
        "**5.**\tDel siguiente input:\n",
        "\n",
        "a = np.array([1,2,3,4,5])\n",
        "\n",
        "b = np.array([5,6,7,8,9])\n",
        "\n",
        "Obtener el siguiente output\n",
        "\n",
        "array([1,2,3,4])\n"
      ]
    },
    {
      "cell_type": "code",
      "metadata": {
        "colab": {
          "base_uri": "https://localhost:8080/"
        },
        "id": "gALhOx12RKQE",
        "outputId": "d1922e47-fdd4-4554-8517-824a65ee3532"
      },
      "source": [
        "a = np.array([1,2,3,4,5])\n",
        "print(a)\n",
        "b = np.array([5,6,7,8,9])\n",
        "print(b)\n",
        "print(\"------------------\")\n",
        "c = np.concatenate((a,b))\n",
        "print(c[0:4])"
      ],
      "execution_count": null,
      "outputs": [
        {
          "output_type": "stream",
          "text": [
            "[1 2 3 4 5]\n",
            "[5 6 7 8 9]\n",
            "------------------\n",
            "[1 2 3 4]\n"
          ],
          "name": "stdout"
        }
      ]
    },
    {
      "cell_type": "markdown",
      "metadata": {
        "id": "n_iKCc3_VpxO"
      },
      "source": [
        "**6.** Con el siguiente input:\n",
        "\n",
        "a = np.array([2, 6, 1, 9, 10, 3, 27])\n",
        "\n",
        "Obtener:\n",
        "\n",
        "(array([6, 9, 10]),)\n"
      ]
    },
    {
      "cell_type": "markdown",
      "metadata": {
        "id": "TQqOVUEI6fpK"
      },
      "source": [
        "***ALTERNATIVA 1***"
      ]
    },
    {
      "cell_type": "code",
      "metadata": {
        "colab": {
          "base_uri": "https://localhost:8080/"
        },
        "id": "UYqkYuh0V1hI",
        "outputId": "da3c23d9-342b-4a0f-fb1a-5615e4d8f7f6"
      },
      "source": [
        "a = np.array([2, 6, 1, 9, 10, 3, 27])\n",
        "print(a)\n",
        "print(\"-------------------------------\")\n",
        "print(a[[1,3,4]])"
      ],
      "execution_count": 7,
      "outputs": [
        {
          "output_type": "stream",
          "text": [
            "[ 2  6  1  9 10  3 27]\n",
            "-------------------------------\n",
            "[ 6  9 10]\n"
          ],
          "name": "stdout"
        }
      ]
    },
    {
      "cell_type": "markdown",
      "metadata": {
        "id": "vcxPCjxr6jWA"
      },
      "source": [
        "***ALTERNATIVA 2***"
      ]
    },
    {
      "cell_type": "code",
      "metadata": {
        "colab": {
          "base_uri": "https://localhost:8080/"
        },
        "id": "389o32Bw6SRX",
        "outputId": "bd56f30a-9712-4bb1-cf82-bb1bc4245a45"
      },
      "source": [
        "a = np.array([2, 6, 1, 9, 10, 3, 27])\n",
        "print(a)\n",
        "print(\"-------------------------------\")\n",
        "indices=[1,3,4]\n",
        "print(a[indices])"
      ],
      "execution_count": 6,
      "outputs": [
        {
          "output_type": "stream",
          "text": [
            "[ 2  6  1  9 10  3 27]\n",
            "-------------------------------\n",
            "[ 6  9 10]\n"
          ],
          "name": "stdout"
        }
      ]
    },
    {
      "cell_type": "markdown",
      "metadata": {
        "id": "RXu-rsyfXoaQ"
      },
      "source": [
        "**7.**\tInvertir las filas de un arreglo de matriz 2D\n",
        "\n",
        "arr = np.arange(9).reshape(3,3)\n",
        "\n",
        "Output deseado:\n",
        "\n",
        "###> array([[6, 7, 8],\n",
        "###>       [3, 4, 5],\n",
        "###>       [0, 1, 2]])\n"
      ]
    },
    {
      "cell_type": "code",
      "metadata": {
        "colab": {
          "base_uri": "https://localhost:8080/"
        },
        "id": "ScriUSjbXzZh",
        "outputId": "d5252f37-6f8c-4ef6-e5be-8b6619885536"
      },
      "source": [
        "arr = np.arange(9).reshape(3,3)\n",
        "print(arr)\n",
        "print(\"---------------------------------\")\n",
        "arr[::-1]"
      ],
      "execution_count": null,
      "outputs": [
        {
          "output_type": "stream",
          "text": [
            "[[0 1 2]\n",
            " [3 4 5]\n",
            " [6 7 8]]\n",
            "---------------------------------\n"
          ],
          "name": "stdout"
        },
        {
          "output_type": "execute_result",
          "data": {
            "text/plain": [
              "array([[6, 7, 8],\n",
              "       [3, 4, 5],\n",
              "       [0, 1, 2]])"
            ]
          },
          "metadata": {
            "tags": []
          },
          "execution_count": 64
        }
      ]
    }
  ]
}